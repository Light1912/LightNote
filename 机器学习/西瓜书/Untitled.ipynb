{
 "cells": [
  {
   "cell_type": "code",
   "execution_count": 21,
   "metadata": {},
   "outputs": [],
   "source": [
    "import pandas as pd\n",
    "import numpy as np"
   ]
  },
  {
   "cell_type": "code",
   "execution_count": 2,
   "metadata": {},
   "outputs": [
    {
     "data": {
      "text/html": [
       "<div>\n",
       "<style scoped>\n",
       "    .dataframe tbody tr th:only-of-type {\n",
       "        vertical-align: middle;\n",
       "    }\n",
       "\n",
       "    .dataframe tbody tr th {\n",
       "        vertical-align: top;\n",
       "    }\n",
       "\n",
       "    .dataframe thead th {\n",
       "        text-align: right;\n",
       "    }\n",
       "</style>\n",
       "<table border=\"1\" class=\"dataframe\">\n",
       "  <thead>\n",
       "    <tr style=\"text-align: right;\">\n",
       "      <th></th>\n",
       "      <th>色泽</th>\n",
       "      <th>根蒂</th>\n",
       "      <th>敲声</th>\n",
       "      <th>纹理</th>\n",
       "      <th>脐部</th>\n",
       "      <th>触感</th>\n",
       "      <th>密度</th>\n",
       "      <th>含糖率</th>\n",
       "      <th>好瓜</th>\n",
       "    </tr>\n",
       "    <tr>\n",
       "      <th>编号</th>\n",
       "      <th></th>\n",
       "      <th></th>\n",
       "      <th></th>\n",
       "      <th></th>\n",
       "      <th></th>\n",
       "      <th></th>\n",
       "      <th></th>\n",
       "      <th></th>\n",
       "      <th></th>\n",
       "    </tr>\n",
       "  </thead>\n",
       "  <tbody>\n",
       "    <tr>\n",
       "      <th>1</th>\n",
       "      <td>青绿</td>\n",
       "      <td>蜷缩</td>\n",
       "      <td>浊响</td>\n",
       "      <td>清晰</td>\n",
       "      <td>凹陷</td>\n",
       "      <td>硬滑</td>\n",
       "      <td>0.697</td>\n",
       "      <td>0.460</td>\n",
       "      <td>是</td>\n",
       "    </tr>\n",
       "    <tr>\n",
       "      <th>2</th>\n",
       "      <td>乌黑</td>\n",
       "      <td>蜷缩</td>\n",
       "      <td>沉闷</td>\n",
       "      <td>清晰</td>\n",
       "      <td>凹陷</td>\n",
       "      <td>硬滑</td>\n",
       "      <td>0.774</td>\n",
       "      <td>0.376</td>\n",
       "      <td>是</td>\n",
       "    </tr>\n",
       "    <tr>\n",
       "      <th>3</th>\n",
       "      <td>乌黑</td>\n",
       "      <td>蜷缩</td>\n",
       "      <td>浊响</td>\n",
       "      <td>清晰</td>\n",
       "      <td>凹陷</td>\n",
       "      <td>硬滑</td>\n",
       "      <td>0.634</td>\n",
       "      <td>0.264</td>\n",
       "      <td>是</td>\n",
       "    </tr>\n",
       "    <tr>\n",
       "      <th>4</th>\n",
       "      <td>青绿</td>\n",
       "      <td>蜷缩</td>\n",
       "      <td>沉闷</td>\n",
       "      <td>清晰</td>\n",
       "      <td>凹陷</td>\n",
       "      <td>硬滑</td>\n",
       "      <td>0.608</td>\n",
       "      <td>0.318</td>\n",
       "      <td>是</td>\n",
       "    </tr>\n",
       "    <tr>\n",
       "      <th>5</th>\n",
       "      <td>浅白</td>\n",
       "      <td>蜷缩</td>\n",
       "      <td>浊响</td>\n",
       "      <td>清晰</td>\n",
       "      <td>凹陷</td>\n",
       "      <td>硬滑</td>\n",
       "      <td>0.556</td>\n",
       "      <td>0.215</td>\n",
       "      <td>是</td>\n",
       "    </tr>\n",
       "  </tbody>\n",
       "</table>\n",
       "</div>"
      ],
      "text/plain": [
       "    色泽  根蒂  敲声  纹理  脐部  触感     密度    含糖率 好瓜\n",
       "编号                                         \n",
       "1   青绿  蜷缩  浊响  清晰  凹陷  硬滑  0.697  0.460  是\n",
       "2   乌黑  蜷缩  沉闷  清晰  凹陷  硬滑  0.774  0.376  是\n",
       "3   乌黑  蜷缩  浊响  清晰  凹陷  硬滑  0.634  0.264  是\n",
       "4   青绿  蜷缩  沉闷  清晰  凹陷  硬滑  0.608  0.318  是\n",
       "5   浅白  蜷缩  浊响  清晰  凹陷  硬滑  0.556  0.215  是"
      ]
     },
     "execution_count": 2,
     "metadata": {},
     "output_type": "execute_result"
    }
   ],
   "source": [
    "df = pd.read_csv(\"西瓜数据集3.0.txt\", index_col=\"编号\")\n",
    "df.head()"
   ]
  },
  {
   "cell_type": "code",
   "execution_count": 3,
   "metadata": {},
   "outputs": [],
   "source": [
    "from sklearn.preprocessing import LabelBinarizer, LabelEncoder"
   ]
  },
  {
   "cell_type": "code",
   "execution_count": 4,
   "metadata": {},
   "outputs": [
    {
     "data": {
      "text/plain": [
       "('好瓜', ['色泽', '根蒂', '敲声', '纹理', '脐部', '触感', '密度', '含糖率'])"
      ]
     },
     "execution_count": 4,
     "metadata": {},
     "output_type": "execute_result"
    }
   ],
   "source": [
    "features = list(df.columns)\n",
    "label = '好瓜'\n",
    "features.remove(label)\n",
    "label, features"
   ]
  },
  {
   "cell_type": "code",
   "execution_count": 5,
   "metadata": {},
   "outputs": [],
   "source": [
    "# 标签二值化\n",
    "label_bi = LabelBinarizer()\n",
    "df[label] = label_bi.fit_transform(df[label])\n",
    "# label_bi.classes_  # array(['否', '是'], dtype='<U1')"
   ]
  },
  {
   "cell_type": "code",
   "execution_count": 6,
   "metadata": {},
   "outputs": [],
   "source": [
    "# 加入测试集\n",
    "test = ['青绿', '蜷缩', '浊响', '清晰'\n",
    "       , '凹陷', '硬滑', 0.697, 0.460, -1]\n",
    "df.loc[len(df)+1] = test"
   ]
  },
  {
   "cell_type": "code",
   "execution_count": 7,
   "metadata": {},
   "outputs": [],
   "source": [
    "# 类别编码化\n",
    "for ft in df[features].select_dtypes(['object']):\n",
    "    print()\n",
    "    df[ft] = LabelEncoder().fit_transform(df[ft])\n",
    "    print()"
   ]
  },
  {
   "cell_type": "code",
   "execution_count": 8,
   "metadata": {},
   "outputs": [
    {
     "data": {
      "text/html": [
       "<div>\n",
       "<style scoped>\n",
       "    .dataframe tbody tr th:only-of-type {\n",
       "        vertical-align: middle;\n",
       "    }\n",
       "\n",
       "    .dataframe tbody tr th {\n",
       "        vertical-align: top;\n",
       "    }\n",
       "\n",
       "    .dataframe thead th {\n",
       "        text-align: right;\n",
       "    }\n",
       "</style>\n",
       "<table border=\"1\" class=\"dataframe\">\n",
       "  <thead>\n",
       "    <tr style=\"text-align: right;\">\n",
       "      <th></th>\n",
       "      <th>色泽</th>\n",
       "      <th>根蒂</th>\n",
       "      <th>敲声</th>\n",
       "      <th>纹理</th>\n",
       "      <th>脐部</th>\n",
       "      <th>触感</th>\n",
       "      <th>密度</th>\n",
       "      <th>含糖率</th>\n",
       "      <th>好瓜</th>\n",
       "    </tr>\n",
       "    <tr>\n",
       "      <th>编号</th>\n",
       "      <th></th>\n",
       "      <th></th>\n",
       "      <th></th>\n",
       "      <th></th>\n",
       "      <th></th>\n",
       "      <th></th>\n",
       "      <th></th>\n",
       "      <th></th>\n",
       "      <th></th>\n",
       "    </tr>\n",
       "  </thead>\n",
       "  <tbody>\n",
       "    <tr>\n",
       "      <th>1</th>\n",
       "      <td>2</td>\n",
       "      <td>2</td>\n",
       "      <td>1</td>\n",
       "      <td>1</td>\n",
       "      <td>0</td>\n",
       "      <td>0</td>\n",
       "      <td>0.697</td>\n",
       "      <td>0.460</td>\n",
       "      <td>1</td>\n",
       "    </tr>\n",
       "    <tr>\n",
       "      <th>2</th>\n",
       "      <td>0</td>\n",
       "      <td>2</td>\n",
       "      <td>0</td>\n",
       "      <td>1</td>\n",
       "      <td>0</td>\n",
       "      <td>0</td>\n",
       "      <td>0.774</td>\n",
       "      <td>0.376</td>\n",
       "      <td>1</td>\n",
       "    </tr>\n",
       "    <tr>\n",
       "      <th>3</th>\n",
       "      <td>0</td>\n",
       "      <td>2</td>\n",
       "      <td>1</td>\n",
       "      <td>1</td>\n",
       "      <td>0</td>\n",
       "      <td>0</td>\n",
       "      <td>0.634</td>\n",
       "      <td>0.264</td>\n",
       "      <td>1</td>\n",
       "    </tr>\n",
       "    <tr>\n",
       "      <th>4</th>\n",
       "      <td>2</td>\n",
       "      <td>2</td>\n",
       "      <td>0</td>\n",
       "      <td>1</td>\n",
       "      <td>0</td>\n",
       "      <td>0</td>\n",
       "      <td>0.608</td>\n",
       "      <td>0.318</td>\n",
       "      <td>1</td>\n",
       "    </tr>\n",
       "    <tr>\n",
       "      <th>5</th>\n",
       "      <td>1</td>\n",
       "      <td>2</td>\n",
       "      <td>1</td>\n",
       "      <td>1</td>\n",
       "      <td>0</td>\n",
       "      <td>0</td>\n",
       "      <td>0.556</td>\n",
       "      <td>0.215</td>\n",
       "      <td>1</td>\n",
       "    </tr>\n",
       "  </tbody>\n",
       "</table>\n",
       "</div>"
      ],
      "text/plain": [
       "    色泽  根蒂  敲声  纹理  脐部  触感     密度    含糖率  好瓜\n",
       "编号                                          \n",
       "1    2   2   1   1   0   0  0.697  0.460   1\n",
       "2    0   2   0   1   0   0  0.774  0.376   1\n",
       "3    0   2   1   1   0   0  0.634  0.264   1\n",
       "4    2   2   0   1   0   0  0.608  0.318   1\n",
       "5    1   2   1   1   0   0  0.556  0.215   1"
      ]
     },
     "execution_count": 8,
     "metadata": {},
     "output_type": "execute_result"
    }
   ],
   "source": [
    "df.head()"
   ]
  },
  {
   "cell_type": "code",
   "execution_count": 50,
   "metadata": {},
   "outputs": [],
   "source": [
    "# 训练集\n",
    "train_x = df[df[label]!=-1][features]\n",
    "train_y = df[df[label]!=-1][[label]]\n",
    "# 评估集\n",
    "eval_x = df[df[label]==-1][features]\n",
    "eval_y = df[df[label]==-1][[label]]"
   ]
  },
  {
   "cell_type": "code",
   "execution_count": 82,
   "metadata": {},
   "outputs": [],
   "source": [
    "# 计算P(一列类别取值)\n",
    "def col_prob(col_value, col):\n",
    "    \"\"\"\n",
    "    col_value: int or float\n",
    "    y 传入ndarray\n",
    "    \"\"\"\n",
    "    if col.dtype in ['float32', 'float64']:\n",
    "        # 浮点型特征另外处理\n",
    "        mean = col.mean()\n",
    "        std = col.std()\n",
    "        prob = np.exp(-(col_value-mean)**2/ (2*std**2)) / (np.sqrt(np.pi*2) * std)\n",
    "    # 统计等于y_value 的值的个数\n",
    "    else:\n",
    "        num = np.where(col==col_value, 1, 0).sum()\n",
    "        prob = num / len(col)\n",
    "    return prob"
   ]
  },
  {
   "cell_type": "code",
   "execution_count": 94,
   "metadata": {
    "scrolled": true
   },
   "outputs": [
    {
     "data": {
      "text/plain": [
       "1.9590115494650384"
      ]
     },
     "execution_count": 94,
     "metadata": {},
     "output_type": "execute_result"
    }
   ],
   "source": [
    "col_prob(0.697,train_x[train_y[label]==1][\"密度\"])"
   ]
  },
  {
   "cell_type": "code",
   "execution_count": 95,
   "metadata": {},
   "outputs": [
    {
     "data": {
      "text/plain": [
       "1.2033038984540718"
      ]
     },
     "execution_count": 95,
     "metadata": {},
     "output_type": "execute_result"
    }
   ],
   "source": [
    "col_prob(0.697,train_x[train_y[label]==0][\"密度\"])"
   ]
  },
  {
   "cell_type": "code",
   "execution_count": 97,
   "metadata": {},
   "outputs": [
    {
     "data": {
      "text/plain": [
       "0.7880520952044108"
      ]
     },
     "execution_count": 97,
     "metadata": {},
     "output_type": "execute_result"
    }
   ],
   "source": [
    "col_prob(0.460,train_x[train_y[label]==1][\"含糖率\"])"
   ]
  },
  {
   "cell_type": "code",
   "execution_count": 98,
   "metadata": {},
   "outputs": [
    {
     "data": {
      "text/plain": [
       "0.06622115248436898"
      ]
     },
     "execution_count": 98,
     "metadata": {},
     "output_type": "execute_result"
    }
   ],
   "source": [
    "col_prob(0.460,train_x[train_y[label]==0][\"含糖率\"])"
   ]
  },
  {
   "cell_type": "markdown",
   "metadata": {},
   "source": [
    "# 展示西瓜书中间结果"
   ]
  },
  {
   "cell_type": "code",
   "execution_count": 109,
   "metadata": {
    "scrolled": false
   },
   "outputs": [
    {
     "data": {
      "text/html": [
       "<div>\n",
       "<style scoped>\n",
       "    .dataframe tbody tr th:only-of-type {\n",
       "        vertical-align: middle;\n",
       "    }\n",
       "\n",
       "    .dataframe tbody tr th {\n",
       "        vertical-align: top;\n",
       "    }\n",
       "\n",
       "    .dataframe thead th {\n",
       "        text-align: right;\n",
       "    }\n",
       "</style>\n",
       "<table border=\"1\" class=\"dataframe\">\n",
       "  <thead>\n",
       "    <tr style=\"text-align: right;\">\n",
       "      <th></th>\n",
       "      <th>色泽</th>\n",
       "      <th>根蒂</th>\n",
       "      <th>敲声</th>\n",
       "      <th>纹理</th>\n",
       "      <th>脐部</th>\n",
       "      <th>触感</th>\n",
       "      <th>密度</th>\n",
       "      <th>含糖率</th>\n",
       "      <th>好瓜</th>\n",
       "    </tr>\n",
       "    <tr>\n",
       "      <th>编号</th>\n",
       "      <th></th>\n",
       "      <th></th>\n",
       "      <th></th>\n",
       "      <th></th>\n",
       "      <th></th>\n",
       "      <th></th>\n",
       "      <th></th>\n",
       "      <th></th>\n",
       "      <th></th>\n",
       "    </tr>\n",
       "  </thead>\n",
       "  <tbody>\n",
       "    <tr>\n",
       "      <th>1</th>\n",
       "      <td>青绿</td>\n",
       "      <td>蜷缩</td>\n",
       "      <td>浊响</td>\n",
       "      <td>清晰</td>\n",
       "      <td>凹陷</td>\n",
       "      <td>硬滑</td>\n",
       "      <td>0.697</td>\n",
       "      <td>0.460</td>\n",
       "      <td>是</td>\n",
       "    </tr>\n",
       "    <tr>\n",
       "      <th>2</th>\n",
       "      <td>乌黑</td>\n",
       "      <td>蜷缩</td>\n",
       "      <td>沉闷</td>\n",
       "      <td>清晰</td>\n",
       "      <td>凹陷</td>\n",
       "      <td>硬滑</td>\n",
       "      <td>0.774</td>\n",
       "      <td>0.376</td>\n",
       "      <td>是</td>\n",
       "    </tr>\n",
       "    <tr>\n",
       "      <th>3</th>\n",
       "      <td>乌黑</td>\n",
       "      <td>蜷缩</td>\n",
       "      <td>浊响</td>\n",
       "      <td>清晰</td>\n",
       "      <td>凹陷</td>\n",
       "      <td>硬滑</td>\n",
       "      <td>0.634</td>\n",
       "      <td>0.264</td>\n",
       "      <td>是</td>\n",
       "    </tr>\n",
       "    <tr>\n",
       "      <th>4</th>\n",
       "      <td>青绿</td>\n",
       "      <td>蜷缩</td>\n",
       "      <td>沉闷</td>\n",
       "      <td>清晰</td>\n",
       "      <td>凹陷</td>\n",
       "      <td>硬滑</td>\n",
       "      <td>0.608</td>\n",
       "      <td>0.318</td>\n",
       "      <td>是</td>\n",
       "    </tr>\n",
       "    <tr>\n",
       "      <th>5</th>\n",
       "      <td>浅白</td>\n",
       "      <td>蜷缩</td>\n",
       "      <td>浊响</td>\n",
       "      <td>清晰</td>\n",
       "      <td>凹陷</td>\n",
       "      <td>硬滑</td>\n",
       "      <td>0.556</td>\n",
       "      <td>0.215</td>\n",
       "      <td>是</td>\n",
       "    </tr>\n",
       "    <tr>\n",
       "      <th>6</th>\n",
       "      <td>青绿</td>\n",
       "      <td>稍蜷</td>\n",
       "      <td>浊响</td>\n",
       "      <td>清晰</td>\n",
       "      <td>稍凹</td>\n",
       "      <td>软粘</td>\n",
       "      <td>0.403</td>\n",
       "      <td>0.237</td>\n",
       "      <td>是</td>\n",
       "    </tr>\n",
       "    <tr>\n",
       "      <th>7</th>\n",
       "      <td>乌黑</td>\n",
       "      <td>稍蜷</td>\n",
       "      <td>浊响</td>\n",
       "      <td>稍糊</td>\n",
       "      <td>稍凹</td>\n",
       "      <td>软粘</td>\n",
       "      <td>0.481</td>\n",
       "      <td>0.149</td>\n",
       "      <td>是</td>\n",
       "    </tr>\n",
       "    <tr>\n",
       "      <th>8</th>\n",
       "      <td>乌黑</td>\n",
       "      <td>稍蜷</td>\n",
       "      <td>浊响</td>\n",
       "      <td>清晰</td>\n",
       "      <td>稍凹</td>\n",
       "      <td>硬滑</td>\n",
       "      <td>0.437</td>\n",
       "      <td>0.211</td>\n",
       "      <td>是</td>\n",
       "    </tr>\n",
       "    <tr>\n",
       "      <th>9</th>\n",
       "      <td>乌黑</td>\n",
       "      <td>稍蜷</td>\n",
       "      <td>沉闷</td>\n",
       "      <td>稍糊</td>\n",
       "      <td>稍凹</td>\n",
       "      <td>硬滑</td>\n",
       "      <td>0.666</td>\n",
       "      <td>0.091</td>\n",
       "      <td>否</td>\n",
       "    </tr>\n",
       "    <tr>\n",
       "      <th>10</th>\n",
       "      <td>青绿</td>\n",
       "      <td>硬挺</td>\n",
       "      <td>清脆</td>\n",
       "      <td>清晰</td>\n",
       "      <td>平坦</td>\n",
       "      <td>软粘</td>\n",
       "      <td>0.243</td>\n",
       "      <td>0.267</td>\n",
       "      <td>否</td>\n",
       "    </tr>\n",
       "    <tr>\n",
       "      <th>11</th>\n",
       "      <td>浅白</td>\n",
       "      <td>硬挺</td>\n",
       "      <td>清脆</td>\n",
       "      <td>模糊</td>\n",
       "      <td>平坦</td>\n",
       "      <td>硬滑</td>\n",
       "      <td>0.245</td>\n",
       "      <td>0.057</td>\n",
       "      <td>否</td>\n",
       "    </tr>\n",
       "    <tr>\n",
       "      <th>12</th>\n",
       "      <td>浅白</td>\n",
       "      <td>蜷缩</td>\n",
       "      <td>浊响</td>\n",
       "      <td>模糊</td>\n",
       "      <td>平坦</td>\n",
       "      <td>软粘</td>\n",
       "      <td>0.343</td>\n",
       "      <td>0.099</td>\n",
       "      <td>否</td>\n",
       "    </tr>\n",
       "    <tr>\n",
       "      <th>13</th>\n",
       "      <td>青绿</td>\n",
       "      <td>稍蜷</td>\n",
       "      <td>浊响</td>\n",
       "      <td>稍糊</td>\n",
       "      <td>凹陷</td>\n",
       "      <td>硬滑</td>\n",
       "      <td>0.639</td>\n",
       "      <td>0.161</td>\n",
       "      <td>否</td>\n",
       "    </tr>\n",
       "    <tr>\n",
       "      <th>14</th>\n",
       "      <td>浅白</td>\n",
       "      <td>稍蜷</td>\n",
       "      <td>沉闷</td>\n",
       "      <td>稍糊</td>\n",
       "      <td>凹陷</td>\n",
       "      <td>硬滑</td>\n",
       "      <td>0.657</td>\n",
       "      <td>0.198</td>\n",
       "      <td>否</td>\n",
       "    </tr>\n",
       "    <tr>\n",
       "      <th>15</th>\n",
       "      <td>乌黑</td>\n",
       "      <td>稍蜷</td>\n",
       "      <td>浊响</td>\n",
       "      <td>清晰</td>\n",
       "      <td>稍凹</td>\n",
       "      <td>软粘</td>\n",
       "      <td>0.360</td>\n",
       "      <td>0.370</td>\n",
       "      <td>否</td>\n",
       "    </tr>\n",
       "    <tr>\n",
       "      <th>16</th>\n",
       "      <td>浅白</td>\n",
       "      <td>蜷缩</td>\n",
       "      <td>浊响</td>\n",
       "      <td>模糊</td>\n",
       "      <td>平坦</td>\n",
       "      <td>硬滑</td>\n",
       "      <td>0.593</td>\n",
       "      <td>0.042</td>\n",
       "      <td>否</td>\n",
       "    </tr>\n",
       "    <tr>\n",
       "      <th>17</th>\n",
       "      <td>青绿</td>\n",
       "      <td>蜷缩</td>\n",
       "      <td>沉闷</td>\n",
       "      <td>稍糊</td>\n",
       "      <td>稍凹</td>\n",
       "      <td>硬滑</td>\n",
       "      <td>0.719</td>\n",
       "      <td>0.103</td>\n",
       "      <td>否</td>\n",
       "    </tr>\n",
       "  </tbody>\n",
       "</table>\n",
       "</div>"
      ],
      "text/plain": [
       "    色泽  根蒂  敲声  纹理  脐部  触感     密度    含糖率 好瓜\n",
       "编号                                         \n",
       "1   青绿  蜷缩  浊响  清晰  凹陷  硬滑  0.697  0.460  是\n",
       "2   乌黑  蜷缩  沉闷  清晰  凹陷  硬滑  0.774  0.376  是\n",
       "3   乌黑  蜷缩  浊响  清晰  凹陷  硬滑  0.634  0.264  是\n",
       "4   青绿  蜷缩  沉闷  清晰  凹陷  硬滑  0.608  0.318  是\n",
       "5   浅白  蜷缩  浊响  清晰  凹陷  硬滑  0.556  0.215  是\n",
       "6   青绿  稍蜷  浊响  清晰  稍凹  软粘  0.403  0.237  是\n",
       "7   乌黑  稍蜷  浊响  稍糊  稍凹  软粘  0.481  0.149  是\n",
       "8   乌黑  稍蜷  浊响  清晰  稍凹  硬滑  0.437  0.211  是\n",
       "9   乌黑  稍蜷  沉闷  稍糊  稍凹  硬滑  0.666  0.091  否\n",
       "10  青绿  硬挺  清脆  清晰  平坦  软粘  0.243  0.267  否\n",
       "11  浅白  硬挺  清脆  模糊  平坦  硬滑  0.245  0.057  否\n",
       "12  浅白  蜷缩  浊响  模糊  平坦  软粘  0.343  0.099  否\n",
       "13  青绿  稍蜷  浊响  稍糊  凹陷  硬滑  0.639  0.161  否\n",
       "14  浅白  稍蜷  沉闷  稍糊  凹陷  硬滑  0.657  0.198  否\n",
       "15  乌黑  稍蜷  浊响  清晰  稍凹  软粘  0.360  0.370  否\n",
       "16  浅白  蜷缩  浊响  模糊  平坦  硬滑  0.593  0.042  否\n",
       "17  青绿  蜷缩  沉闷  稍糊  稍凹  硬滑  0.719  0.103  否"
      ]
     },
     "execution_count": 109,
     "metadata": {},
     "output_type": "execute_result"
    }
   ],
   "source": [
    "# 西瓜书p84\n",
    "df = pd.read_csv(\"西瓜数据集3.0.txt\", index_col=\"编号\")\n",
    "df"
   ]
  },
  {
   "cell_type": "code",
   "execution_count": 102,
   "metadata": {},
   "outputs": [],
   "source": [
    "# 计算P(一列类别取值)\n",
    "def col_prob(col_value, col):\n",
    "    \"\"\"\n",
    "    col_value: str, int, float\n",
    "    col pd.DataFrame 的一列\n",
    "    \"\"\"\n",
    "    if col.dtype in ['float32', 'float64']:\n",
    "        # 浮点型特征另外处理\n",
    "        mean = col.mean()\n",
    "        std = col.std()\n",
    "        # 高斯分布\n",
    "        prob = np.exp(-(col_value-mean)**2/ (2*std**2)) / (np.sqrt(np.pi*2) * std)\n",
    "    # 统计等于y_value 的值的个数\n",
    "    else:\n",
    "        num = np.where(col==col_value, 1, 0).sum()\n",
    "        prob = num / len(col)\n",
    "    return prob"
   ]
  },
  {
   "cell_type": "code",
   "execution_count": 140,
   "metadata": {},
   "outputs": [],
   "source": [
    "p_好瓜_是 = col_prob('是',df['好瓜'])\n",
    "p_好瓜_否 = col_prob('否',df['好瓜'])\n",
    "\n",
    "p_青绿_是 = col_prob('青绿',df[df['好瓜']=='是'][\"色泽\"])\n",
    "p_青绿_否 = col_prob('青绿',df[df['好瓜']=='否'][\"色泽\"])\n",
    "\n",
    "p_蜷缩_是 = col_prob('蜷缩',df[df['好瓜']=='是'][\"根蒂\"])\n",
    "p_蜷缩_否 = col_prob('蜷缩',df[df['好瓜']=='否'][\"根蒂\"])\n",
    "\n",
    "p_浊响_是 = col_prob('浊响',df[df['好瓜']=='是'][\"敲声\"])\n",
    "p_浊响_否 = col_prob('浊响',df[df['好瓜']=='否'][\"敲声\"])\n",
    "\n",
    "p_清晰_是 = col_prob('清晰',df[df['好瓜']=='是'][\"纹理\"])\n",
    "p_清晰_否 = col_prob('清晰',df[df['好瓜']=='否'][\"纹理\"])\n",
    "\n",
    "p_凹陷_是 = col_prob('凹陷',df[df['好瓜']=='是'][\"脐部\"])\n",
    "p_凹陷_否 = col_prob('凹陷',df[df['好瓜']=='否'][\"脐部\"])\n",
    "\n",
    "p_硬滑_是 = col_prob('硬滑',df[df['好瓜']=='是'][\"触感\"])\n",
    "p_硬滑_否 = col_prob('硬滑',df[df['好瓜']=='否'][\"触感\"])\n",
    "\n",
    "# 数值型特征\n",
    "p_密度_是 = col_prob(0.697,df[df['好瓜']=='是'][\"密度\"])\n",
    "p_密度_否 = col_prob(0.697,df[df['好瓜']=='否'][\"密度\"])\n",
    "\n",
    "p_含糖率_是 = col_prob(0.460,df[df['好瓜']=='是'][\"含糖率\"])\n",
    "p_含糖率_否 = col_prob(0.460,df[df['好瓜']=='否'][\"含糖率\"])"
   ]
  },
  {
   "cell_type": "code",
   "execution_count": 141,
   "metadata": {
    "scrolled": false
   },
   "outputs": [
    {
     "name": "stdout",
     "output_type": "stream",
     "text": [
      "西瓜书p152 - 153\n",
      "\n",
      "p_好瓜_是 0.471\n",
      "p_好瓜_否 0.529\n",
      "p_青绿_是 0.375\n",
      "p_青绿_否 0.333\n",
      "p_蜷缩_是 0.625 ***\n",
      "p_蜷缩_否 0.333\n",
      "p_浊响_是 0.75\n",
      "p_浊响_否 0.444\n",
      "p_清晰_是 0.875\n",
      "p_清晰_否 0.222\n",
      "p_凹陷_是 0.625 ***\n",
      "p_凹陷_否 0.222\n",
      "p_硬滑_是 0.75\n",
      "p_硬滑_否 0.667\n",
      "p_密度_是 1.959\n",
      "p_密度_否 1.203\n",
      "p_含糖率_是 0.788\n",
      "p_含糖率_否 0.066\n"
     ]
    }
   ],
   "source": [
    "print('西瓜书p152 - 153\\n')\n",
    "print('p_好瓜_是', round(p_好瓜_是,3))\n",
    "print('p_好瓜_否', round(p_好瓜_否,3))\n",
    "\n",
    "print('p_青绿_是', round(p_青绿_是,3))\n",
    "print('p_青绿_否', round(p_青绿_否,3))\n",
    "\n",
    "print('p_蜷缩_是', round(p_蜷缩_是,3), '***')\n",
    "print('p_蜷缩_否', round(p_蜷缩_否,3))\n",
    "\n",
    "print('p_浊响_是', round(p_浊响_是,3))\n",
    "print('p_浊响_否', round(p_浊响_否,3))\n",
    "\n",
    "print('p_清晰_是', round(p_清晰_是,3))\n",
    "print('p_清晰_否', round(p_清晰_否,3))\n",
    "\n",
    "print('p_凹陷_是', round(p_凹陷_是,3), '***')\n",
    "print('p_凹陷_否', round(p_凹陷_否,3))\n",
    "\n",
    "print('p_硬滑_是', round(p_硬滑_是,3))\n",
    "print('p_硬滑_否', round(p_硬滑_否,3))\n",
    "\n",
    "print('p_密度_是', round(p_密度_是,3))\n",
    "print('p_密度_否', round(p_密度_否,3))\n",
    "\n",
    "print('p_含糖率_是', round(p_含糖率_是,3))\n",
    "print('p_含糖率_否', round(p_含糖率_否,3))"
   ]
  },
  {
   "cell_type": "markdown",
   "metadata": {},
   "source": [
    "对比一下可以发现西瓜书有几处错误\n",
    "![朴素贝叶斯计算结果1.png](朴素贝叶斯计算结果1.png)"
   ]
  },
  {
   "cell_type": "code",
   "execution_count": 143,
   "metadata": {},
   "outputs": [],
   "source": [
    "p_是好瓜 = p_好瓜_是 * \\\n",
    "            p_青绿_是 * p_蜷缩_是 * p_浊响_是 * p_清晰_是 * \\\n",
    "            p_凹陷_是 * p_硬滑_是 * p_密度_是 * p_含糖率_是\n",
    "p_否好瓜 = p_好瓜_否 * \\\n",
    "            p_青绿_否 * p_蜷缩_否 * p_浊响_否 * p_清晰_否 * \\\n",
    "            p_凹陷_否 * p_硬滑_否 * p_密度_否 * p_含糖率_否"
   ]
  },
  {
   "cell_type": "code",
   "execution_count": 146,
   "metadata": {},
   "outputs": [
    {
     "data": {
      "text/plain": [
       "(0.05237871892595563, 6.85842403030207e-05)"
      ]
     },
     "execution_count": 146,
     "metadata": {},
     "output_type": "execute_result"
    }
   ],
   "source": [
    "p_是好瓜, p_否好瓜"
   ]
  },
  {
   "cell_type": "code",
   "execution_count": null,
   "metadata": {},
   "outputs": [],
   "source": []
  }
 ],
 "metadata": {
  "kernelspec": {
   "display_name": "Python 3",
   "language": "python",
   "name": "python3"
  },
  "language_info": {
   "codemirror_mode": {
    "name": "ipython",
    "version": 3
   },
   "file_extension": ".py",
   "mimetype": "text/x-python",
   "name": "python",
   "nbconvert_exporter": "python",
   "pygments_lexer": "ipython3",
   "version": "3.7.1"
  },
  "toc": {
   "base_numbering": 1,
   "nav_menu": {},
   "number_sections": true,
   "sideBar": true,
   "skip_h1_title": false,
   "title_cell": "Table of Contents",
   "title_sidebar": "Contents",
   "toc_cell": false,
   "toc_position": {},
   "toc_section_display": true,
   "toc_window_display": true
  }
 },
 "nbformat": 4,
 "nbformat_minor": 2
}
