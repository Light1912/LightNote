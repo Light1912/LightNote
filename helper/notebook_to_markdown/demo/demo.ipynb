{
 "cells": [
  {
   "cell_type": "markdown",
   "id": "b779a8c2-b2de-42ad-b5e9-066782aca5cb",
   "metadata": {},
   "source": [
    "# demo\n",
    "\n",
    "**导包**：导入3个包"
   ]
  },
  {
   "cell_type": "code",
   "execution_count": 27,
   "id": "4346ecd8-b86e-49ce-9a27-410ef5fc6102",
   "metadata": {},
   "outputs": [],
   "source": [
    "import numpy as np\n",
    "import pandas as pd\n",
    "import matplotlib.pyplot as plt"
   ]
  },
  {
   "cell_type": "markdown",
   "id": "ad4694df-c002-4b44-9154-b5ae37ea76fe",
   "metadata": {},
   "source": [
    "查看numpy生成的数组"
   ]
  },
  {
   "cell_type": "code",
   "execution_count": 39,
   "id": "04e41d1c-6777-4e87-b95c-8f03f9900599",
   "metadata": {},
   "outputs": [
    {
     "name": "stdout",
     "output_type": "stream",
     "text": [
      "数组a为:\n"
     ]
    },
    {
     "data": {
      "text/plain": [
       "array([[5, 8, 9],\n",
       "       [5, 0, 0],\n",
       "       [1, 7, 6],\n",
       "       [9, 2, 4]])"
      ]
     },
     "execution_count": 39,
     "metadata": {},
     "output_type": "execute_result"
    }
   ],
   "source": [
    "np.random.seed(1)\n",
    "a = np.random.randint(0, 10, size=(4,3))\n",
    "print(\"数组a为:\")\n",
    "a"
   ]
  },
  {
   "cell_type": "markdown",
   "id": "1c75f0a8-3ed3-4d9e-b299-1108cc5363ec",
   "metadata": {},
   "source": [
    "查看pandas生成的DataFrame"
   ]
  },
  {
   "cell_type": "code",
   "execution_count": 40,
   "id": "fd7caaff-1934-45a9-b61a-d39bd526068c",
   "metadata": {},
   "outputs": [
    {
     "data": {
      "text/html": [
       "<div>\n",
       "<style scoped>\n",
       "    .dataframe tbody tr th:only-of-type {\n",
       "        vertical-align: middle;\n",
       "    }\n",
       "\n",
       "    .dataframe tbody tr th {\n",
       "        vertical-align: top;\n",
       "    }\n",
       "\n",
       "    .dataframe thead th {\n",
       "        text-align: right;\n",
       "    }\n",
       "</style>\n",
       "<table border=\"1\" class=\"dataframe\">\n",
       "  <thead>\n",
       "    <tr style=\"text-align: right;\">\n",
       "      <th></th>\n",
       "      <th>name</th>\n",
       "      <th>age</th>\n",
       "      <th>score</th>\n",
       "    </tr>\n",
       "  </thead>\n",
       "  <tbody>\n",
       "    <tr>\n",
       "      <th>0</th>\n",
       "      <td>tom</td>\n",
       "      <td>22</td>\n",
       "      <td>89</td>\n",
       "    </tr>\n",
       "    <tr>\n",
       "      <th>1</th>\n",
       "      <td>alice</td>\n",
       "      <td>21</td>\n",
       "      <td>92</td>\n",
       "    </tr>\n",
       "    <tr>\n",
       "      <th>2</th>\n",
       "      <td>jack</td>\n",
       "      <td>20</td>\n",
       "      <td>78</td>\n",
       "    </tr>\n",
       "  </tbody>\n",
       "</table>\n",
       "</div>"
      ],
      "text/plain": [
       "    name  age  score\n",
       "0    tom   22     89\n",
       "1  alice   21     92\n",
       "2   jack   20     78"
      ]
     },
     "execution_count": 40,
     "metadata": {},
     "output_type": "execute_result"
    }
   ],
   "source": [
    "df = pd.DataFrame([['tom', 22, 89],\n",
    "                   ['alice', 21, 92],\n",
    "                   ['jack', 20, 78]]\n",
    "                  , columns=[\"name\",\"age\",\"score\"])\n",
    "df"
   ]
  },
  {
   "cell_type": "markdown",
   "id": "311c4fdd-57d7-467c-b023-d611296df066",
   "metadata": {},
   "source": [
    "查看其中一个series"
   ]
  },
  {
   "cell_type": "code",
   "execution_count": 42,
   "id": "e06ac05d-2422-410c-8dd6-78e893b743d5",
   "metadata": {},
   "outputs": [
    {
     "data": {
      "text/plain": [
       "0      tom\n",
       "1    alice\n",
       "2     jack\n",
       "Name: name, dtype: object"
      ]
     },
     "execution_count": 42,
     "metadata": {},
     "output_type": "execute_result"
    }
   ],
   "source": [
    "df['name']"
   ]
  },
  {
   "cell_type": "markdown",
   "id": "492b7ab2-b0a2-47ec-857b-cb0a6db2b3c0",
   "metadata": {},
   "source": [
    "使用matplotlib绘图"
   ]
  },
  {
   "cell_type": "code",
   "execution_count": 43,
   "id": "a48d123e-24b3-4aa6-8deb-66ba9a0e1247",
   "metadata": {},
   "outputs": [
    {
     "data": {
      "image/png": "[encoded data removed]",
      "text/plain": [
       "<Figure size 432x288 with 1 Axes>"
      ]
     },
     "metadata": {
      "needs_background": "light"
     },
     "output_type": "display_data"
    }
   ],
   "source": [
    "x = np.linspace(0, np.pi)\n",
    "y = np.sin(x)\n",
    "plt.plot(y)\n",
    "plt.show()"
   ]
  },
  {
   "cell_type": "markdown",
   "id": "1f2f91f1-3a8f-4ca3-bad4-e859524596fa",
   "metadata": {},
   "source": [
    "如果代码报错"
   ]
  },
  {
   "cell_type": "code",
   "execution_count": 44,
   "id": "293ff5cf-317d-43d6-926e-f5c1d2bc198b",
   "metadata": {},
   "outputs": [
    {
     "ename": "NameError",
     "evalue": "name 'c' is not defined",
     "output_type": "error",
     "traceback": [
      "\u001b[1;31m---------------------------------------------------------------------------\u001b[0m",
      "\u001b[1;31mNameError\u001b[0m                                 Traceback (most recent call last)",
      "\u001b[1;32m~\\AppData\\Local\\Temp/ipykernel_7936/3235490055.py\u001b[0m in \u001b[0;36m<module>\u001b[1;34m\u001b[0m\n\u001b[1;32m----> 1\u001b[1;33m \u001b[0mc\u001b[0m\u001b[1;33m\u001b[0m\u001b[1;33m\u001b[0m\u001b[0m\n\u001b[0m",
      "\u001b[1;31mNameError\u001b[0m: name 'c' is not defined"
     ]
    }
   ],
   "source": [
    "c"
   ]
  }
 ],
 "metadata": {
  "kernelspec": {
   "display_name": "Python 3 (ipykernel)",
   "language": "python",
   "name": "python3"
  },
  "language_info": {
   "codemirror_mode": {
    "name": "ipython",
    "version": 3
   },
   "file_extension": ".py",
   "mimetype": "text/x-python",
   "name": "python",
   "nbconvert_exporter": "python",
   "pygments_lexer": "ipython3",
   "version": "3.9.7"
  }
 },
 "nbformat": 4,
 "nbformat_minor": 5
}
