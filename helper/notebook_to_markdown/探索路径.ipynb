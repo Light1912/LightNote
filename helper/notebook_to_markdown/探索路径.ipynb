{
 "cells": [
  {
   "cell_type": "code",
   "execution_count": 224,
   "id": "a5e34986-80e8-4893-9323-7293db6cf265",
   "metadata": {},
   "outputs": [
    {
     "data": {
      "text/plain": [
       "dict_keys(['cells', 'metadata', 'nbformat', 'nbformat_minor'])"
      ]
     },
     "execution_count": 224,
     "metadata": {},
     "output_type": "execute_result"
    }
   ],
   "source": [
    "import json\n",
    "with open('demo.ipynb', 'r', encoding='utf8') as f:\n",
    "    notebook = json.load(f)\n",
    "notebook.keys()"
   ]
  },
  {
   "cell_type": "markdown",
   "id": "86fcb34b-f6e6-42e8-9122-7d076d43e735",
   "metadata": {},
   "source": [
    "其他的都不重要，主要关注cells。\n",
    "\n",
    "先看前两个cell，可以发现，它们的`cell_type`分别是`markdown`和`code`。\n",
    "\n"
   ]
  },
  {
   "cell_type": "code",
   "execution_count": 225,
   "id": "76fb53c0-6aa1-4b48-93d4-6ef7f618985c",
   "metadata": {},
   "outputs": [
    {
     "name": "stdout",
     "output_type": "stream",
     "text": [
      "cell num: 12\n"
     ]
    }
   ],
   "source": [
    "print(\"cell num: %s\" % len(notebook['cells']))"
   ]
  },
  {
   "cell_type": "code",
   "execution_count": 226,
   "id": "9e4e6fa6-2d74-40a1-bf7d-a47823291a2f",
   "metadata": {},
   "outputs": [
    {
     "data": {
      "text/plain": [
       "{'cell_type': 'markdown',\n",
       " 'id': 'b779a8c2-b2de-42ad-b5e9-066782aca5cb',\n",
       " 'metadata': {},\n",
       " 'source': ['# demo\\n', '\\n', '**导包**：导入3个包']}"
      ]
     },
     "execution_count": 226,
     "metadata": {},
     "output_type": "execute_result"
    }
   ],
   "source": [
    "notebook['cells'][0]"
   ]
  },
  {
   "cell_type": "code",
   "execution_count": 227,
   "id": "e95ea0e2-d562-4b30-a3bc-56b4dd4412a5",
   "metadata": {},
   "outputs": [
    {
     "data": {
      "text/plain": [
       "{'cell_type': 'code',\n",
       " 'execution_count': 27,\n",
       " 'id': '4346ecd8-b86e-49ce-9a27-410ef5fc6102',\n",
       " 'metadata': {},\n",
       " 'outputs': [],\n",
       " 'source': ['import numpy as np\\n',\n",
       "  'import pandas as pd\\n',\n",
       "  'import matplotlib.pyplot as plt']}"
      ]
     },
     "execution_count": 227,
     "metadata": {},
     "output_type": "execute_result"
    }
   ],
   "source": [
    "notebook['cells'][1]"
   ]
  },
  {
   "cell_type": "markdown",
   "id": "1114c191-596b-4140-bdfe-8dc2553f0f5c",
   "metadata": {},
   "source": [
    "markdown cell没有outputs。\n",
    "\n",
    "code cell 要转换成markdown的话需要在代码前后用三引号包起来\n",
    "\n",
    "然后看看cell的outputs都有哪些类型\n",
    "\n",
    "ps: pandas 的输出有 `text/html` 和 `text/plain`。一般不用html，只需要获取plain即可。"
   ]
  },
  {
   "cell_type": "code",
   "execution_count": 233,
   "id": "2b5b9a28-7e9a-49be-b60d-e5f11157dd58",
   "metadata": {},
   "outputs": [
    {
     "data": {
      "text/plain": [
       "{'cell_type': 'code',\n",
       " 'execution_count': 39,\n",
       " 'id': '04e41d1c-6777-4e87-b95c-8f03f9900599',\n",
       " 'metadata': {},\n",
       " 'outputs': [{'name': 'stdout', 'output_type': 'stream', 'text': ['数组a为:\\n']},\n",
       "  {'data': {'text/plain': ['array([[5, 8, 9],\\n',\n",
       "     '       [5, 0, 0],\\n',\n",
       "     '       [1, 7, 6],\\n',\n",
       "     '       [9, 2, 4]])']},\n",
       "   'execution_count': 39,\n",
       "   'metadata': {},\n",
       "   'output_type': 'execute_result'}],\n",
       " 'source': ['np.random.seed(1)\\n',\n",
       "  'a = np.random.randint(0, 10, size=(4,3))\\n',\n",
       "  'print(\"数组a为:\")\\n',\n",
       "  'a']}"
      ]
     },
     "execution_count": 233,
     "metadata": {},
     "output_type": "execute_result"
    }
   ],
   "source": [
    "# text / plain\n",
    "notebook['cells'][3]\n",
    "\n",
    "# text/html 与 text/plain\n",
    "# notebook['cells'][5]"
   ]
  },
  {
   "cell_type": "markdown",
   "id": "3561ac39-342c-4f2d-a759-ff9a764a8562",
   "metadata": {},
   "source": [
    "对于图片格式，需要把字符串保存成图片。\n",
    "\n",
    "同时转换成markdown的图片表示形式，还需要考虑图片路径与markdown导出路径的问题\n",
    "\n",
    "`![](./images/img_name.png)`"
   ]
  },
  {
   "cell_type": "code",
   "execution_count": 239,
   "id": "db995598-e047-4dd9-b0f3-09de3201fffd",
   "metadata": {},
   "outputs": [
    {
     "data": {
      "text/plain": [
       "dict_keys(['data', 'metadata', 'output_type'])"
      ]
     },
     "execution_count": 239,
     "metadata": {},
     "output_type": "execute_result"
    }
   ],
   "source": [
    "# image/png\n",
    "notebook['cells'][9]['outputs'][0].keys()"
   ]
  },
  {
   "cell_type": "code",
   "execution_count": 243,
   "id": "e8f7a898-f5a8-4c18-9c13-8ceee3dffb3e",
   "metadata": {},
   "outputs": [
    {
     "data": {
      "text/plain": [
       "dict_keys(['image/png', 'text/plain'])"
      ]
     },
     "execution_count": 243,
     "metadata": {},
     "output_type": "execute_result"
    }
   ],
   "source": [
    "notebook['cells'][9]['outputs'][0]['data'].keys()"
   ]
  },
  {
   "cell_type": "code",
   "execution_count": 242,
   "id": "6efccdb1-963b-4139-83b2-074bc301f066",
   "metadata": {},
   "outputs": [
    {
     "data": {
      "text/plain": [
       "'iVBORw0KGgoAAAANSUhEUgAAAXQAAAD4CAYAAAD8Zh1EAAAAOXRFWHRTb2Z0d2FyZQBNYXRwbG90bGliIHZlcnNpb24zLjQuMywg'"
      ]
     },
     "execution_count": 242,
     "metadata": {},
     "output_type": "execute_result"
    }
   ],
   "source": [
    "notebook['cells'][9]['outputs'][0]['data']['image/png'][:100]"
   ]
  },
  {
   "cell_type": "markdown",
   "id": "59023f74-0af2-44de-9649-a264422244f5",
   "metadata": {},
   "source": [
    "最终形成以下代码"
   ]
  },
  {
   "cell_type": "code",
   "execution_count": 220,
   "id": "6bc4dc1a-709e-440e-b269-f49ed0785241",
   "metadata": {},
   "outputs": [],
   "source": [
    "import os\n",
    "import json\n",
    "import base64\n",
    "\n",
    "\n",
    "class Notebook:\n",
    "    def __init__(self, notebook_path, markdown_dir=\".\"):\n",
    "        \n",
    "        # 读取.ipynb文件数据\n",
    "        self.cells = list()\n",
    "        with open(notebook_path, 'r', encoding='utf8') as f:\n",
    "            notebook_dict = json.load(f)\n",
    "            for cell_dict in notebook_dict.get('cells'):\n",
    "                self.cells.append(Cell(self, cell_dict))\n",
    "\n",
    "        self.notebook_path = notebook_path\n",
    "        self.notebook_dict = notebook_dict\n",
    "        \n",
    "        self.markdown_name = os.path.split(self.notebook_path)[-1].split('.')[0]\n",
    "        self.markdown_dir = markdown_dir\n",
    "        self.markdown_path = os.path.join(self.markdown_dir, self.markdown_name + \".md\")\n",
    "        \n",
    "        self.img_save_dir = os.path.join(self.markdown_dir, 'images')\n",
    "        self.img_num = 1\n",
    "    \n",
    "    def save_img(self, image):\n",
    "        # 创建图片文件夹\n",
    "        if not os.path.isdir(self.img_save_dir):\n",
    "            os.makedirs(self.img_save_dir)\n",
    "        \n",
    "        # 图片编码为二进制\n",
    "        img_data = base64.b64decode(image)\n",
    "\n",
    "        # img_name == \"demoname_plot_1.png\"\n",
    "        img_name = f\"{self.markdown_name}_plot_{self.img_num}.png\"\n",
    "        img_path = os.path.join(self.img_save_dir, img_name)\n",
    "\n",
    "        with open(img_path, 'wb') as f:\n",
    "            f.write(img_data)\n",
    "        \n",
    "        self.img_num += 1\n",
    "        # img_name = os.path.split(img_path)[-1]\n",
    "        \n",
    "        return f\"![](./images/{img_name})\\n\"\n",
    "    \n",
    "    def text(self):\n",
    "        res = \"\"\n",
    "        for cell in self.cells:\n",
    "            res += cell.text()\n",
    "        return res\n",
    "    \n",
    "    def to_markdown(self, save=False):\n",
    "        text = self.text()\n",
    "        if save:\n",
    "            if not os.path.isdir(self.markdown_dir):\n",
    "                os.makedirs(self.markdown_dir)\n",
    "\n",
    "            with open(self.markdown_path, 'w', encoding='utf8') as f:\n",
    "                f.write(text)\n",
    "        return text\n",
    "\n",
    "class Cell(dict):\n",
    "    def __init__(self, notebook, cell_dict):\n",
    "        super().__init__()\n",
    "        self.update(cell_dict)\n",
    "        \n",
    "        self.notebook = notebook\n",
    "        \n",
    "        # self.cell_type = cell_dict['cell_type']\n",
    "        # self.source = cell_dict['source']\n",
    "        # self.outputs = cell_dict.get('outputs')\n",
    "    def __getattr__(self, key):\n",
    "        return self[key]\n",
    "    \n",
    "    def __setattr__(self, key, value):\n",
    "        self.__dict__[key] = value\n",
    "    \n",
    "    # def __repr__(self):\n",
    "    #    return f\"{self.idx} cell_type: {self.cell_type}\"\n",
    "        \n",
    "    def markdown_text(self):\n",
    "        return \"\".join(self.source) + '\\n'\n",
    "    \n",
    "    def code_text(self, text, code_type='python'):\n",
    "        if text:\n",
    "            return f\"```{code_type}\\n{text}```\\n\"\n",
    "        return \"\"\n",
    "        # text = \"\".join(self.source)\n",
    "        # return f\"```{code_type}\\n{text}\\n```\\n\"\n",
    "    \n",
    "    def outputs_text(self):\n",
    "        text = \"\"\n",
    "        imgs = list()\n",
    "        for output in self.outputs:\n",
    "            # print的输出\n",
    "            if output['output_type'] == 'stream':\n",
    "                text = text +  \"\".join(output['text']) + '\\n'\n",
    "                continue\n",
    "            \n",
    "            # 错误的输出\n",
    "            if output['output_type'] == \"error\":\n",
    "                tmp = \"\\n\".join(output['traceback'])\n",
    "                tmp = re.sub(r'\\x1b.*?m', '', tmp)\n",
    "                text = text + tmp + '\\n'\n",
    "                # text += f\"```\\n{tmp}\\n```\\n\"\n",
    "                continue\n",
    "\n",
    "            output_data = output['data']\n",
    "            \n",
    "            # 图片类型的输出\n",
    "            image = output_data.get('image/png')\n",
    "            if image:\n",
    "                # 保存图片到特定文件夹\n",
    "                # img_data = base64.b64decode(image)\n",
    "                markdown_img = self.notebook.save_img(image)\n",
    "                imgs.append(markdown_img)\n",
    "                continue\n",
    "                \n",
    "            # 文本类型的输出\n",
    "            text_plain = output_data.get('text/plain')\n",
    "            if text_plain:\n",
    "                text = text +  \"\".join(text_plain) + \"\\n\"\n",
    "                \n",
    "        text = self.code_text(text, code_type='')\n",
    "        text += \"\".join(imgs)\n",
    "        \n",
    "        return text\n",
    "    \n",
    "    def text(self):\n",
    "        if self.cell_type == 'markdown':\n",
    "            return self.markdown_text()\n",
    "        \n",
    "        if self.cell_type == \"code\":\n",
    "            c_text = \"\".join(self.source) + \"\\n\"\n",
    "            res = self.code_text(c_text)\n",
    "            \n",
    "            res += self.outputs_text()\n",
    "            return res"
   ]
  },
  {
   "cell_type": "code",
   "execution_count": 221,
   "id": "0a91c41c-0af5-4340-a11c-84abd42260bd",
   "metadata": {},
   "outputs": [],
   "source": [
    "notebook = Notebook('demo.ipynb', 'f/g/ad/')\n",
    "res = notebook.to_markdown(save=True)"
   ]
  },
  {
   "cell_type": "code",
   "execution_count": 223,
   "id": "c9bbd229-f4b8-4111-abf1-6bc95fa8d396",
   "metadata": {},
   "outputs": [
    {
     "name": "stdout",
     "output_type": "stream",
     "text": [
      "# demo\n",
      "\n",
      "**导包**：导入3个包\n",
      "```python\n",
      "import numpy as np\n",
      "import pandas as pd\n",
      "import matplotlib.pyplot as plt\n",
      "```\n",
      "查看numpy生成的数组\n",
      "```python\n",
      "np.random.seed(1)\n",
      "a = np.random.randint(0, 10, size=(4,3))\n",
      "print(\"数组a为:\")\n",
      "a\n",
      "```\n",
      "```\n",
      "数组a为:\n",
      "\n",
      "array([[5, 8, 9],\n",
      "       [5, 0, 0],\n",
      "       [1, 7, 6],\n",
      "       [9, 2, 4]])\n",
      "```\n",
      "查看pandas生成的DataFrame\n",
      "```python\n",
      "df = pd.DataFrame([['tom', 22, 89],\n",
      "                   ['alice', 21, 92],\n",
      "                   ['jack', 20, 78]]\n",
      "                  , columns=[\"name\",\"age\",\"score\"])\n",
      "df\n",
      "```\n",
      "```\n",
      "    name  age  score\n",
      "0    tom   22     89\n",
      "1  alice   21     92\n",
      "2   jack   20     78\n",
      "```\n",
      "查看其中一个series\n",
      "```python\n",
      "df['name']\n",
      "```\n",
      "```\n",
      "0      tom\n",
      "1    alice\n",
      "2     jack\n",
      "Name: name, dtype: object\n",
      "```\n",
      "使用matplotlib绘图\n",
      "```python\n",
      "x = np.linspace(0, np.pi)\n",
      "y = np.sin(x)\n",
      "plt.plot(y)\n",
      "plt.show()\n",
      "```\n",
      "![](./images/demo_plot_1.png)\n",
      "如果代码报错\n",
      "```python\n",
      "c\n",
      "```\n",
      "```\n",
      "---------------------------------------------------------------------------\n",
      "NameError                                 Traceback (most recent call last)\n",
      "~\\AppData\\Local\\Temp/ipykernel_7936/3235490055.py in <module>\n",
      "----> 1 c\n",
      "\n",
      "NameError: name 'c' is not defined\n",
      "```\n",
      "\n"
     ]
    }
   ],
   "source": [
    "print(res)"
   ]
  }
 ],
 "metadata": {
  "kernelspec": {
   "display_name": "Python 3 (ipykernel)",
   "language": "python",
   "name": "python3"
  },
  "language_info": {
   "codemirror_mode": {
    "name": "ipython",
    "version": 3
   },
   "file_extension": ".py",
   "mimetype": "text/x-python",
   "name": "python",
   "nbconvert_exporter": "python",
   "pygments_lexer": "ipython3",
   "version": "3.9.7"
  }
 },
 "nbformat": 4,
 "nbformat_minor": 5
}
