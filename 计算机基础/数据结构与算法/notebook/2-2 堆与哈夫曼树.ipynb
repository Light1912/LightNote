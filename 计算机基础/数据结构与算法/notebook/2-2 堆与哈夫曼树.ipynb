{
 "cells": [
  {
   "cell_type": "markdown",
   "metadata": {},
   "source": [
    "堆就是**优先队列**(Priority Queue)：特殊的队列，取出元素的顺序是依照元素的**优先权**(关键字)的大小，而不是元素进入队列的先后顺序。\n",
    "\n",
    "先通过python的自带库感性认识一下"
   ]
  },
  {
   "cell_type": "code",
   "execution_count": 1,
   "metadata": {},
   "outputs": [],
   "source": [
    "from queue import PriorityQueue\n",
    "q = PriorityQueue()"
   ]
  },
  {
   "cell_type": "code",
   "execution_count": 2,
   "metadata": {},
   "outputs": [],
   "source": [
    "q.put((45,'df'))\n",
    "q.put((12,'bf'))\n",
    "q.put((8,'af'))\n",
    "q.put((24,'cf'))\n",
    "q.put((77,'ef'))"
   ]
  },
  {
   "cell_type": "code",
   "execution_count": 3,
   "metadata": {},
   "outputs": [
    {
     "data": {
      "text/plain": [
       "(8, 'af')"
      ]
     },
     "execution_count": 3,
     "metadata": {},
     "output_type": "execute_result"
    }
   ],
   "source": [
    "q.get(timeout=2)  # 每次取出的元素是最小的"
   ]
  },
  {
   "cell_type": "code",
   "execution_count": 4,
   "metadata": {},
   "outputs": [
    {
     "data": {
      "text/plain": [
       "(12, 'bf')"
      ]
     },
     "execution_count": 4,
     "metadata": {},
     "output_type": "execute_result"
    }
   ],
   "source": [
    "q.get(timeout=2)  # 每次取出的元素是最小的"
   ]
  },
  {
   "cell_type": "markdown",
   "metadata": {},
   "source": [
    "在进行插入删除时，**使用别的数据结构存储让人不满**\n",
    "\n",
    "| .       |插入      |删除    |\n",
    "| --      | --------   | ------     |\n",
    "| 数组     | $o(1)$         | $o(n)$ |\n",
    "| 链表     | $o(1)$        | $o(n)$ |\n",
    "| 有序数组 | $o(n)$ | $o(1)$ |\n",
    "| 有序链表 | $o(n)$       | $o(1)$ |\n",
    "\n",
    "## **使用完全二叉树存储**\n",
    "\n",
    "更应该关注**删除**\n",
    "\n",
    "- 树结点顺序怎么安排？\n",
    "- 树结构怎样？\n",
    "\n",
    "结构性：使用完全二叉树<br>\n",
    "有序性：任一结点的关键字是其子树所有结点的最小值(**最小堆**)，或最大值(**最大堆**)\n",
    "\n",
    "![](img/最小堆.jpg)"
   ]
  },
  {
   "cell_type": "markdown",
   "metadata": {},
   "source": [
    "新插入的位置按照完全二叉树的插法\n",
    "\n",
    "复习：\n",
    "- 自己实现一个可以无限长的最大堆"
   ]
  },
  {
   "cell_type": "markdown",
   "metadata": {},
   "source": [
    "- push(iter, val)\n",
    "- pop(iter)\n",
    "- heapify(iter)\n",
    "- nsmallest(n, iter)"
   ]
  },
  {
   "cell_type": "code",
   "execution_count": 167,
   "metadata": {},
   "outputs": [],
   "source": [
    "class Heap():\n",
    "    def __init__(self):\n",
    "        pass\n",
    "    \n",
    "    @staticmethod\n",
    "    def insert(heap, val):\n",
    "        heap.append(val)\n",
    "        \n",
    "        child = len(heap) - 1\n",
    "        \n",
    "        while (child + 1) // 2 - 1 >= 0:\n",
    "            parent = (child + 1) // 2 - 1\n",
    "            if val < heap[parent]:\n",
    "                heap[child] = heap[parent]\n",
    "                child = parent\n",
    "            else:\n",
    "                break\n",
    "        heap[child] = val\n",
    "        \n",
    "    @staticmethod    \n",
    "    def pop(heap):\n",
    "        if not heap:\n",
    "            raise IndexError('pop from empty heap')\n",
    "        \n",
    "        res = heap[0]\n",
    "        val = heap.pop()\n",
    "        \n",
    "        parent = 0\n",
    "        child = parent * 2 + 1\n",
    "        while child < len(heap):\n",
    "            if child + 1 < len(heap) and heap[child+1] < heap[child]:\n",
    "                child += 1\n",
    "            \n",
    "            if heap[child] < val:\n",
    "                heap[parent] = heap[child]\n",
    "                parent = child\n",
    "            else:\n",
    "                break\n",
    "            \n",
    "            child = parent * 2 + 1\n",
    "        if heap:\n",
    "            heap[parent] = val\n",
    "        return res\n",
    "        "
   ]
  },
  {
   "cell_type": "code",
   "execution_count": 168,
   "metadata": {},
   "outputs": [],
   "source": [
    "heap = []\n",
    "Heap.insert(heap, 5)\n",
    "Heap.insert(heap, 3)\n",
    "Heap.insert(heap, 0)\n",
    "Heap.insert(heap, 1)\n",
    "Heap.insert(heap, 4)\n",
    "Heap.insert(heap, 2)"
   ]
  },
  {
   "cell_type": "code",
   "execution_count": 169,
   "metadata": {},
   "outputs": [
    {
     "data": {
      "text/plain": [
       "[0, 1, 2, 5, 4, 3]"
      ]
     },
     "execution_count": 169,
     "metadata": {},
     "output_type": "execute_result"
    }
   ],
   "source": [
    "heap"
   ]
  },
  {
   "cell_type": "code",
   "execution_count": 175,
   "metadata": {},
   "outputs": [
    {
     "data": {
      "text/plain": [
       "(5, [])"
      ]
     },
     "execution_count": 175,
     "metadata": {},
     "output_type": "execute_result"
    }
   ],
   "source": [
    "Heap.pop(heap), heap"
   ]
  },
  {
   "cell_type": "markdown",
   "metadata": {},
   "source": [
    "## 堆排序"
   ]
  },
  {
   "cell_type": "markdown",
   "metadata": {},
   "source": [
    "https://github.com/python/cpython/blob/3.8/Lib/heapq.py"
   ]
  },
  {
   "cell_type": "code",
   "execution_count": 92,
   "metadata": {},
   "outputs": [],
   "source": [
    "def heap_sort(nums):\n",
    "    \n",
    "    # 把数组调整成堆\n",
    "    for i in range(len(nums)-1, -1, -1):\n",
    "        heapify(nums, i, len(nums))\n",
    "    \n",
    "    # 排序\n",
    "    #  - 把最大的数放到数组最后\n",
    "    #  - 把剩下的数组调整成堆\n",
    "    for i in range(len(nums)-1, -1, -1):\n",
    "        nums[0], nums[i] = nums[i], nums[0]\n",
    "        heapify(nums, 0, i)\n",
    "    \n",
    "def heapify(nums, root, tail):\n",
    "    # root: 根节点\n",
    "    # tail: 对nums[root:tail]进行堆排序\n",
    "    # 最大堆\n",
    "    \n",
    "    val = nums[root]\n",
    "    \n",
    "    while root * 2 + 1 < tail:\n",
    "        child = root * 2 + 1\n",
    "        if child + 1 < tail and nums[child+1] > nums[child]:\n",
    "            child += 1\n",
    "        \n",
    "        if nums[child] > val:\n",
    "            nums[root] = nums[child]\n",
    "            root = child\n",
    "        else:\n",
    "            break\n",
    "    nums[root] = val"
   ]
  },
  {
   "cell_type": "code",
   "execution_count": 98,
   "metadata": {},
   "outputs": [
    {
     "data": {
      "text/plain": [
       "[1, 2, 3, 4, 5, 6, 7, 8, 9]"
      ]
     },
     "execution_count": 98,
     "metadata": {},
     "output_type": "execute_result"
    }
   ],
   "source": [
    "nums = [7, 4, 6, 5, 9, 2, 3, 1, 8]\n",
    "heap_sort(nums)\n",
    "nums"
   ]
  },
  {
   "cell_type": "code",
   "execution_count": 82,
   "metadata": {},
   "outputs": [],
   "source": [
    "# 最小堆\n",
    "class Heap(object):\n",
    "    def __init__(self, capacity=7):\n",
    "        self.size = 0  # 堆当前的元素个数\n",
    "        self.capacity = capacity  # 堆的最大容量\n",
    "        self.elements = [None] * (self.capacity)\n",
    "        self.elements[0] = -float('inf')  # 哨兵\n",
    "        \n",
    "    def isfull(self):\n",
    "        return self.size == self.capacity\n",
    "    \n",
    "    def isempty(self):\n",
    "        return self.size == 0\n",
    "    # 入队\n",
    "    def push(self, val):\n",
    "        if self.full():\n",
    "            raise ValueError('heap full')\n",
    "\n",
    "        self.size += 1\n",
    "        i = self.size\n",
    "        # 加入哨兵可以省一个判断条件使程序效率更高\n",
    "        #while i > 1 and self.elements[i // 2] > val:\n",
    "        while self.elements[i//2] > val:  # 和他爸比较，\n",
    "            self.elements[i] = self.elements[i // 2]  # 比他爸小的话新结点就成为爸爸！\n",
    "            i = i // 2  # 记住他爸的位置\n",
    "            \n",
    "        self.elements[i] = val\n",
    "    \n",
    "    # 出队，因为要保证是完全二叉树，就是拿最后一个元素和第一个元素换\n",
    "    # 然后考虑怎么保证堆的性质\n",
    "    def pop(self):\n",
    "        \n",
    "        if self.empty():\n",
    "            raise ValueError('heap empty')\n",
    "            \n",
    "        res = self.elements[1]  # 保存要出队的最小值\n",
    "        tmp = self.elements[self.size]  # 暂存堆的最后一个元素\n",
    "        self.size -= 1 \n",
    "        parent = 1\n",
    "        \n",
    "        while parent*2 <= self.size:\n",
    "            child = parent*2\n",
    "            if child != self.size and (self.elements[child+1]<self.elements[child]):\n",
    "                child += 1\n",
    "                \n",
    "            if tmp <= self.elements[child]:\n",
    "                break\n",
    "            else:\n",
    "                self.elements[parent] = self.elements[child]\n",
    "                parent = child\n",
    "                \n",
    "        self.elements[parent] = tmp\n",
    "        return res\n",
    "        \n",
    "        \n",
    "        \n",
    "        "
   ]
  },
  {
   "cell_type": "code",
   "execution_count": 83,
   "metadata": {},
   "outputs": [],
   "source": [
    "h = Heap()"
   ]
  },
  {
   "cell_type": "code",
   "execution_count": 84,
   "metadata": {},
   "outputs": [
    {
     "data": {
      "text/plain": [
       "[-inf, 3, 5, 6, 12, 9, 7]"
      ]
     },
     "execution_count": 84,
     "metadata": {},
     "output_type": "execute_result"
    }
   ],
   "source": [
    "# h = Heap()\n",
    "h.put(7)\n",
    "h.put(12)\n",
    "h.put(5)\n",
    "h.put(9)\n",
    "h.put(3)\n",
    "h.put(6)\n",
    "h.elements"
   ]
  },
  {
   "cell_type": "code",
   "execution_count": 86,
   "metadata": {},
   "outputs": [
    {
     "data": {
      "text/plain": [
       "5"
      ]
     },
     "execution_count": 86,
     "metadata": {},
     "output_type": "execute_result"
    }
   ],
   "source": [
    "h.get()"
   ]
  },
  {
   "cell_type": "markdown",
   "metadata": {},
   "source": [
    "##  最大堆的建立\n",
    "\n",
    "最容易想到：一个一个插入$o(nlogn)$\n",
    "\n",
    "堆排序$o(n)$https://www.cnblogs.com/chengxiao/p/6129630.html\n",
    "\n",
    "- 选择最后一个元素的父结点往前遍历，把所有节点都变成堆\n",
    "- 怎么变成堆。\n",
    "\n",
    "```c++\n",
    "void PercDown( MaxHeap H, int p )\n",
    "{ /* 下滤：将H中以H->Data[p]为根的子堆调整为最大堆 */\n",
    "    int Parent, Child;\n",
    "    ElementType X;\n",
    " \n",
    "    X = H->Data[p]; /* 取出根结点存放的值 */\n",
    "    for( Parent=p; Parent*2<=H->Size; Parent=Child ) {\n",
    "        Child = Parent * 2;\n",
    "        if( (Child!=H->Size) && (H->Data[Child]<H->Data[Child+1]) )\n",
    "            Child++;  /* Child指向左右子结点的较大者 */\n",
    "        if( X >= H->Data[Child] ) break; /* 找到了合适位置 */\n",
    "        else  /* 下滤X */\n",
    "            H->Data[Parent] = H->Data[Child];\n",
    "    }\n",
    "    H->Data[Parent] = X;\n",
    "}\n",
    " \n",
    "void BuildHeap( MaxHeap H )\n",
    "{ /* 调整H->Data[]中的元素，使满足最大堆的有序性  */\n",
    "  /* 这里假设所有H->Size个元素已经存在H->Data[]中 */\n",
    " \n",
    "    int i;\n",
    " \n",
    "    /* 从最后一个结点的父节点开始，到根结点1 */\n",
    "    for( i = H->Size/2; i>0; i-- )\n",
    "        PercDown( H, i );\n",
    "}\n",
    "```"
   ]
  },
  {
   "cell_type": "code",
   "execution_count": 124,
   "metadata": {},
   "outputs": [],
   "source": [
    "class MaxHeap():\n",
    "    \"\"\"\n",
    "    无限容量的堆\n",
    "    \"\"\"\n",
    "    def __init__(self, elements=None):\n",
    "        if elements is None:\n",
    "            self.size = 0\n",
    "            self.elements = [float('inf')]\n",
    "        else:\n",
    "            self.size = len(elements)\n",
    "            self.elements = [float('inf')] + elements\n",
    "            \n",
    "            # 从最后一个结点的父结点向前遍历调整顺序\n",
    "            for parent in range(self.size//2 ,-1, -1):\n",
    "                self.adjust(parent)\n",
    "            \n",
    "    def empty(self):\n",
    "        return self.size == 0\n",
    "    \n",
    "    # 以idx为根节点的堆调整为最大堆\n",
    "    def adjust(self, parent):\n",
    "        x = self.elements[parent]  # 取出根节点值\n",
    "        while parent*2 <= self.size:\n",
    "            child = parent*2\n",
    "            if child+1<=self.size and self.elements[child+1] > self.elements[child]:\n",
    "                child += 1\n",
    "            if x < self.elements[child]:  # 如果爹比儿子小，降级\n",
    "                self.elements[parent] = self.elements[child]  # 提拔孩子\n",
    "                parent = child\n",
    "            else:\n",
    "                break\n",
    "        self.elements[parent] = x\n",
    "    \n",
    "    \n",
    "    def put(self, val):\n",
    "        self.size += 1\n",
    "        self.elements.append(val)\n",
    "        i = self.size\n",
    "        while val > self.elements[i//2]:\n",
    "            self.elements[i] = self.elements[i//2]\n",
    "            i = i // 2\n",
    "        self.elements[i] = val\n",
    "        \n",
    "    def get(self):\n",
    "        if self.size == 0:\n",
    "            raise ValueError\n",
    "        \n",
    "        self.size -= 1\n",
    "        res = self.elements[1]\n",
    "        tmp = self.elements.pop()  # 取出最后一个元素\n",
    "        parent = 1\n",
    "        while parent*2 <= self.size:\n",
    "            child = parent*2\n",
    "            if child+1 <= self.size and self.elements[child] < self.elements[child+1]:\n",
    "                child += 1\n",
    "                \n",
    "            if tmp < self.elements[child]:\n",
    "                self.elements[parent] = self.elements[child]\n",
    "                parent = child\n",
    "            else:\n",
    "                break\n",
    "                \n",
    "        if self.size > 0:\n",
    "            self.elements[parent] = tmp\n",
    "        return res"
   ]
  },
  {
   "cell_type": "code",
   "execution_count": 125,
   "metadata": {},
   "outputs": [
    {
     "data": {
      "text/plain": [
       "[inf, 12, 9, 6, 7, 3, 5]"
      ]
     },
     "execution_count": 125,
     "metadata": {},
     "output_type": "execute_result"
    }
   ],
   "source": [
    "h = MaxHeap()\n",
    "h.put(7)\n",
    "h.put(12)\n",
    "h.put(5)\n",
    "h.put(9)\n",
    "h.put(3)\n",
    "h.put(6)\n",
    "h.elements"
   ]
  },
  {
   "cell_type": "code",
   "execution_count": 126,
   "metadata": {},
   "outputs": [],
   "source": [
    "h = MaxHeap([7, 12, 5, 9, 3, 6])"
   ]
  },
  {
   "cell_type": "code",
   "execution_count": 127,
   "metadata": {},
   "outputs": [
    {
     "data": {
      "text/plain": [
       "[inf, 12, 9, 6, 7, 3, 5]"
      ]
     },
     "execution_count": 127,
     "metadata": {},
     "output_type": "execute_result"
    }
   ],
   "source": [
    "h.elements"
   ]
  },
  {
   "cell_type": "code",
   "execution_count": 128,
   "metadata": {},
   "outputs": [
    {
     "data": {
      "text/plain": [
       "12"
      ]
     },
     "execution_count": 128,
     "metadata": {},
     "output_type": "execute_result"
    }
   ],
   "source": [
    "h.get()"
   ]
  },
  {
   "cell_type": "markdown",
   "metadata": {},
   "source": [
    "## 哈夫曼树与哈夫曼编码\n",
    "\n",
    "一篇文章1w个字符，我用8位编码表示一个字符。1w篇文章就要8w位。\n",
    "\n",
    "1byte == 8bit\n",
    "\n",
    "1kb = 1024byte\n",
    "\n",
    "但是字符的出现频率是不一样的。所以引入哈夫曼树。使得空间可以更加节省。不同搜索树，效率是不一样的。\n",
    "\n",
    "**哈夫曼树的定义**\n",
    "\n",
    "**带权路径长度(WPL)**：设二叉树有**n个叶子结点**，每个叶子结点带有权值$w_k$，从根节点到每个叶子结点的长度为$l_k$，则每个叶子结点的带权路径的长度之和就是:\n",
    "\n",
    "$$WPL=\\sum_{k=1}^nw_kl_k$$\n",
    "\n",
    "**最优二叉树**或者**哈夫曼树**就是：**WPL**最小的二叉树\n",
    "\n",
    "![](img/wpl的计算.jpg)"
   ]
  },
  {
   "cell_type": "markdown",
   "metadata": {},
   "source": [
    "### 哈夫曼树的构造\n",
    "\n",
    "每次把**权值最小的两颗二叉树**合并，时间复杂度是$o(nlogn)$\n",
    "\n",
    "哈夫曼树的特点：\n",
    "\n",
    "- 没有度为1的节点\n",
    "- $n$个叶子节点的哈夫曼树共有：$2n-1$个 ($n0 =n2 + 1$)\n",
    "- 哈夫曼树的任意非叶节点的左右子树交换后仍然是哈夫曼树\n",
    "- 同一组权值是否存在不同构的两颗哈夫曼树？ 可能的！\n",
    "\n",
    "### 哈夫曼编码\n",
    "给定一段字符串，如何对字符进行编码，使得该字符串的编码存储空间最小？\n",
    "\n",
    "假设有58个字符，并由a, e, i, s, t, 空格(sp), 换行(nl)这7个字符出现次数不同。如何对这7个字符进行编码，使得总编码空间更少？\n",
    "\n",
    "怎么进行不等长编码？如何避免二义性\n",
    "\n",
    "满足一个条件：**前缀码：任何字符的编码都不是另一个字符编码的前缀**！可以无二义解码\n",
    "\n",
    "**二叉树用于编码**\n",
    "\n",
    "- 左右分支0,1\n",
    "- 字符只在叶节点上：这点能保证没有前缀的问题\n",
    "\n",
    "**例子：对下面这个进行哈夫曼编码**\n",
    "\n",
    "| $C_i$ | a  | e  | i  | s | t | sp | nl |\n",
    "| ----- | -  | -  | -  | - | - | -- | -- |\n",
    "| $f_i$ | 10 | 15 | 12 | 3 | 4 | 13 | 1  |\n",
    "\n"
   ]
  },
  {
   "cell_type": "markdown",
   "metadata": {},
   "source": [
    "**明天的复习计划**：\n",
    "\n",
    "- 实现无限的最小堆，并用来验证huffman树"
   ]
  },
  {
   "cell_type": "code",
   "execution_count": 136,
   "metadata": {},
   "outputs": [],
   "source": [
    "class Node():\n",
    "    def __init__(self, weight=None, val=None):\n",
    "        self.weight = weight\n",
    "        self.val = val\n",
    "        self.left = None\n",
    "        self.right = None\n",
    "        \n",
    "        self.code = None  # 哈夫曼二进制编码\n",
    "        \n",
    "class MinHeap():\n",
    "    def __init__(self):\n",
    "        self.elements = [Node(-float('inf'))]\n",
    "        self.size = 0\n",
    "    \n",
    "    def put(self, node):\n",
    "        \n",
    "        self.elements.append(None)\n",
    "        self.size += 1\n",
    "        child = self.size\n",
    "        while child // 2 > 0:\n",
    "            parent = child // 2\n",
    "            if node.weight < self.elements[parent].weight:\n",
    "                self.elements[child] = self.elements[parent]\n",
    "                child = parent\n",
    "            else:\n",
    "                break\n",
    "        self.elements[child] = node\n",
    "        \n",
    "    def get(self):\n",
    "        if self.size == 0:\n",
    "            raise ValueError('堆已空')\n",
    "            \n",
    "        node = self.elements[1]  # 取出开头的元素\n",
    "        self.size -= 1  # 更新size\n",
    "        \n",
    "        if self.size == 0:\n",
    "            return node\n",
    "        \n",
    "        tmp = self.elements.pop()  # 把最后一个元素取出来\n",
    "        parent = 1\n",
    "        \n",
    "        while parent * 2 <= self.size:\n",
    "            child = parent * 2\n",
    "            if child + 1 <= self.size and self.elements[child+1].weight <  self.elements[child].weight:\n",
    "                child += 1\n",
    "            if self.elements[child].weight < tmp.weight:\n",
    "                self.elements[parent] = self.elements[child]\n",
    "                parent = child\n",
    "            else:\n",
    "                break\n",
    "        self.elements[parent] = tmp\n",
    "        return node\n",
    "    \n",
    "    def __iter__(self):\n",
    "        for i in range(1, self.size+1):\n",
    "            yield (self.elements[i].weight, self.elements[i].val)\n",
    "        "
   ]
  },
  {
   "cell_type": "code",
   "execution_count": 130,
   "metadata": {
    "scrolled": true
   },
   "outputs": [
    {
     "data": {
      "text/plain": [
       "[(1, 'nl'), (4, 't'), (3, 's'), (15, 'e'), (10, 'a'), (13, 'sp'), (12, 'i')]"
      ]
     },
     "execution_count": 130,
     "metadata": {},
     "output_type": "execute_result"
    }
   ],
   "source": [
    "h = MinHeap()\n",
    "h.put(Node(10, 'a'))\n",
    "h.put(Node(15, 'e'))\n",
    "h.put(Node(12, 'i'))\n",
    "h.put(Node(3, 's'))\n",
    "h.put(Node(4, 't'))\n",
    "h.put(Node(13, 'sp'))\n",
    "h.put(Node(1, 'nl'))\n",
    "list(h)"
   ]
  },
  {
   "cell_type": "code",
   "execution_count": 131,
   "metadata": {},
   "outputs": [],
   "source": [
    "from collections import deque\n",
    "class HuffmanTree():\n",
    "    def __init__(self, heap):\n",
    "        \"\"\"\n",
    "        data : list [(10, 'a'), (15, 'e'), ...] 第一个元素是字符出现的次数，第二个元素是字符\n",
    "        \"\"\"\n",
    "        self.root = None\n",
    "        self.heap = heap  # 堆内的元素是节点\n",
    "        \n",
    "        for i in range(1, self.heap.size):  # 注意此处不遍历到最后一个节点，否则会溢出\n",
    "            node = Node()\n",
    "            node.left = self.heap.get()  # 从最小堆汇总删除一个节点作为左子节点\n",
    "            node.right = self.heap.get()  # 注意i的范围，否则在这里可能会溢出\n",
    "            node.weight = node.left.weight + node.right.weight\n",
    "            \n",
    "            self.heap.put(node)  # 把合并后的节点再加回去\n",
    "        \n",
    "        self.root = self.heap.get()  # 遍历到最后一步的时候，堆内只剩下最后一个元素了。此时获得根节点\n",
    "        \n",
    "        \n",
    "        \n",
    "    def pre_order_leaf(self, node):\n",
    "        \"\"\"\n",
    "        前序遍历叶子结点\n",
    "        \"\"\"\n",
    "        if node:\n",
    "#             if node is not self.root:\n",
    "#                 node.code = ''\n",
    "            #if node.left is None and node.right is None:\n",
    "            yield (node.weight, node.val)\n",
    "            \n",
    "            yield from self.pre_order_leaf(node.left)\n",
    "            yield from self.pre_order_leaf(node.right)\n",
    "            \n",
    "            \n",
    "    def level_order(self):\n",
    "        q = deque()\n",
    "        q.append(self.root)\n",
    "        while q:\n",
    "            node = q.popleft()\n",
    "            if node.left:\n",
    "                q.append(node.left)\n",
    "            if node.right:\n",
    "                q.append(node.right)\n",
    "            yield (node.weight, node.val)"
   ]
  },
  {
   "cell_type": "code",
   "execution_count": 132,
   "metadata": {},
   "outputs": [],
   "source": [
    "ht = HuffmanTree(h)"
   ]
  },
  {
   "cell_type": "code",
   "execution_count": 133,
   "metadata": {},
   "outputs": [
    {
     "data": {
      "text/plain": [
       "[(58, None),\n",
       " (25, None),\n",
       " (33, None),\n",
       " (12, 'i'),\n",
       " (13, 'sp'),\n",
       " (15, 'e'),\n",
       " (18, None),\n",
       " (8, None),\n",
       " (10, 'a'),\n",
       " (4, 't'),\n",
       " (4, None),\n",
       " (1, 'nl'),\n",
       " (3, 's')]"
      ]
     },
     "execution_count": 133,
     "metadata": {},
     "output_type": "execute_result"
    }
   ],
   "source": [
    "list(ht.level_order())"
   ]
  },
  {
   "cell_type": "markdown",
   "metadata": {},
   "source": [
    "## 验证o(nlogn) 与 o(nlogk)差别"
   ]
  },
  {
   "cell_type": "code",
   "execution_count": 130,
   "metadata": {},
   "outputs": [],
   "source": [
    "import time\n",
    "import heapq\n",
    "import random"
   ]
  },
  {
   "cell_type": "code",
   "execution_count": 131,
   "metadata": {},
   "outputs": [],
   "source": [
    "n = 100000\n",
    "k = 5\n",
    "nums = []\n",
    "for i in range(n):\n",
    "    nums.append(random.randint(0, n))\n",
    "    \n",
    "nums1 = nums.copy()\n",
    "nums2 = nums"
   ]
  },
  {
   "cell_type": "code",
   "execution_count": 132,
   "metadata": {},
   "outputs": [
    {
     "name": "stdout",
     "output_type": "stream",
     "text": [
      "0.0229s\n"
     ]
    }
   ],
   "source": [
    "start = time.time()\n",
    "nums1.sort()\n",
    "print(\"%.4fs\"%(time.time()-start))"
   ]
  },
  {
   "cell_type": "code",
   "execution_count": 133,
   "metadata": {},
   "outputs": [
    {
     "name": "stdout",
     "output_type": "stream",
     "text": [
      "0.0030s\n"
     ]
    }
   ],
   "source": [
    "start = time.time()\n",
    "heapq.heapify(nums2)\n",
    "print(\"%.4fs\"%(time.time()-start))"
   ]
  },
  {
   "cell_type": "code",
   "execution_count": 136,
   "metadata": {},
   "outputs": [
    {
     "data": {
      "text/plain": [
       "[1, 2]"
      ]
     },
     "execution_count": 136,
     "metadata": {},
     "output_type": "execute_result"
    }
   ],
   "source": [
    "heapq.nsmallest(2, [1, 2, 4, 8, 3])"
   ]
  },
  {
   "cell_type": "code",
   "execution_count": null,
   "metadata": {},
   "outputs": [],
   "source": []
  }
 ],
 "metadata": {
  "kernelspec": {
   "display_name": "Python 3",
   "language": "python",
   "name": "python3"
  },
  "language_info": {
   "codemirror_mode": {
    "name": "ipython",
    "version": 3
   },
   "file_extension": ".py",
   "mimetype": "text/x-python",
   "name": "python",
   "nbconvert_exporter": "python",
   "pygments_lexer": "ipython3",
   "version": "3.7.1"
  },
  "toc": {
   "base_numbering": 1,
   "nav_menu": {},
   "number_sections": true,
   "sideBar": true,
   "skip_h1_title": false,
   "title_cell": "Table of Contents",
   "title_sidebar": "Contents",
   "toc_cell": false,
   "toc_position": {
    "height": "calc(100% - 180px)",
    "left": "10px",
    "top": "150px",
    "width": "256px"
   },
   "toc_section_display": true,
   "toc_window_display": true
  },
  "varInspector": {
   "cols": {
    "lenName": 16,
    "lenType": 16,
    "lenVar": 40
   },
   "kernels_config": {
    "python": {
     "delete_cmd_postfix": "",
     "delete_cmd_prefix": "del ",
     "library": "var_list.py",
     "varRefreshCmd": "print(var_dic_list())"
    },
    "r": {
     "delete_cmd_postfix": ") ",
     "delete_cmd_prefix": "rm(",
     "library": "var_list.r",
     "varRefreshCmd": "cat(var_dic_list()) "
    }
   },
   "types_to_exclude": [
    "module",
    "function",
    "builtin_function_or_method",
    "instance",
    "_Feature"
   ],
   "window_display": false
  }
 },
 "nbformat": 4,
 "nbformat_minor": 2
}
