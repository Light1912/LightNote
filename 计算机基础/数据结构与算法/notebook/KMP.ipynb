{
 "cells": [
  {
   "cell_type": "markdown",
   "metadata": {},
   "source": [
    "- 前缀表怎么建立\n",
    "    - 最长公共前后缀是什么：`ABCDFGABC`的最长公共前后缀是什么\n",
    "- 有了前缀表怎么匹配"
   ]
  },
  {
   "cell_type": "markdown",
   "metadata": {},
   "source": [
    "### 已知前缀表求索引\n",
    "\n",
    "考虑特例\n",
    "\n",
    "- 什么时候停止，停止时返回什么\n",
    "- 如果不同的时候，j应该回退到哪里。特例是什么情况"
   ]
  },
  {
   "cell_type": "code",
   "execution_count": 2,
   "metadata": {},
   "outputs": [
    {
     "name": "stdout",
     "output_type": "stream",
     "text": [
      "start idx:  3\n"
     ]
    }
   ],
   "source": [
    "text = 'aabaabaay'\n",
    "pattern = 'aabaay'\n",
    "prefix = [0, 1, 0, 1, 2, 0]\n",
    "i = 0\n",
    "j = 0\n",
    "while i < len(text):\n",
    "    if pattern[j] == text[i]:\n",
    "        i += 1\n",
    "        j += 1\n",
    "        if j == len(pattern):\n",
    "            print('start idx: ', i - j)\n",
    "            break\n",
    "            \n",
    "    else:\n",
    "        if j == 0:\n",
    "            i += 1\n",
    "        else:\n",
    "            j = prefix[j-1]\n",
    "            \n"
   ]
  },
  {
   "cell_type": "markdown",
   "metadata": {},
   "source": [
    "### 构建前缀表"
   ]
  },
  {
   "cell_type": "code",
   "execution_count": 15,
   "metadata": {},
   "outputs": [],
   "source": [
    "pat = 'aabcaabaacaabcaaa'\n",
    "prefix = [0] * len(pat)\n",
    "i = j = 0\n",
    "while i < len(pat)-1:\n",
    "    if pat[i+1] == pat[j]:\n",
    "        i += 1\n",
    "        j += 1\n",
    "        prefix[i] = j\n",
    "    else:\n",
    "        if j == 0:\n",
    "            i += 1\n",
    "        else:\n",
    "            j = prefix[j-1]"
   ]
  },
  {
   "cell_type": "markdown",
   "metadata": {},
   "source": [
    "```c++\n",
    "void Getnext(int next[],String t)\n",
    "{\n",
    "   int j=0,k=-1;\n",
    "   next[0]=-1;\n",
    "   while(j<t.length-1)\n",
    "   {\n",
    "      if(k == -1 || t[j] == t[k])\n",
    "      {\n",
    "         j++;k++;\n",
    "         next[j] = k;\n",
    "      }\n",
    "      else k = next[k];//此语句是这段代码最反人类的地方，如果你一下子就能看懂，那么请允许我称呼你一声大神！\n",
    "   }\n",
    "}\n",
    "```"
   ]
  },
  {
   "cell_type": "code",
   "execution_count": 6,
   "metadata": {},
   "outputs": [
    {
     "name": "stdout",
     "output_type": "stream",
     "text": [
      "[0, 1, 0, 1, 2]\n"
     ]
    }
   ],
   "source": [
    "pattern = 'aabaa'\n",
    "prefix = [0] * len(pattern)\n",
    "i = 1\n",
    "j = 0\n",
    "while i < len(pattern):\n",
    "    if pattern[i] == pattern[j]:\n",
    "        \n",
    "        j += 1\n",
    "        prefix[i] = j\n",
    "        i += 1\n",
    "    else:\n",
    "        if j == 0:  # 说明没救了\n",
    "            # prefix[i] = 0\n",
    "            i += 1\n",
    "        else:\n",
    "            j = prefix[j-1]\n",
    "            \n",
    "print(prefix)"
   ]
  },
  {
   "cell_type": "code",
   "execution_count": 16,
   "metadata": {},
   "outputs": [
    {
     "data": {
      "text/plain": [
       "[0, 1, 0, 0, 1, 2, 3, 1, 2, 0, 1, 2, 3, 4, 5, 6, 2]"
      ]
     },
     "execution_count": 16,
     "metadata": {},
     "output_type": "execute_result"
    }
   ],
   "source": [
    "prefix"
   ]
  },
  {
   "cell_type": "markdown",
   "metadata": {},
   "source": [
    "### KMP算法\n",
    "前缀表的特性\n",
    "\n",
    "什么是最长公共前后缀\n",
    "aabaaa\n",
    "\n",
    "难点：\n",
    "\n",
    "- 前缀表构建时：如果不同，j-=1 的含义是什么？ 例子 `aabaaa`\n",
    "- 搜索时：`j = prefix[j-1]` 的含义  例子 `text = 'aabaabaay' pattern='aabaay'`"
   ]
  },
  {
   "cell_type": "code",
   "execution_count": 1,
   "metadata": {},
   "outputs": [],
   "source": [
    "def kmp(text, pattern):\n",
    "    def get_prefix(pattern):\n",
    "        prefix = [0] * len(pattern)\n",
    "        i = 1\n",
    "        j = 0\n",
    "        while i < len(pattern):\n",
    "            if pattern[i] == pattern[j]:\n",
    "                j += 1\n",
    "                prefix[i] = j\n",
    "                i += 1\n",
    "            else:\n",
    "                if j == 0:\n",
    "                    prefix[i] = 0\n",
    "                    i += 1\n",
    "                else:\n",
    "                    j -= 1\n",
    "        return prefix\n",
    "    \n",
    "    def search(text, pattern, prefix):\n",
    "        i = 0\n",
    "        j = 0\n",
    "        while i < len(text):\n",
    "            if pattern[j] == text[i]:\n",
    "                i += 1\n",
    "                j += 1\n",
    "                if j == len(pattern):\n",
    "                    return i - j\n",
    "\n",
    "            else:\n",
    "                if j == 0:\n",
    "                    i += 1\n",
    "                else:\n",
    "                    j = prefix[j-1]\n",
    "        return -1\n",
    "    prefix = get_prefix(pattern)\n",
    "    return search(text, pattern, prefix)"
   ]
  },
  {
   "cell_type": "code",
   "execution_count": 2,
   "metadata": {
    "scrolled": true
   },
   "outputs": [
    {
     "data": {
      "text/plain": [
       "7"
      ]
     },
     "execution_count": 2,
     "metadata": {},
     "output_type": "execute_result"
    }
   ],
   "source": [
    "text = 'cccvvfzzcchx'\n",
    "pattern = 'zcc'\n",
    "kmp(text, pattern)"
   ]
  },
  {
   "cell_type": "code",
   "execution_count": null,
   "metadata": {},
   "outputs": [],
   "source": []
  }
 ],
 "metadata": {
  "kernelspec": {
   "display_name": "Python 3",
   "language": "python",
   "name": "python3"
  },
  "language_info": {
   "codemirror_mode": {
    "name": "ipython",
    "version": 3
   },
   "file_extension": ".py",
   "mimetype": "text/x-python",
   "name": "python",
   "nbconvert_exporter": "python",
   "pygments_lexer": "ipython3",
   "version": "3.7.1"
  },
  "toc": {
   "base_numbering": 1,
   "nav_menu": {},
   "number_sections": true,
   "sideBar": true,
   "skip_h1_title": false,
   "title_cell": "Table of Contents",
   "title_sidebar": "Contents",
   "toc_cell": false,
   "toc_position": {
    "height": "calc(100% - 180px)",
    "left": "10px",
    "top": "150px",
    "width": "268.8px"
   },
   "toc_section_display": true,
   "toc_window_display": true
  },
  "varInspector": {
   "cols": {
    "lenName": 16,
    "lenType": 16,
    "lenVar": 40
   },
   "kernels_config": {
    "python": {
     "delete_cmd_postfix": "",
     "delete_cmd_prefix": "del ",
     "library": "var_list.py",
     "varRefreshCmd": "print(var_dic_list())"
    },
    "r": {
     "delete_cmd_postfix": ") ",
     "delete_cmd_prefix": "rm(",
     "library": "var_list.r",
     "varRefreshCmd": "cat(var_dic_list()) "
    }
   },
   "types_to_exclude": [
    "module",
    "function",
    "builtin_function_or_method",
    "instance",
    "_Feature"
   ],
   "window_display": false
  }
 },
 "nbformat": 4,
 "nbformat_minor": 2
}
