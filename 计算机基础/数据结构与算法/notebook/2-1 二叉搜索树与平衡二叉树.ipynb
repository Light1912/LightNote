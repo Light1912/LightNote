{
 "cells": [
  {
   "cell_type": "markdown",
   "metadata": {},
   "source": [
    "# 树\n",
    "- 子树：一个节点和它下面的东西就是一颗子树\n",
    "- 度：儿子个数\n",
    "- 树的度：度最大的度数\n",
    "- 节点层数level，如果根节点是1，层数就是根节点到你的边树\n",
    "- 树的深度\n",
    "\n",
    "## 树的表示方法\n",
    "左儿子右兄弟，能把树转成二叉树\n",
    "- 什么是完全二叉树\n",
    "- 什么是满二叉树\n",
    "- 二叉树第$k$层最大节点数$2^{k-1}$\n",
    "- $k$层二叉树的最大节点数$2^{k}-1$\n",
    "- 叶结点数$n_0$与有两个儿子的结点数$n_2$的关系：$n_0+n_1+n_2 = 2n_2 + n_1 + 1$则$n_2 = n_0 - 1$\n",
    "## 二叉树\n",
    "\n",
    "- 顺序存储完全二叉树，节点的左儿子怎么访问\n",
    "- 先序: abcde fghij 中序 cbeda hgijf求树\n",
    "\n",
    "## 二叉搜索树\n",
    "左小右大\n",
    "\n",
    "**复习索引**：\n",
    "- 插入\n",
    " - 树是否为空\n",
    " - 循环实现\n",
    " - 递归实现\n",
    "- **删除**\n",
    "- 遍历的递归写法和非递归写法\n",
    "- 查找一个元素\n",
    "- 查找最大最小值\n"
   ]
  },
  {
   "cell_type": "code",
   "execution_count": null,
   "metadata": {},
   "outputs": [],
   "source": [
    "def delete(self, val):\n",
    "    def _del(val, node):\n",
    "        if node is None:\n",
    "            raise ValueError('not found')\n",
    "        elif val < node.val:\n",
    "            node.left = _del(val, node.left)\n",
    "        elif val > node.val:\n",
    "            node.right = _del(val, node.right)\n",
    "        else:\n",
    "            if node.right and node.left:\n",
    "                tmp = self.findmin(node.right)\n",
    "                node.val = tmp.val\n",
    "                node.right = _del(node.val, node.right)\n",
    "            else:\n",
    "                tmp = node\n",
    "                if node.left is None:\n",
    "                    node = node.right\n",
    "                else:\n",
    "                    node = node.left\n",
    "                del tmp\n",
    "                "
   ]
  },
  {
   "cell_type": "code",
   "execution_count": 17,
   "metadata": {},
   "outputs": [],
   "source": [
    "from queue import Queue"
   ]
  },
  {
   "cell_type": "code",
   "execution_count": 42,
   "metadata": {
    "code_folding": []
   },
   "outputs": [],
   "source": [
    "from queue import Queue\n",
    "class Node(object):\n",
    "    def __init__(self, val):\n",
    "        self.val = val\n",
    "        # self.parent = None\n",
    "        self.left = None\n",
    "        self.right = None\n",
    "        \n",
    "class BinaryTree(object):\n",
    "    def __init__(self):\n",
    "        # 4 种遍历方法\n",
    "        self.root = None\n",
    "        \n",
    "    # 递归\n",
    "    def pre_order(self, tree):\n",
    "        if tree:\n",
    "            yield tree.val\n",
    "            yield from self.pre_order(tree.left)\n",
    "            yield from self.pre_order(tree.right)\n",
    "        \n",
    "    def in_order(self, tree):\n",
    "        if tree:\n",
    "            yield from self.in_order(tree.left)\n",
    "            yield tree.val\n",
    "            yield from self.in_order(tree.right)\n",
    "            \n",
    "    def post_order(self, tree):\n",
    "        if tree:\n",
    "            yield from self.post_order(tree.left)\n",
    "            yield from self.post_order(tree.right) \n",
    "            yield tree.val\n",
    "            \n",
    "    # 非递归\n",
    "    def pre_order2(self):\n",
    "        tree = self.root\n",
    "        stack = []\n",
    "        while tree or stack:\n",
    "            while tree:\n",
    "                yield tree.val\n",
    "                stack.append(tree)\n",
    "                tree = tree.left\n",
    "                \n",
    "            if stack:\n",
    "                tree = stack.pop()\n",
    "                tree = tree.right\n",
    "                \n",
    "    def in_order2(self):\n",
    "        tree = self.root\n",
    "        stack = []\n",
    "        while tree or stack:\n",
    "            while tree:\n",
    "                stack.append(tree)\n",
    "                tree = tree.left\n",
    "                \n",
    "            if stack:\n",
    "                tree = stack.pop()\n",
    "                yield tree.val\n",
    "                tree = tree.right\n",
    "                \n",
    "# 二叉树后序非递归过于难受，不写了！   \n",
    "    def post_order2(self):\n",
    "        tree = self.root\n",
    "        stack = [tree]\n",
    "        pre = None\n",
    "        while stack:\n",
    "            cur = stack[-1]\n",
    "            if (not cur.left and not cur.right) or (pre and (pre==cur.left or pre==cur.right)):\n",
    "                print(cur.val, end=' ')\n",
    "                pre = stack.pop()\n",
    "            else:\n",
    "                if cur.right:\n",
    "                    stack.append(cur.right)\n",
    "                if cur.left:\n",
    "                    stack.append(cur.left)\n",
    "        print()\n",
    "    \n",
    "    def level_order(self):\n",
    "        if self.root is None:\n",
    "            return None\n",
    "        q = Queue()\n",
    "        q.put(self.root)\n",
    "        \n",
    "        while not q.empty():\n",
    "            tree = q.get()\n",
    "            yield tree.val\n",
    "\n",
    "            if tree.left:\n",
    "                q.put(tree.left)\n",
    "            if tree.right:\n",
    "                q.put(tree.right)\n",
    "            \n",
    "    \n",
    "    def find(self, val):\n",
    "        if self.root is None:\n",
    "            return None\n",
    "        tree = self.root\n",
    "        \n",
    "        while tree:\n",
    "            if val > tree.val:\n",
    "                tree = tree.right\n",
    "            elif val < tree.val:\n",
    "                tree = tree.left\n",
    "            else:\n",
    "                return tree\n",
    "        return None\n",
    "    \n",
    "    \n",
    "    def findmax(self, tree=None):\n",
    "        tree = self.root if tree is None else tree\n",
    "        if tree is None:\n",
    "            return None\n",
    "        \n",
    "        while tree.right:\n",
    "            tree = tree.right\n",
    "        return tree\n",
    "    \n",
    "    def findmin(self, tree=None):\n",
    "        tree = self.root if tree is None else tree\n",
    "        if tree is None:\n",
    "            return None\n",
    "        \n",
    "        while tree.left:\n",
    "            tree = tree.left\n",
    "        return tree\n",
    "    \n",
    "    # 插入非递归实现\n",
    "#     def insert(self, val):\n",
    "#         if self.root is None:\n",
    "#             self.root = Node(val)\n",
    "#             return\n",
    "        \n",
    "#         tree = self.root\n",
    "#         while True:\n",
    "#             if val > tree.val:\n",
    "#                 if tree.right:  # 查看树的右节点，如果存在了，就继续往下\n",
    "#                     tree = tree.right\n",
    "#                 else:\n",
    "#                     tree.right = Node(val)\n",
    "#                     break\n",
    "#             else:\n",
    "#                 if tree.left:\n",
    "#                     tree = tree.left\n",
    "#                 else:\n",
    "#                     tree.left = Node(val)\n",
    "#                     break\n",
    "                        \n",
    "    def delete(self, val):\n",
    "        \"\"\"\n",
    "        首先需要找到当前节点，然后再删除\n",
    "        要考虑的三种情况\n",
    "        \n",
    "        - 左右子节点都有：左子树最大值或右子树最小值替换节点。然后删除右子树最小值。为什么（2个性质）？\n",
    "          + 右子树最小值成为节点可以使节点仍然满足左小右大\n",
    "          + 右子树最小值至多只有一个节点\n",
    "          + 左子树最大值的分析同上\n",
    "          \n",
    "        - 没有子节点：直接删除\n",
    "        - 只有左或右子节点，代替后删除子节点 tree = tree.right\n",
    "        \"\"\"\n",
    "        def _delete(val, tree):\n",
    "            if tree is None:\n",
    "                raise ValueError('val not found.')\n",
    "            elif val < tree.val:\n",
    "                tree.left = _delete(val, tree.left)\n",
    "            elif val > tree.val:\n",
    "                tree.right = _delete(val, tree.right)\n",
    "            else:  # 找到了要删除的节点\n",
    "                if tree.left and tree.right:  # 该节点有左右子树\n",
    "                    tmp = self.findmin(tree.right)\n",
    "                    tree.val = tmp.val\n",
    "                    tree.right = _delete(tree.val, tmp)\n",
    "                else:  # 该节点有一个或无节点\n",
    "                    tmp = tree\n",
    "                    if tree.left:  # 有右节点或无节点\n",
    "                        tree = tree.left\n",
    "                    else: # 有左节点或无节点\n",
    "                        tree = tree.right\n",
    "                    del tmp\n",
    "            return tree\n",
    "        \n",
    "        self.root = _delete(val, self.root)\n",
    "    \n",
    "    def __iter__(self):\n",
    "        yield from self.in_order(self.root)\n",
    "        \n",
    "    def __contains__(self, val):\n",
    "        if self.find(val):\n",
    "            return True\n",
    "        else:\n",
    "            return False\n",
    "        \n",
    "    #递归写法\n",
    "    def insert(self, node, val):\n",
    "        if not node:\n",
    "            return Node(val)\n",
    "        \n",
    "        if val < node.val:\n",
    "            node.left = self.insert(node.left, val)\n",
    "        else:\n",
    "            node.right = self.insert(node.right, val)\n",
    "        return node\n",
    "\n",
    "\n",
    "    # 输出二叉树的叶子结点\n",
    "    \n",
    "    # 求二叉树的高度"
   ]
  },
  {
   "cell_type": "markdown",
   "metadata": {},
   "source": [
    "![](img/BST1.jpg)"
   ]
  },
  {
   "cell_type": "code",
   "execution_count": 50,
   "metadata": {},
   "outputs": [],
   "source": [
    "root = None"
   ]
  },
  {
   "cell_type": "code",
   "execution_count": 51,
   "metadata": {},
   "outputs": [],
   "source": [
    "t = BinaryTree()"
   ]
  },
  {
   "cell_type": "code",
   "execution_count": 52,
   "metadata": {},
   "outputs": [
    {
     "name": "stdout",
     "output_type": "stream",
     "text": [
      "[1, 2, 3]\n"
     ]
    }
   ],
   "source": [
    "# 测试插入\n",
    "t.root = t.insert(t.root, 2)\n",
    "t.root = t.insert(t.root, 1)\n",
    "t.root = t.insert(t.root, 3)\n",
    "print(list(t))"
   ]
  },
  {
   "cell_type": "code",
   "execution_count": 53,
   "metadata": {},
   "outputs": [
    {
     "name": "stdout",
     "output_type": "stream",
     "text": [
      "1 3 2 \n"
     ]
    }
   ],
   "source": [
    "# 测试后序非递归遍历\n",
    "t.post_order2()"
   ]
  },
  {
   "cell_type": "code",
   "execution_count": 54,
   "metadata": {},
   "outputs": [
    {
     "data": {
      "text/plain": [
       "[1, 2, 3]"
      ]
     },
     "execution_count": 54,
     "metadata": {},
     "output_type": "execute_result"
    }
   ],
   "source": [
    "list(t.in_order2())"
   ]
  },
  {
   "cell_type": "code",
   "execution_count": 36,
   "metadata": {
    "scrolled": true
   },
   "outputs": [
    {
     "data": {
      "text/plain": [
       "[8, 4, 9, 2, 6, 5, 7]"
      ]
     },
     "execution_count": 36,
     "metadata": {},
     "output_type": "execute_result"
    }
   ],
   "source": [
    "# 测试中序遍历\n",
    "list(t.level_order())"
   ]
  },
  {
   "cell_type": "code",
   "execution_count": 37,
   "metadata": {
    "scrolled": true
   },
   "outputs": [
    {
     "data": {
      "text/plain": [
       "(4, 9, 2)"
      ]
     },
     "execution_count": 37,
     "metadata": {},
     "output_type": "execute_result"
    }
   ],
   "source": [
    "# 测试查找某个值，最大最小值\n",
    "t.find(4).val, t.findmax().val, t.findmin().val"
   ]
  },
  {
   "cell_type": "code",
   "execution_count": 41,
   "metadata": {},
   "outputs": [
    {
     "data": {
      "text/plain": [
       "[8]"
      ]
     },
     "execution_count": 41,
     "metadata": {},
     "output_type": "execute_result"
    }
   ],
   "source": [
    "# 测试删除节点\n",
    "t.delete(9)\n",
    "list(t.in_order(t.root))"
   ]
  },
  {
   "cell_type": "markdown",
   "metadata": {},
   "source": [
    "# 平衡二叉树\n",
    "\n",
    "**平衡因子**(Balance Factor, BF): $BF(T) = h_L-h_R$\n",
    "\n",
    "$h_L$和$h_R$分别为$T$的左右子树的高度。\n",
    "\n",
    "**平衡二叉树**(Balanced Binary Tree)：空树，或任一结点左、右子树高度差的绝对值不超过1，即$|BF(T)| \\le 1$\n",
    "\n",
    "平衡二叉树的高度能达到$log_2n$吗？\n",
    "\n",
    "设$n_h$是高度为$h$的平衡二叉树的最小结点数。结点数最少时：\n",
    "\n",
    "$$n_h = n_{h-1} + n_{h-2} + 1$$\n",
    "\n",
    "$n_h = F_{h+2}-1$\n",
    "\n",
    "$$F_i = \\frac{1}{\\sqrt{5}}\\left(\\frac{1+\\sqrt{5}}{2}\\right)^{l} - 1$$\n",
    "\n",
    "$$n_h = \\frac{1}{\\sqrt{5}}\\left(\\frac{1+\\sqrt{5}}{2}\\right)^{h+2} - 1$$\n",
    "\n",
    "$$log{n_h} = (h+2)c$$"
   ]
  },
  {
   "cell_type": "markdown",
   "metadata": {},
   "source": [
    "## **平衡二叉树的调整**\n",
    "\n",
    "**发现者**，**麻烦节点**\n",
    "RR旋转跟LL旋转都比较简单\n",
    "\n",
    "只需要调整最下方被破坏的节点\n"
   ]
  },
  {
   "cell_type": "code",
   "execution_count": 55,
   "metadata": {},
   "outputs": [],
   "source": [
    "a = set([1, 2, 3])"
   ]
  },
  {
   "cell_type": "code",
   "execution_count": 56,
   "metadata": {},
   "outputs": [
    {
     "data": {
      "text/plain": [
       "{1, 2, 3}"
      ]
     },
     "execution_count": 56,
     "metadata": {},
     "output_type": "execute_result"
    }
   ],
   "source": [
    "a"
   ]
  },
  {
   "cell_type": "code",
   "execution_count": 57,
   "metadata": {},
   "outputs": [
    {
     "name": "stdout",
     "output_type": "stream",
     "text": [
      "1\n",
      "2\n",
      "3\n"
     ]
    }
   ],
   "source": [
    "for i in a:\n",
    "    print(i)"
   ]
  },
  {
   "cell_type": "code",
   "execution_count": 58,
   "metadata": {},
   "outputs": [],
   "source": [
    "a = [1, 2, 3]"
   ]
  },
  {
   "cell_type": "code",
   "execution_count": 59,
   "metadata": {},
   "outputs": [
    {
     "data": {
      "text/plain": [
       "[]"
      ]
     },
     "execution_count": 59,
     "metadata": {},
     "output_type": "execute_result"
    }
   ],
   "source": [
    "a[4:]"
   ]
  },
  {
   "cell_type": "code",
   "execution_count": null,
   "metadata": {},
   "outputs": [],
   "source": []
  }
 ],
 "metadata": {
  "kernelspec": {
   "display_name": "Python 3",
   "language": "python",
   "name": "python3"
  },
  "language_info": {
   "codemirror_mode": {
    "name": "ipython",
    "version": 3
   },
   "file_extension": ".py",
   "mimetype": "text/x-python",
   "name": "python",
   "nbconvert_exporter": "python",
   "pygments_lexer": "ipython3",
   "version": "3.7.1"
  },
  "toc": {
   "base_numbering": 1,
   "nav_menu": {},
   "number_sections": true,
   "sideBar": true,
   "skip_h1_title": false,
   "title_cell": "Table of Contents",
   "title_sidebar": "Contents",
   "toc_cell": false,
   "toc_position": {},
   "toc_section_display": true,
   "toc_window_display": false
  },
  "varInspector": {
   "cols": {
    "lenName": 16,
    "lenType": 16,
    "lenVar": 40
   },
   "kernels_config": {
    "python": {
     "delete_cmd_postfix": "",
     "delete_cmd_prefix": "del ",
     "library": "var_list.py",
     "varRefreshCmd": "print(var_dic_list())"
    },
    "r": {
     "delete_cmd_postfix": ") ",
     "delete_cmd_prefix": "rm(",
     "library": "var_list.r",
     "varRefreshCmd": "cat(var_dic_list()) "
    }
   },
   "types_to_exclude": [
    "module",
    "function",
    "builtin_function_or_method",
    "instance",
    "_Feature"
   ],
   "window_display": false
  }
 },
 "nbformat": 4,
 "nbformat_minor": 2
}
