{
 "cells": [
  {
   "cell_type": "markdown",
   "metadata": {},
   "source": [
    "## 线性表顺序存储实现\n",
    "\n",
    "- 查找 : 什么样的情况下停止查找？\n",
    "- 插入 : 需要考虑哪两个错误条件？怎么移动数据？最后一行代码是什么？\n",
    "- 删除 : 什么情况下删除不合法？怎么移动数据？最后一行代码是什么？"
   ]
  },
  {
   "cell_type": "code",
   "execution_count": 138,
   "metadata": {},
   "outputs": [],
   "source": [
    "class LNode():\n",
    "    def __init__(self, max_size=5):\n",
    "        # 存储数据的数组(理解为list，且list里装的元素可以多种多样) 如[student_1, student_2, ... , student_n]\n",
    "        self.max_size = max_size\n",
    "        self.__data = [None for i in range(max_size)] \n",
    "        self.last = -1  # 指向最后一个元素的指针\n",
    "    # 2 查找\n",
    "    def find(self, value):\n",
    "        idx = 0\n",
    "        # 没找到数据或者 索引小于last则继续循环\n",
    "        while self.__data[idx] != value and idx <= self.last:\n",
    "            idx += 1\n",
    "        if idx > self.last:\n",
    "            raise ValueError(\"表中无该元素\")  # 如索引超出范围，则返回-1表示没找到\n",
    "        else:\n",
    "            return idx  # 若找到则返回索引\n",
    "        \n",
    "    # 3 插入 在第i(0 <= idx <= max_size)的位置上插入一个值为X的新元素\n",
    "    def insert(self, idx, value):\n",
    "        \"\"\"\n",
    "        pos 插入的位置\n",
    "        value 插入的值\n",
    "        \"\"\"\n",
    "        if self.last+1 == self.max_size:\n",
    "            raise IndexError('表满')\n",
    "        \n",
    "        if idx < 0 or idx > self.last+1:\n",
    "            raise IndexError('位置不合法')\n",
    "        \n",
    "        for i in range(self.last, idx-1, -1):\n",
    "            self.__data[i+1] = self.__data[i]\n",
    "            \n",
    "        self.__data[idx] = value\n",
    "        self.last += 1\n",
    "    \n",
    "    def delete(self, idx):\n",
    "        \n",
    "        if idx < 0 or idx > self.last:\n",
    "            raise IndexError('索引超出范围')\n",
    "            \n",
    "        for i in range(idx, self.last):\n",
    "            self.__data[i] = self.__data[i+1]\n",
    "        \n",
    "        self.last -= 1\n",
    "    \n",
    "    def __len__(self):\n",
    "        return self.last+1\n",
    "    \n",
    "    def __str__(self):\n",
    "        res = self.__data[:self.last+1]\n",
    "        return str(res)\n",
    "    \n",
    "    def __contains__(self, value):\n",
    "        for i in range(self.last+1):\n",
    "            if self.__data[i] == value:\n",
    "                return True\n",
    "        return False"
   ]
  },
  {
   "cell_type": "code",
   "execution_count": 139,
   "metadata": {},
   "outputs": [
    {
     "name": "stdout",
     "output_type": "stream",
     "text": [
      "[]\n"
     ]
    }
   ],
   "source": [
    "l = LNode()\n",
    "print(l)"
   ]
  },
  {
   "cell_type": "code",
   "execution_count": 144,
   "metadata": {},
   "outputs": [
    {
     "name": "stdout",
     "output_type": "stream",
     "text": [
      "['5a']\n"
     ]
    }
   ],
   "source": [
    "l.insert(0, '5a')\n",
    "print(l)"
   ]
  },
  {
   "cell_type": "code",
   "execution_count": 141,
   "metadata": {},
   "outputs": [
    {
     "name": "stdout",
     "output_type": "stream",
     "text": [
      "[]\n"
     ]
    }
   ],
   "source": [
    "l.delete(0)\n",
    "print(l)"
   ]
  },
  {
   "cell_type": "markdown",
   "metadata": {},
   "source": [
    "## 线性表链式存储"
   ]
  },
  {
   "cell_type": "code",
   "execution_count": 369,
   "metadata": {},
   "outputs": [],
   "source": [
    "# 链表\n",
    "class LNode():\n",
    "    def __init__(self, values=None):\n",
    "        \"\"\"\n",
    "        values : list， 以list里元素作为value进行初始化\n",
    "        \"\"\"\n",
    "        self.value = None\n",
    "        self.next = None\n",
    "        \n",
    "        \n",
    "        if values is not None:\n",
    "            node = self\n",
    "            for value in values:\n",
    "                next_node = Node()\n",
    "                next_node.value = value\n",
    "\n",
    "                node.next = next_node\n",
    "                node = next_node\n",
    "    \n",
    "    def findkth(self, idx):\n",
    "        node = self.next\n",
    "        while idx > 0 and node is not None:\n",
    "            idx -= 1\n",
    "            node = node.next\n",
    "            \n",
    "        if idx == 0:\n",
    "            return node\n",
    "        else:\n",
    "            return None\n",
    "    \n",
    "    # 找到返回结点，找不到返回空值\n",
    "    def find(self, value):\n",
    "        node = self.next\n",
    "        while node is not None and node.value != value:\n",
    "            node = node.next\n",
    "        return node\n",
    "        \n",
    "    \n",
    "    def insert(self, value, pos=0):\n",
    "        if pos == 0:\n",
    "            prev_node = self\n",
    "        else:\n",
    "            prev_node = self.findkth(pos-1)\n",
    "            \n",
    "        if prev_node is None:\n",
    "            raise IndexError('插入位置非法')\n",
    "            \n",
    "        new_node = LNode()\n",
    "        new_node.value = value\n",
    "        new_node.next = prev_node.next\n",
    "\n",
    "        prev_node.next = new_node\n",
    "    \n",
    "    def delete(self, pos):\n",
    "        if pos == 0:\n",
    "            prev_node = self\n",
    "        else:\n",
    "            prev_node = self.findkth(pos-1)\n",
    "        if prev_node is None or prev_node.next is None:\n",
    "            raise IndexError('删除位置非法')\n",
    "            \n",
    "        node = prev_node.next\n",
    "        prev_node.next = node.next\n",
    "        del node\n",
    "    \n",
    "    def __iter__(self):\n",
    "        node = self.next\n",
    "        while node is not None:\n",
    "            yield node.value\n",
    "            node = node.next\n",
    "    \n",
    "    def __len__(self):\n",
    "        length = 0\n",
    "        node = self.next\n",
    "        while node:\n",
    "            length+=1\n",
    "            node = node.next\n",
    "        return length\n",
    "        # 更明智的做法是随时记录链表的长度\n",
    "        # return self.length\n",
    "        \n",
    "    def __str__(self):\n",
    "        res = ''\n",
    "        for element in iter(self):\n",
    "            res += str(element) + ' '\n",
    "        return res\n",
    "    \n",
    "    def __contains__(self, value):\n",
    "        node = self.next\n",
    "        while node is not None:\n",
    "            if node.value == value:\n",
    "                return True\n",
    "            node = node.next\n",
    "        return False"
   ]
  },
  {
   "cell_type": "code",
   "execution_count": 386,
   "metadata": {},
   "outputs": [
    {
     "data": {
      "text/plain": [
       "['apple', 'banana', 'cat']"
      ]
     },
     "execution_count": 386,
     "metadata": {},
     "output_type": "execute_result"
    }
   ],
   "source": [
    "l = LNode(['apple', 'banana', 'cat'])\n",
    "list(l)"
   ]
  },
  {
   "cell_type": "code",
   "execution_count": 387,
   "metadata": {},
   "outputs": [
    {
     "name": "stdout",
     "output_type": "stream",
     "text": [
      "pear apple cow banana cat \n"
     ]
    }
   ],
   "source": [
    "l.insert('pear', 0)\n",
    "l.insert('cow',2)\n",
    "print(l)"
   ]
  },
  {
   "cell_type": "code",
   "execution_count": 388,
   "metadata": {},
   "outputs": [
    {
     "name": "stdout",
     "output_type": "stream",
     "text": [
      "Wall time: 0 ns\n"
     ]
    },
    {
     "data": {
      "text/plain": [
       "['pear', 'apple', 'cow', 'banana', 'cat']"
      ]
     },
     "execution_count": 388,
     "metadata": {},
     "output_type": "execute_result"
    }
   ],
   "source": [
    "%%time\n",
    "list(l)"
   ]
  },
  {
   "cell_type": "code",
   "execution_count": 389,
   "metadata": {},
   "outputs": [
    {
     "data": {
      "text/plain": [
       "True"
      ]
     },
     "execution_count": 389,
     "metadata": {},
     "output_type": "execute_result"
    }
   ],
   "source": [
    "'cat' in l"
   ]
  },
  {
   "cell_type": "code",
   "execution_count": 390,
   "metadata": {},
   "outputs": [
    {
     "name": "stdout",
     "output_type": "stream",
     "text": [
      "pear cow banana cat \n"
     ]
    }
   ],
   "source": [
    "l.delete(1)\n",
    "print(l)"
   ]
  },
  {
   "cell_type": "code",
   "execution_count": 391,
   "metadata": {},
   "outputs": [
    {
     "data": {
      "text/plain": [
       "<__main__.Node at 0x1644994ad30>"
      ]
     },
     "execution_count": 391,
     "metadata": {},
     "output_type": "execute_result"
    }
   ],
   "source": [
    "l.find('cat')"
   ]
  },
  {
   "cell_type": "code",
   "execution_count": 392,
   "metadata": {},
   "outputs": [
    {
     "data": {
      "text/plain": [
       "<__main__.LNode at 0x1644994abe0>"
      ]
     },
     "execution_count": 392,
     "metadata": {},
     "output_type": "execute_result"
    }
   ],
   "source": [
    "l.findkth(1)"
   ]
  }
 ],
 "metadata": {
  "kernelspec": {
   "display_name": "Python 3",
   "language": "python",
   "name": "python3"
  },
  "language_info": {
   "codemirror_mode": {
    "name": "ipython",
    "version": 3
   },
   "file_extension": ".py",
   "mimetype": "text/x-python",
   "name": "python",
   "nbconvert_exporter": "python",
   "pygments_lexer": "ipython3",
   "version": "3.7.1"
  },
  "toc": {
   "base_numbering": 1,
   "nav_menu": {},
   "number_sections": true,
   "sideBar": true,
   "skip_h1_title": false,
   "title_cell": "Table of Contents",
   "title_sidebar": "Contents",
   "toc_cell": false,
   "toc_position": {},
   "toc_section_display": true,
   "toc_window_display": true
  },
  "varInspector": {
   "cols": {
    "lenName": 16,
    "lenType": 16,
    "lenVar": 40
   },
   "kernels_config": {
    "python": {
     "delete_cmd_postfix": "",
     "delete_cmd_prefix": "del ",
     "library": "var_list.py",
     "varRefreshCmd": "print(var_dic_list())"
    },
    "r": {
     "delete_cmd_postfix": ") ",
     "delete_cmd_prefix": "rm(",
     "library": "var_list.r",
     "varRefreshCmd": "cat(var_dic_list()) "
    }
   },
   "types_to_exclude": [
    "module",
    "function",
    "builtin_function_or_method",
    "instance",
    "_Feature"
   ],
   "window_display": false
  }
 },
 "nbformat": 4,
 "nbformat_minor": 2
}
