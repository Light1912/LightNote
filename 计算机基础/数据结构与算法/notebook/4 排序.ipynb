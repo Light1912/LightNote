{
 "cells": [
  {
   "cell_type": "code",
   "execution_count": 2,
   "metadata": {},
   "outputs": [],
   "source": [
    "def check_sort(sort_function):\n",
    "    arrays = [[7, 4, 6, 5, 9, 2, 3, 1, 8],\n",
    "              [1, 3, 2]*2]\n",
    "    for arr in arrays:\n",
    "        print(arr)\n",
    "        print(sort_function(arr))"
   ]
  },
  {
   "cell_type": "markdown",
   "metadata": {},
   "source": [
    "# 冒泡排序"
   ]
  },
  {
   "cell_type": "code",
   "execution_count": 72,
   "metadata": {},
   "outputs": [],
   "source": [
    "arr = [7, 4, 6, 5, 9, 2, 3, 1, 8]"
   ]
  },
  {
   "cell_type": "code",
   "execution_count": 76,
   "metadata": {},
   "outputs": [],
   "source": [
    "def bubble_sort(arr):\n",
    "    # arr = arr.copy()  # 多这一句为保证不改变原来的列表\n",
    "    for i in range(len(arr)):\n",
    "        for j in range(i+1, len(arr)):\n",
    "            if arr[i] > arr[j]:\n",
    "                arr[i], arr[j] = arr[j], arr[i]\n",
    "    return arr"
   ]
  },
  {
   "cell_type": "code",
   "execution_count": 95,
   "metadata": {},
   "outputs": [
    {
     "name": "stdout",
     "output_type": "stream",
     "text": [
      "[7, 4, 6, 5, 9, 2, 3, 1, 8]\n",
      "[1, 2, 3, 4, 5, 6, 7, 8, 9]\n"
     ]
    }
   ],
   "source": [
    "check_sort(bubble_sort)"
   ]
  },
  {
   "cell_type": "markdown",
   "metadata": {},
   "source": [
    "#  插入排序\n",
    "类似打斗地主，摸牌的过程\n",
    "https://www.runoob.com/python3/python-insertion-sort.html\n",
    "\n",
    "![](img/4-insertionSort.gif)\n",
    "\n",
    "- 几层循环\n",
    "- 循环用while 还是 for"
   ]
  },
  {
   "cell_type": "code",
   "execution_count": 5,
   "metadata": {},
   "outputs": [],
   "source": [
    "def insertion_sort(arr):\n",
    "    for i in range(1, len(arr)):\n",
    "        while i > 0 and arr[i-1] > arr[i]:\n",
    "            arr[i-1], arr[i] = arr[i], arr[i-1]\n",
    "            i = i - 1\n",
    "    return arr"
   ]
  },
  {
   "cell_type": "code",
   "execution_count": 6,
   "metadata": {},
   "outputs": [
    {
     "name": "stdout",
     "output_type": "stream",
     "text": [
      "[7, 4, 6, 5, 9, 2, 3, 1, 8]\n",
      "[1, 2, 3, 4, 5, 6, 7, 8, 9]\n",
      "[1, 3, 2, 1, 3, 2]\n",
      "[1, 1, 2, 2, 3, 3]\n"
     ]
    }
   ],
   "source": [
    "check_sort(insertion_sort)"
   ]
  },
  {
   "cell_type": "markdown",
   "metadata": {},
   "source": [
    "# 希尔排序\n",
    "\n",
    "5 间隔排序后，进行3间隔排序以后，不会破坏5间隔的有序性\n",
    "\n",
    "希尔排序的复杂度$\\Theta(n^2)$\n",
    "\n",
    "增量不互质（无公因子），小的间隔可能完全不起作用"
   ]
  },
  {
   "cell_type": "code",
   "execution_count": 11,
   "metadata": {},
   "outputs": [],
   "source": [
    "def shell_sort(arr):\n",
    "    gap = len(arr) // 2\n",
    "    while gap >= 1:\n",
    "        for i in range(gap, len(arr)):\n",
    "            while i > 0 and arr[i-gap] > arr[i]:\n",
    "                arr[i-gap], arr[i] = arr[i], arr[i-gap]\n",
    "                i = i - gap\n",
    "        gap = gap // 2\n",
    "    return arr"
   ]
  },
  {
   "cell_type": "code",
   "execution_count": 12,
   "metadata": {},
   "outputs": [
    {
     "name": "stdout",
     "output_type": "stream",
     "text": [
      "[7, 4, 6, 5, 9, 2, 3, 1, 8]\n",
      "[1, 2, 3, 4, 5, 6, 7, 8, 9]\n",
      "[1, 3, 2, 1, 3, 2]\n",
      "[1, 1, 2, 2, 3, 3]\n"
     ]
    }
   ],
   "source": [
    "check_sort(shell_sort)"
   ]
  },
  {
   "cell_type": "markdown",
   "metadata": {},
   "source": [
    "# 选择排序\n",
    "\n",
    "无论如何：复杂度$\\Theta(n^2)$\n",
    "\n",
    "注意：找到最小值后怎么操作"
   ]
  },
  {
   "cell_type": "code",
   "execution_count": 542,
   "metadata": {},
   "outputs": [],
   "source": [
    "def selection_sort(arr):\n",
    "    for i in range(len(arr)):\n",
    "        idx = i\n",
    "        for j in range(i, len(arr)):\n",
    "            if arr[j] < arr[idx]:\n",
    "                idx = j\n",
    "        arr[i], arr[idx] = arr[idx], arr[i]  # 错写为arr[i] = arr[idx]\n",
    "    return arr"
   ]
  },
  {
   "cell_type": "code",
   "execution_count": 541,
   "metadata": {},
   "outputs": [
    {
     "name": "stdout",
     "output_type": "stream",
     "text": [
      "[7, 4, 6, 5, 9, 2, 3, 1, 8]\n",
      "[1, 2, 3, 4, 5, 6, 7, 8, 9]\n",
      "[1, 3, 2, 1, 3, 2]\n",
      "[1, 1, 2, 2, 3, 3]\n"
     ]
    }
   ],
   "source": [
    "check_sort(selection_sort)"
   ]
  },
  {
   "cell_type": "code",
   "execution_count": null,
   "metadata": {},
   "outputs": [],
   "source": [
    "def heap_sort(arr):\n",
    "    "
   ]
  },
  {
   "cell_type": "markdown",
   "metadata": {},
   "source": [
    "# 堆排序\n",
    "怎么能更快的找到最小元，这就是堆排序的改进思路\n",
    "\n",
    "每次快速发现一个最大的元素并把它放在数组的最后面。\n",
    "\n",
    "排除已经排好序的数字，重新对剩下的数字建立起最大堆。"
   ]
  },
  {
   "cell_type": "code",
   "execution_count": 556,
   "metadata": {},
   "outputs": [],
   "source": [
    "def heapify(arr, root, n):\n",
    "    tmp = arr[root]  #  存储根节点的值\n",
    "    parent = root  # 当前父结点\n",
    "    while parent * 2 + 1 < n:\n",
    "        child = parent * 2 + 1 \n",
    "        if child + 1 < n and arr[child+1] > arr[child]:\n",
    "            child += 1  # 若右子存在 且 右子大于左子\n",
    "        # 这句是高危语句\n",
    "        if tmp < arr[child]:  # 根节点值小于儿子的值  # !!这里曾经错把tmp写成arr[parent]\n",
    "            arr[parent] = arr[child]  # 交换\n",
    "            parent = child  # 更新当前父结点\n",
    "        else:\n",
    "            break\n",
    "    arr[parent] = tmp\n",
    "    \n",
    "# 先写这个搭好框架\n",
    "def heap_sort(arr):\n",
    "    for i in range(len(arr)//2 - 1, -1, -1):\n",
    "        heapify(arr, i, len(arr))  # 对整个数组建立堆\n",
    "        \n",
    "    for j in range(len(arr)-1, 0, -1):\n",
    "        # arr[0] 是最大的元素，把它放在最后面\n",
    "        arr[0], arr[j] = arr[j], arr[0]\n",
    "        heapify(arr, 0, j)  # 以0为根\n",
    "    \n",
    "    return arr"
   ]
  },
  {
   "cell_type": "code",
   "execution_count": 557,
   "metadata": {},
   "outputs": [
    {
     "name": "stdout",
     "output_type": "stream",
     "text": [
      "[7, 4, 6, 5, 9, 2, 3, 1, 8]\n",
      "[1, 2, 3, 4, 5, 6, 7, 8, 9]\n",
      "[1, 3, 2, 1, 3, 2]\n",
      "[1, 1, 2, 2, 3, 3]\n"
     ]
    }
   ],
   "source": [
    "check_sort(heap_sort)"
   ]
  },
  {
   "cell_type": "markdown",
   "metadata": {},
   "source": [
    "# 归并排序"
   ]
  },
  {
   "cell_type": "code",
   "execution_count": 560,
   "metadata": {},
   "outputs": [],
   "source": [
    "def merge_sort(arr):\n",
    "    if len(arr) <= 1:\n",
    "        return arr\n",
    "    left = merge_sort(arr[len(arr)//2:])\n",
    "    right = merge_sort(arr[:len(arr)//2])\n",
    "    \n",
    "    # 合并\n",
    "    i = j = 0  # 分别指向left和right的第0个元素\n",
    "    res = []\n",
    "    while i < len(left) or j < len(right):\n",
    "        \n",
    "        if i == len(left):\n",
    "            res.extend(right[j:])\n",
    "            break\n",
    "        elif j == len(right):\n",
    "            res.extend(left[i:])\n",
    "            break\n",
    "        \n",
    "        if left[i] < right[j]:\n",
    "            res.append(left[i])\n",
    "            i = i + 1\n",
    "        else:\n",
    "            res.append(right[j])\n",
    "            j = j + 1\n",
    "    \n",
    "    return res"
   ]
  },
  {
   "cell_type": "code",
   "execution_count": 561,
   "metadata": {
    "scrolled": true
   },
   "outputs": [
    {
     "name": "stdout",
     "output_type": "stream",
     "text": [
      "[7, 4, 6, 5, 9, 2, 3, 1, 8]\n",
      "[1, 2, 3, 4, 5, 6, 7, 8, 9]\n",
      "[1, 3, 2, 1, 3, 2]\n",
      "[1, 1, 2, 2, 3, 3]\n"
     ]
    }
   ],
   "source": [
    "check_sort(merge_sort)"
   ]
  },
  {
   "cell_type": "markdown",
   "metadata": {},
   "source": [
    "**非递归归并**\n",
    "```c++\n",
    "    /* 归并排序 - 循环实现 */\n",
    "    /* 这里Merge函数在递归版本中给出 */\n",
    "    void Merge_Sort( ElementType A[], int N )\n",
    "    { \n",
    "         int length; \n",
    "         ElementType *TmpA;\n",
    "          \n",
    "         length = 1; /* 初始化子序列长度*/\n",
    "         TmpA = malloc( N * sizeof( ElementType ) );\n",
    "         if ( TmpA != NULL ) {\n",
    "              while( length < N ) {\n",
    "                  Merge_pass( A, TmpA, N, length );\n",
    "                  length *= 2;\n",
    "                  Merge_pass( TmpA, A, N, length );\n",
    "                  length *= 2;\n",
    "              }\n",
    "              free( TmpA );\n",
    "         }\n",
    "         else printf( \"空间不足\" );\n",
    "    }\n",
    "```\n",
    "    "
   ]
  },
  {
   "cell_type": "code",
   "execution_count": null,
   "metadata": {},
   "outputs": [],
   "source": [
    "def merge_sort(arr):\n",
    "    length = 1  # 初始化子序列长度\n",
    "    tmp = [0] * len(arr)\n",
    "    while length < len(arr):\n",
    "        merge_pass(arr, tmp, len(arr), length)\n",
    "        length *= 2\n",
    "        merge_pass(tmp, arr, len(arr), length)\n",
    "        length *= 2\n",
    "    return arr"
   ]
  },
  {
   "cell_type": "markdown",
   "metadata": {},
   "source": [
    "```c++\n",
    "/* length = 当前有序子列的长度*/\n",
    "    void Merge_pass( ElementType A[], ElementType TmpA[], int N, int length )\n",
    "    { /* 两两归并相邻有序子列 */\n",
    "         int i, j;\n",
    "           \n",
    "         for ( i=0; i <= N-2*length; i += 2*length )\n",
    "             Merge( A, TmpA, i, i+length, i+2*length-1 );\n",
    "         if ( i+length < N ) /* 归并最后2个子列*/\n",
    "             Merge( A, TmpA, i, i+length, N-1);\n",
    "         else /* 最后只剩1个子列*/\n",
    "             for ( j = i; j < N; j++ ) TmpA[j] = A[j];\n",
    "    }\n",
    "```"
   ]
  },
  {
   "cell_type": "code",
   "execution_count": null,
   "metadata": {},
   "outputs": [],
   "source": [
    "def merge_pass(arr, tmp, n, length):\n",
    "    for i in range(0, n-2*length+1, 2*length):\n",
    "        merge(a, tmp, i, i+length, i+2*length-1)\n",
    "    if i+length < n:\n",
    "        merge(a, tmp, i, i+length, n-1)\n",
    "    else:\n",
    "        for j in range(i, n):\n",
    "            tmp[j] = arr[j]"
   ]
  },
  {
   "cell_type": "markdown",
   "metadata": {},
   "source": [
    "# 快速排序\n",
    "需要注意很多细节才能实现得好！对于小规模数据，比如长度小于100的，还不如插入排序。规模大到一定程度才使用快速排序、\n",
    "\n",
    "## 选第一个数作为主元"
   ]
  },
  {
   "cell_type": "code",
   "execution_count": 48,
   "metadata": {},
   "outputs": [],
   "source": [
    "def get_pivot(arr, left, right):\n",
    "    i = left\n",
    "    pivot = arr[i]\n",
    "    for j in range(left+1, right+1):\n",
    "        if arr[j] <= pivot:  # 想清楚这里为什么是pivot而不是a[i]\n",
    "            arr[i+1], arr[j] = arr[j], arr[i+1]\n",
    "            i += 1\n",
    "    arr[i], arr[left] = arr[left], arr[i]\n",
    "    return i\n",
    "\n",
    "def quick_sort(arr, left, right):\n",
    "    # 思考right - left > 1为什么不行。如果改成大于等于就是对的。大于号隐含了间隔要超过2\n",
    "    if left < right:\n",
    "        i = get_pivot(arr, left, right)\n",
    "        quick_sort(arr, left, i-1)\n",
    "        quick_sort(arr, i+1, right)"
   ]
  },
  {
   "cell_type": "code",
   "execution_count": 49,
   "metadata": {},
   "outputs": [
    {
     "data": {
      "text/plain": [
       "[1, 1, 2, 2, 3, 3, 4, 4, 5, 5, 6, 6, 7, 7, 8, 8, 9, 9]"
      ]
     },
     "execution_count": 49,
     "metadata": {},
     "output_type": "execute_result"
    }
   ],
   "source": [
    "arr = [7, 4, 6, 5, 9, 2, 3, 1, 8] * 2\n",
    "quick_sort(arr, 0, len(arr)-1)\n",
    "arr"
   ]
  },
  {
   "cell_type": "markdown",
   "metadata": {},
   "source": [
    "## 从3个数选第2大的数作为主元"
   ]
  },
  {
   "cell_type": "code",
   "execution_count": 267,
   "metadata": {},
   "outputs": [],
   "source": [
    "def median3(arr, left, right):\n",
    "    \"\"\"\n",
    "    选主元，主元要是三个数的中位数\n",
    "    \"\"\"\n",
    "    center = (left + right) // 2\n",
    "    if arr[left] > arr[center]:\n",
    "        arr[left], arr[center] = arr[center], arr[left]\n",
    "        \n",
    "    if arr[left] > arr[right]:\n",
    "        arr[left], arr[right] = arr[right], arr[left]\n",
    "        \n",
    "    if arr[center] > arr[right]:\n",
    "        arr[center], arr[right] = arr[right], arr[center]\n",
    "        \n",
    "    # why?因为right绝逼比centerd大，所以等于说不用考虑right了\n",
    "    # 同理 left 也不用考虑了\n",
    "    # 剩下只用考虑[left+1, right-2]\n",
    "    arr[center], arr[right-1] = arr[right-1], arr[center]\n",
    "    return right-1"
   ]
  },
  {
   "cell_type": "code",
   "execution_count": 255,
   "metadata": {},
   "outputs": [
    {
     "name": "stdout",
     "output_type": "stream",
     "text": [
      "8\n"
     ]
    },
    {
     "data": {
      "text/plain": [
       "[7, 4, 6, 5, 1, 2, 3, 8, 9]"
      ]
     },
     "execution_count": 255,
     "metadata": {},
     "output_type": "execute_result"
    }
   ],
   "source": [
    "arr = [7, 4, 6, 5, 9, 2, 3, 1, 8]\n",
    "print(median3(arr, 0, 8))\n",
    "arr"
   ]
  },
  {
   "cell_type": "code",
   "execution_count": 268,
   "metadata": {},
   "outputs": [],
   "source": [
    "def median3(arr, left, right):\n",
    "    \"\"\"\n",
    "    选主元，主元要是三个数的中位数\n",
    "    \"\"\"\n",
    "    center = (left + right) // 2\n",
    "    if arr[left] > arr[center]:\n",
    "        arr[left], arr[center] = arr[center], arr[left]\n",
    "        \n",
    "    if arr[left] > arr[right]:\n",
    "        arr[left], arr[right] = arr[right], arr[left]\n",
    "        \n",
    "    if arr[center] > arr[right]:\n",
    "        arr[center], arr[right] = arr[right], arr[center]\n",
    "        \n",
    "    # why?因为right绝逼比centerd大，所以等于说不用考虑right了\n",
    "    # 同理 left 也不用考虑了\n",
    "    # 剩下只用考虑[left+1, right-2]\n",
    "    arr[center], arr[right-1] = arr[right-1], arr[center]\n",
    "    return right-1\n",
    "\n",
    "\n",
    "def quick_sort(arr, left, right):\n",
    "    # 长度为1的数组 即left == right 不会做任何操作\n",
    "    if left < right:\n",
    "        i = median3(arr, left, right)\n",
    "        pivot = arr[i]\n",
    "        \n",
    "        # right和left不需要进行排序，right-1是主元存放的位置，也不需要\n",
    "        # 如果right-2 <= left 这个循环就不会进入\n",
    "        # 意思是长度为3,2的数组，不会进入for循环\n",
    "        for j in range(right-2, left, -1):  # 一定要逆序，正序会改变\n",
    "            if arr[j] >= pivot:\n",
    "                arr[i-1], arr[j] = arr[j], arr[i-1]\n",
    "                i -= 1\n",
    "        arr[i], arr[right-1] = arr[right-1], arr[i]\n",
    "        \n",
    "        # 对除了主元之外的数组进行快速排序\n",
    "        quick_sort(arr, left, i-1)\n",
    "        quick_sort(arr, i+1, right)"
   ]
  },
  {
   "cell_type": "code",
   "execution_count": 270,
   "metadata": {},
   "outputs": [
    {
     "data": {
      "text/plain": [
       "[1, 1, 2, 2, 3, 3, 4, 4, 5, 5, 6, 6, 7, 7, 8, 8, 9, 9]"
      ]
     },
     "execution_count": 270,
     "metadata": {},
     "output_type": "execute_result"
    }
   ],
   "source": [
    "arr = [7, 4, 6, 5, 9, 2, 3, 1, 8] * 2\n",
    "quick_sort(arr, 0, len(arr)-1)\n",
    "arr"
   ]
  },
  {
   "cell_type": "markdown",
   "metadata": {},
   "source": [
    "# 表排序\n",
    "简介排序：定义一个指针数组作为“表”(table)\n",
    "\n",
    "待排元素贼大，那我们先对key进行排序\n",
    "\n",
    "![](img/表排序.jpg)"
   ]
  },
  {
   "cell_type": "code",
   "execution_count": 393,
   "metadata": {},
   "outputs": [],
   "source": [
    "def insertion_sort(arr, table):\n",
    "    for i in range(1, len(arr)):\n",
    "        while i > 0 and arr[i-1] > arr[i]:\n",
    "            arr[i-1], arr[i] = arr[i], arr[i-1]\n",
    "            table[i-1], table[i] = table[i], table[i-1]\n",
    "            i = i - 1"
   ]
  },
  {
   "cell_type": "code",
   "execution_count": 497,
   "metadata": {},
   "outputs": [
    {
     "name": "stdout",
     "output_type": "stream",
     "text": [
      "[5, 3, 2, 0, 6, 1, 7, 4]\n",
      "['book0', 'book1', 'book2', 'book3', 'book4', 'book5', 'book6', 'book7']\n",
      "[0, 1, 2, 3, 4, 5, 6, 7]\n"
     ]
    },
    {
     "data": {
      "text/plain": [
       "[3, 5, 2, 1, 7, 0, 4, 6]"
      ]
     },
     "execution_count": 497,
     "metadata": {},
     "output_type": "execute_result"
    }
   ],
   "source": [
    "arr = [5, 3, 2, 0, 6, 1, 7, 4]\n",
    "books = ['book'+str(i) for i, _ in enumerate(arr)]\n",
    "# 先建立一个table\n",
    "table = [i for i,key in enumerate(books)]\n",
    "print(arr)\n",
    "print(books)\n",
    "print(table)\n",
    "insertion_sort(arr, table)\n",
    "table"
   ]
  },
  {
   "cell_type": "code",
   "execution_count": 500,
   "metadata": {},
   "outputs": [],
   "source": [
    "k = 0\n",
    "while k < len(books):\n",
    "    i = k\n",
    "    tmp = books[k]\n",
    "    while table[i] != k:\n",
    "        books[i] = books[table[i]] \n",
    "        table[i], i = i, table[i]\n",
    "    \n",
    "    books[i] = tmp\n",
    "    table[i] = i\n",
    "    k = k + 1"
   ]
  },
  {
   "cell_type": "code",
   "execution_count": 501,
   "metadata": {},
   "outputs": [
    {
     "data": {
      "text/plain": [
       "['book3', 'book5', 'book2', 'book1', 'book7', 'book0', 'book4', 'book6']"
      ]
     },
     "execution_count": 501,
     "metadata": {},
     "output_type": "execute_result"
    }
   ],
   "source": [
    "books"
   ]
  },
  {
   "cell_type": "markdown",
   "metadata": {},
   "source": [
    "# 基数排序\n",
    "**Least Significant Digit**\n",
    "\n",
    "- 计算出要取多少次基。比如1000 要取3次\n",
    "- 一次循环中\n",
    " - 初始化桶\n",
    " - 往桶里加数据: 搞懂怎么取指定位数的取值\n",
    " - 更新数组"
   ]
  },
  {
   "cell_type": "code",
   "execution_count": 608,
   "metadata": {},
   "outputs": [],
   "source": [
    "import math\n",
    " \n",
    "def lsd_radix_sort(arr, radix=10):\n",
    "    \"\"\"a为整数列表， radix为基数\"\"\"\n",
    "    k = 0\n",
    "    n = max(arr)\n",
    "    while n > 0:\n",
    "        k += 1\n",
    "        n = n // 10\n",
    "    for i in range(k): # K次循环\n",
    "        bucket = [[] for i in range(radix)] # 不能用 [[]]*radix\n",
    "        for a in arr:\n",
    "            bucket[a % radix**(i+1)//(radix**i)].append(a) # 析取整数第K位数字 （从低到高）\n",
    "        del arr[:]  # arr == []\n",
    "        for each in bucket:\n",
    "            arr.extend(each) # 桶合并"
   ]
  },
  {
   "cell_type": "code",
   "execution_count": 609,
   "metadata": {},
   "outputs": [],
   "source": [
    "arr = [64, 8, 216, 512, 27, 729, 0, 1, 343, 125]\n",
    "lsd_radix_sort(arr)"
   ]
  },
  {
   "cell_type": "code",
   "execution_count": 610,
   "metadata": {},
   "outputs": [
    {
     "data": {
      "text/plain": [
       "[0, 1, 8, 27, 64, 125, 216, 343, 512, 729]"
      ]
     },
     "execution_count": 610,
     "metadata": {},
     "output_type": "execute_result"
    }
   ],
   "source": [
    "arr"
   ]
  },
  {
   "cell_type": "markdown",
   "metadata": {},
   "source": [
    "# 桶排序\n",
    "需要事先知道有多少个不同的取值，而且bucket要按照顺序排列"
   ]
  },
  {
   "cell_type": "code",
   "execution_count": 611,
   "metadata": {},
   "outputs": [],
   "source": [
    "def bucket_sort(arr, bucket):\n",
    "    for a in arr:\n",
    "        bucket[a].append(a)\n",
    "    \n",
    "    del arr[:]\n",
    "    for b in bucket:\n",
    "        arr.extend(b)"
   ]
  },
  {
   "cell_type": "code",
   "execution_count": 612,
   "metadata": {},
   "outputs": [],
   "source": [
    "arr = [5, 3, 2, 0, 6, 1, 7, 4] * 2\n",
    "bucket = [[] for _ in arr]"
   ]
  },
  {
   "cell_type": "code",
   "execution_count": 613,
   "metadata": {},
   "outputs": [],
   "source": [
    "bucket_sort(arr, bucket)"
   ]
  },
  {
   "cell_type": "code",
   "execution_count": 614,
   "metadata": {},
   "outputs": [
    {
     "data": {
      "text/plain": [
       "[0, 0, 1, 1, 2, 2, 3, 3, 4, 4, 5, 5, 6, 6, 7, 7]"
      ]
     },
     "execution_count": 614,
     "metadata": {},
     "output_type": "execute_result"
    }
   ],
   "source": [
    "arr"
   ]
  },
  {
   "cell_type": "code",
   "execution_count": 616,
   "metadata": {},
   "outputs": [
    {
     "data": {
      "text/plain": [
       "'dfNone'"
      ]
     },
     "execution_count": 616,
     "metadata": {},
     "output_type": "execute_result"
    }
   ],
   "source": [
    "'df' + '' + str(None)"
   ]
  },
  {
   "cell_type": "code",
   "execution_count": 620,
   "metadata": {},
   "outputs": [],
   "source": [
    "s = ''"
   ]
  },
  {
   "cell_type": "code",
   "execution_count": 621,
   "metadata": {},
   "outputs": [
    {
     "data": {
      "text/plain": [
       "''"
      ]
     },
     "execution_count": 621,
     "metadata": {},
     "output_type": "execute_result"
    }
   ],
   "source": [
    "s[1:]"
   ]
  },
  {
   "cell_type": "code",
   "execution_count": 623,
   "metadata": {},
   "outputs": [],
   "source": [
    "if s:\n",
    "    print('asdfasfd')"
   ]
  },
  {
   "cell_type": "markdown",
   "metadata": {},
   "source": [
    "# 复习用"
   ]
  },
  {
   "cell_type": "code",
   "execution_count": 81,
   "metadata": {},
   "outputs": [
    {
     "data": {
      "text/plain": [
       "0"
      ]
     },
     "execution_count": 81,
     "metadata": {},
     "output_type": "execute_result"
    }
   ],
   "source": [
    "import random\n",
    "random.randint(0, 1)"
   ]
  },
  {
   "cell_type": "code",
   "execution_count": 82,
   "metadata": {},
   "outputs": [
    {
     "ename": "IndexError",
     "evalue": "list index out of range",
     "output_type": "error",
     "traceback": [
      "\u001b[1;31m---------------------------------------------------------------------------\u001b[0m",
      "\u001b[1;31mIndexError\u001b[0m                                Traceback (most recent call last)",
      "\u001b[1;32m<ipython-input-82-3d0f295b864d>\u001b[0m in \u001b[0;36m<module>\u001b[1;34m\u001b[0m\n\u001b[0;32m      1\u001b[0m \u001b[0marr\u001b[0m \u001b[1;33m=\u001b[0m \u001b[1;33m[\u001b[0m\u001b[1;33m]\u001b[0m\u001b[1;33m\u001b[0m\u001b[1;33m\u001b[0m\u001b[0m\n\u001b[1;32m----> 2\u001b[1;33m \u001b[0marr\u001b[0m\u001b[1;33m[\u001b[0m\u001b[1;33m-\u001b[0m\u001b[1;36m1\u001b[0m\u001b[1;33m]\u001b[0m\u001b[1;33m\u001b[0m\u001b[1;33m\u001b[0m\u001b[0m\n\u001b[0m",
      "\u001b[1;31mIndexError\u001b[0m: list index out of range"
     ]
    }
   ],
   "source": [
    "arr = []\n",
    "arr[-1]"
   ]
  },
  {
   "cell_type": "code",
   "execution_count": null,
   "metadata": {},
   "outputs": [],
   "source": []
  },
  {
   "cell_type": "code",
   "execution_count": 60,
   "metadata": {},
   "outputs": [],
   "source": [
    "arr = [7, 4, 6, 5, 9, 2, 3, 1, 8]"
   ]
  },
  {
   "cell_type": "code",
   "execution_count": 45,
   "metadata": {},
   "outputs": [],
   "source": [
    "def get_pivot(arr, left, right):\n",
    "    k = left\n",
    "    pivot = arr[left]\n",
    "    for i in range(left+1, right+1):\n",
    "        if arr[i] < pivot:\n",
    "            k += 1\n",
    "            arr[k], arr[i] = arr[i], arr[k]\n",
    "    arr[k], arr[left] = arr[left], arr[k]\n",
    "    return k\n",
    "            \n",
    "def quick_sort(arr, left, right):\n",
    "    if right - left > 1:\n",
    "        i = get_pivot(arr, left, right)\n",
    "        quick_sort(arr, left, i-1)\n",
    "        quick_sort(arr, i+1, right)"
   ]
  },
  {
   "cell_type": "code",
   "execution_count": 52,
   "metadata": {},
   "outputs": [],
   "source": [
    "quick_sort(arr, 0, len(arr)-1)"
   ]
  },
  {
   "cell_type": "code",
   "execution_count": 53,
   "metadata": {},
   "outputs": [
    {
     "data": {
      "text/plain": [
       "[1, 1, 2, 2, 3, 3, 4, 4, 5, 5, 6, 6, 7, 7, 8, 8, 9, 9]"
      ]
     },
     "execution_count": 53,
     "metadata": {},
     "output_type": "execute_result"
    }
   ],
   "source": [
    "arr"
   ]
  },
  {
   "cell_type": "code",
   "execution_count": null,
   "metadata": {},
   "outputs": [],
   "source": []
  }
 ],
 "metadata": {
  "kernelspec": {
   "display_name": "Python 3",
   "language": "python",
   "name": "python3"
  },
  "language_info": {
   "codemirror_mode": {
    "name": "ipython",
    "version": 3
   },
   "file_extension": ".py",
   "mimetype": "text/x-python",
   "name": "python",
   "nbconvert_exporter": "python",
   "pygments_lexer": "ipython3",
   "version": "3.7.1"
  },
  "toc": {
   "base_numbering": 1,
   "nav_menu": {},
   "number_sections": true,
   "sideBar": true,
   "skip_h1_title": false,
   "title_cell": "Table of Contents",
   "title_sidebar": "Contents",
   "toc_cell": false,
   "toc_position": {
    "height": "calc(100% - 180px)",
    "left": "10px",
    "top": "150px",
    "width": "256px"
   },
   "toc_section_display": true,
   "toc_window_display": true
  },
  "varInspector": {
   "cols": {
    "lenName": 16,
    "lenType": 16,
    "lenVar": 40
   },
   "kernels_config": {
    "python": {
     "delete_cmd_postfix": "",
     "delete_cmd_prefix": "del ",
     "library": "var_list.py",
     "varRefreshCmd": "print(var_dic_list())"
    },
    "r": {
     "delete_cmd_postfix": ") ",
     "delete_cmd_prefix": "rm(",
     "library": "var_list.r",
     "varRefreshCmd": "cat(var_dic_list()) "
    }
   },
   "types_to_exclude": [
    "module",
    "function",
    "builtin_function_or_method",
    "instance",
    "_Feature"
   ],
   "window_display": false
  }
 },
 "nbformat": 4,
 "nbformat_minor": 2
}
