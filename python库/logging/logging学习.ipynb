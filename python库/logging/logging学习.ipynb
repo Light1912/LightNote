{
 "cells": [
  {
   "cell_type": "code",
   "execution_count": 2,
   "metadata": {},
   "outputs": [],
   "source": []
  },
  {
   "cell_type": "markdown",
   "metadata": {},
   "source": [
    "# 基本使用"
   ]
  },
  {
   "cell_type": "code",
   "execution_count": 2,
   "metadata": {},
   "outputs": [
    {
     "name": "stderr",
     "output_type": "stream",
     "text": [
      "WARNING:root:this is a warning log.\n",
      "ERROR:root:this is a error log.\n",
      "CRITICAL:root:this is a critical log.\n"
     ]
    }
   ],
   "source": [
    "import logging\n",
    "logging.debug(\"this is a debug log.\")\n",
    "logging.info(\"this is a info log.\")\n",
    "logging.warning(\"this is a warning log.\")\n",
    "logging.error(\"this is a error log.\")\n",
    "logging.critical(\"this is a critical log.\")"
   ]
  },
  {
   "cell_type": "code",
   "execution_count": 7,
   "metadata": {
    "code_folding": []
   },
   "outputs": [
    {
     "name": "stderr",
     "output_type": "stream",
     "text": [
      "WARNING:root:this is a warning log.\n",
      "ERROR:root:this is a error log.\n",
      "CRITICAL:root:this is a critical log.\n"
     ]
    }
   ],
   "source": [
    "# gfjh\n",
    "logging.log(logging.DEBUG, \"this is a debug log.\")\n",
    "logging.log(logging.INFO, \"this is a info log.\")\n",
    "logging.log(logging.WARNING, \"this is a warning log.\")\n",
    "logging.log(logging.ERROR, \"this is a error log.\")\n",
    "logging.log(logging.CRITICAL, \"this is a critical log.\")"
   ]
  },
  {
   "cell_type": "code",
   "execution_count": 8,
   "metadata": {},
   "outputs": [
    {
     "data": {
      "text/plain": [
       "(10, 20, 30, 40, 50)"
      ]
     },
     "execution_count": 8,
     "metadata": {},
     "output_type": "execute_result"
    }
   ],
   "source": [
    "logging.DEBUG, logging.INFO, logging.WARNING, logging.ERROR, logging.CRITICAL"
   ]
  },
  {
   "cell_type": "markdown",
   "metadata": {},
   "source": [
    "#### 问题1：为什么前两条日志没有被打印\n",
    "默认是级别大于warning的日志会输出\n",
    "\n",
    "#### 问题2：打印出来的日志信息中各字段表示什么意思？为什么会这样输出？\n",
    "\n",
    "上面输出结果中每行日志记录的各个字段含义分别是：\n",
    "\n",
    "日志级别:日志器名称:日志内容\n",
    "\n",
    "之所以会这样输出，是因为logging模块提供的日志记录函数所使用的日志器设置的日志格式默认是BASIC_FORMAT，其值为：\n",
    "\n",
    "\"%(levelname)s:%(name)s:%(message)s\"\n",
    "\n",
    "#### 问题3：如何将日志记录输出到文件中，而不是打印到控制台？\n",
    "\n"
   ]
  },
  {
   "cell_type": "code",
   "execution_count": 11,
   "metadata": {},
   "outputs": [
    {
     "name": "stderr",
     "output_type": "stream",
     "text": [
      "WARNING:root:this is a warning log.\n",
      "ERROR:root:this is a error log.\n",
      "CRITICAL:root:this is a critical log.\n"
     ]
    }
   ],
   "source": [
    "logging.debug(\"this is a debug log.\")\n",
    "logging.info(\"this is a info log.\")\n",
    "logging.warning(\"this is a warning log.\")\n",
    "logging.error(\"this is a error log.\")\n",
    "logging.critical(\"this is a critical log.\")"
   ]
  },
  {
   "cell_type": "code",
   "execution_count": 12,
   "metadata": {},
   "outputs": [
    {
     "name": "stderr",
     "output_type": "stream",
     "text": [
      "WARNING:root:Watch out!\n"
     ]
    }
   ],
   "source": [
    "import logging\n",
    "logging.warning('Watch out!')  # will print a message to the console\n",
    "logging.info('I told you so')  # will not print anything"
   ]
  },
  {
   "cell_type": "markdown",
   "metadata": {},
   "source": [
    "#### 把日志保存到文件\n",
    "需要重启环境，否则不会输出信息"
   ]
  },
  {
   "cell_type": "code",
   "execution_count": 1,
   "metadata": {},
   "outputs": [],
   "source": [
    "import logging\n",
    "logging.basicConfig(filename='example.log',level=logging.DEBUG)\n",
    "logging.debug('This message should go to the log file')\n",
    "logging.info('So should this')\n",
    "logging.warning('And this, too')"
   ]
  },
  {
   "cell_type": "code",
   "execution_count": 7,
   "metadata": {},
   "outputs": [],
   "source": [
    "logging.warning('And this, too')"
   ]
  },
  {
   "cell_type": "markdown",
   "metadata": {},
   "source": [
    "# 第三方"
   ]
  },
  {
   "cell_type": "markdown",
   "metadata": {},
   "source": [
    "#  爱迪生发放的"
   ]
  },
  {
   "cell_type": "markdown",
   "metadata": {},
   "source": [
    "# kk"
   ]
  },
  {
   "cell_type": "markdown",
   "metadata": {},
   "source": [
    "####  冠福股份"
   ]
  },
  {
   "cell_type": "code",
   "execution_count": null,
   "metadata": {},
   "outputs": [],
   "source": []
  }
 ],
 "metadata": {
  "kernelspec": {
   "display_name": "Python [conda env:tf2]",
   "language": "python",
   "name": "conda-env-tf2-py"
  },
  "language_info": {
   "codemirror_mode": {
    "name": "ipython",
    "version": 3
   },
   "file_extension": ".py",
   "mimetype": "text/x-python",
   "name": "python",
   "nbconvert_exporter": "python",
   "pygments_lexer": "ipython3",
   "version": "3.7.5"
  },
  "toc": {
   "base_numbering": 1,
   "nav_menu": {},
   "number_sections": true,
   "sideBar": true,
   "skip_h1_title": false,
   "title_cell": "Table of Contents",
   "title_sidebar": "Contents",
   "toc_cell": false,
   "toc_position": {
    "height": "calc(100% - 180px)",
    "left": "10px",
    "top": "150px",
    "width": "231.667px"
   },
   "toc_section_display": true,
   "toc_window_display": true
  }
 },
 "nbformat": 4,
 "nbformat_minor": 2
}
