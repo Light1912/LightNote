{
 "cells": [
  {
   "cell_type": "markdown",
   "metadata": {},
   "source": [
    "# 爬取图片"
   ]
  },
  {
   "cell_type": "code",
   "execution_count": 4,
   "metadata": {},
   "outputs": [],
   "source": [
    "import requests\n",
    "from bs4 import BeautifulSoup as bs\n",
    "import re\n",
    "import os\n",
    "import numpy as np"
   ]
  },
  {
   "cell_type": "code",
   "execution_count": 211,
   "metadata": {},
   "outputs": [
    {
     "data": {
      "text/plain": [
       "200"
      ]
     },
     "execution_count": 211,
     "metadata": {},
     "output_type": "execute_result"
    }
   ],
   "source": [
    "url = \"https://yande.re/post?tags=wallpaper\"\n",
    "r = requests.get(url)\n",
    "r.status_code"
   ]
  },
  {
   "cell_type": "code",
   "execution_count": 212,
   "metadata": {},
   "outputs": [],
   "source": [
    "yande = r.text\n",
    "soup = bs(yande, \"html.parser\") # 获得汤"
   ]
  },
  {
   "cell_type": "code",
   "execution_count": 185,
   "metadata": {},
   "outputs": [],
   "source": [
    "# raw_link = soup.find_all('span','plid') #这个方法被淘汰了\n",
    "#def get_link(raw_link):\n",
    "    #link = raw_link.string[4:]\n",
    "    #return link\n",
    "#link = list(map(get_link, raw_link))"
   ]
  },
  {
   "cell_type": "markdown",
   "metadata": {},
   "source": [
    "### 获取所有预览图的标签\n",
    "\n",
    "`soup.find_all('img',attrs={\"class\":\"preview\"})`"
   ]
  },
  {
   "cell_type": "code",
   "execution_count": 215,
   "metadata": {
    "scrolled": false
   },
   "outputs": [
    {
     "name": "stdout",
     "output_type": "stream",
     "text": [
      "https://assets.yande.re/data/preview/82/54/8254207b92bec804a6bfc4bc788edf77.jpg\n",
      "https://assets.yande.re/data/preview/f5/61/f56133aebc008576b41b32ba1a44fdd3.jpg\n",
      "https://assets.yande.re/data/preview/d6/be/d6becb17523fb77c327e2b2c3ead3f51.jpg\n",
      "https://assets.yande.re/data/preview/78/69/78690f969a0315ad9ebed7453f6def89.jpg\n",
      "https://assets.yande.re/data/preview/4e/fa/4efade46a747dec67015b4de7d650fc4.jpg\n"
     ]
    }
   ],
   "source": [
    "# 获取了所有缩略图的链接\n",
    "small_url = soup.find_all('img',attrs={\"class\":\"preview\"})\n",
    "link = [l.get('src') for l in small_url]\n",
    "for l in link[:5]:\n",
    "    print(l)"
   ]
  },
  {
   "cell_type": "markdown",
   "metadata": {},
   "source": [
    "link 是一个储存了40个缩略图图片地址的列表"
   ]
  },
  {
   "cell_type": "markdown",
   "metadata": {},
   "source": [
    "### 获得图片ID"
   ]
  },
  {
   "cell_type": "code",
   "execution_count": 229,
   "metadata": {
    "scrolled": false
   },
   "outputs": [
    {
     "data": {
      "text/plain": [
       "<a class=\"thumb\" href=\"/post/show/551214\"><img alt=\"Rating: Safe Score: 12 Tags: alice_schuberg armor sword sword_art_online sword_art_online_alicization tagme wallpaper User: Saturn_V\" class=\"preview\" height=\"84\" src=\"https://assets.yande.re/data/preview/82/54/8254207b92bec804a6bfc4bc788edf77.jpg\" style=\"margin-left: 0px;\" title=\"Rating: Safe Score: 12 Tags: alice_schuberg armor sword sword_art_online sword_art_online_alicization tagme wallpaper User: Saturn_V\" width=\"150\"/><span class=\"plid\">#pl https://yande.re/post/show/551214</span></a>"
      ]
     },
     "execution_count": 229,
     "metadata": {},
     "output_type": "execute_result"
    }
   ],
   "source": [
    "small_url[0].parent"
   ]
  },
  {
   "cell_type": "code",
   "execution_count": 232,
   "metadata": {
    "scrolled": true
   },
   "outputs": [
    {
     "data": {
      "text/plain": [
       "'/post/show/551214'"
      ]
     },
     "execution_count": 232,
     "metadata": {},
     "output_type": "execute_result"
    }
   ],
   "source": [
    "small_url[0].parent.get('href')"
   ]
  },
  {
   "cell_type": "markdown",
   "metadata": {},
   "source": [
    "前面加上前缀就能进入展示页面\n",
    "\n",
    "https://yande.re/post/show/551214"
   ]
  },
  {
   "cell_type": "code",
   "execution_count": 233,
   "metadata": {},
   "outputs": [
    {
     "data": {
      "text/plain": [
       "['551214', '551108', '551107', '551106', '550923']"
      ]
     },
     "execution_count": 233,
     "metadata": {},
     "output_type": "execute_result"
    }
   ],
   "source": [
    "pic_id = [url.parent.get('href').split('/')[-1] for url in small_url]\n",
    "pic_id[:5]"
   ]
  },
  {
   "cell_type": "markdown",
   "metadata": {},
   "source": [
    "### 获取图片码"
   ]
  },
  {
   "cell_type": "code",
   "execution_count": 222,
   "metadata": {},
   "outputs": [
    {
     "data": {
      "text/plain": [
       "'8254207b92bec804a6bfc4bc788edf77'"
      ]
     },
     "execution_count": 222,
     "metadata": {},
     "output_type": "execute_result"
    }
   ],
   "source": [
    "link[0].strip('.jpg').split('/')[-1]"
   ]
  },
  {
   "cell_type": "code",
   "execution_count": 224,
   "metadata": {},
   "outputs": [
    {
     "data": {
      "text/plain": [
       "['8254207b92bec804a6bfc4bc788edf77',\n",
       " 'f56133aebc008576b41b32ba1a44fdd3',\n",
       " 'd6becb17523fb77c327e2b2c3ead3f51',\n",
       " '78690f969a0315ad9ebed7453f6def89',\n",
       " '4efade46a747dec67015b4de7d650fc4']"
      ]
     },
     "execution_count": 224,
     "metadata": {},
     "output_type": "execute_result"
    }
   ],
   "source": [
    "pic_code = [l.strip('.jpg').split('/')[-1] for l in link]\n",
    "pic_code[:5]"
   ]
  },
  {
   "cell_type": "markdown",
   "metadata": {},
   "source": [
    "## 图片爬取"
   ]
  },
  {
   "cell_type": "markdown",
   "metadata": {},
   "source": [
    "https://files.yande.re/sample/pic_code/pic_id.jpg\n",
    "\n",
    "需要补上的有pic_code和pic_id\n",
    "\n"
   ]
  },
  {
   "cell_type": "markdown",
   "metadata": {},
   "source": [
    "## 根据tag获取图片id和code"
   ]
  },
  {
   "cell_type": "markdown",
   "metadata": {},
   "source": [
    "https://yande.re/post?tags=wallpaper\n",
    "https://yande.re/post?page=1&tags=wallpaper"
   ]
  },
  {
   "cell_type": "code",
   "execution_count": 1,
   "metadata": {},
   "outputs": [],
   "source": [
    "# 获得第1页到第5页图片的id和code\n",
    "# tag = \"wallpaper\"\n",
    "# pages 获取某几页的图片信息 pages = np.arange\n",
    "def get_id_code(tag,page_range=(1,1)):\n",
    "    \n",
    "    iters = page_range[1] - page_range[0] + 1 # 迭代次数\n",
    "    init_page = page_range[0] # 起始页面\n",
    "    \n",
    "    print(\"获得第{}页到第{}页{}图片的ID和CODE\".format(page_range[0],page_range[1],tag))\n",
    "    \n",
    "    pic_code = [] # 用来储存图片CODE\n",
    "    pic_id = [] # 用来储存图片的ID\n",
    "    good = 0 # 获得页面信息成功计数\n",
    "    bad = 0 # 获得页面信息失败计数\n",
    "    \n",
    "    for i in range(iters):\n",
    "        \n",
    "        page = init_page + i\n",
    "        \n",
    "        url = \"https://yande.re/post?page={}&tags=\".format(page)+tag  \n",
    "        print(url)\n",
    "        try:    \n",
    "            print(\"正在获取第{}页的图片信息\".format(page))\n",
    "            r = requests.get(url, timeout=10)\n",
    "            r.raise_for_status()\n",
    "            good += 1\n",
    "        except:\n",
    "            print(\"获取第{}页时图片信息时出错\".format(page))\n",
    "            bad += 1\n",
    "            continue\n",
    "          \n",
    "        text = r.text\n",
    "        soup = bs(text, \"html.parser\")\n",
    "        \n",
    "        small_url = soup.find_all('img',attrs={\"class\":\"preview\"}) # 获得所有缩略图标签\n",
    "        \n",
    "        pic_code += [l.get('src').strip('.jpg').split('/')[-1] for l in small_url] # 获得图片码\n",
    "        pic_id += [l.parent.get('href').split('/')[-1] for l in small_url] # 获得图片id\n",
    "    print(\"获取完毕，共获取了{}页图片信息，失败了{}页\".format(good,bad))\n",
    "    return pic_code, pic_id\n"
   ]
  },
  {
   "cell_type": "markdown",
   "metadata": {},
   "source": [
    "### 根据下载链接下载图片"
   ]
  },
  {
   "cell_type": "code",
   "execution_count": 2,
   "metadata": {},
   "outputs": [],
   "source": [
    "#输入：储存的文件路径，图片名称，图片地址\n",
    "def download_picture(root,pic_name,url):\n",
    "    #path = root + pic_name + '.' + url.split('.')[-1] # 多了个.jpg\n",
    "    path = root + pic_name\n",
    "    try:\n",
    "        if not os.path.exists(root):\n",
    "            os.makedirs(root)\n",
    "        if not os.path.exists(path):\n",
    "            r = requests.get(url, timeout=10)\n",
    "            with open(path, 'wb') as f:\n",
    "                f.write(r.content)\n",
    "                f.close()\n",
    "                return '图片保存成功'\n",
    "        else:\n",
    "            return '图片重名或图片已存在'\n",
    "    except:\n",
    "        return '图片爬取失败'\n"
   ]
  },
  {
   "cell_type": "markdown",
   "metadata": {},
   "source": [
    "### 获取下载链接(已暂时淘汰)"
   ]
  },
  {
   "cell_type": "code",
   "execution_count": 236,
   "metadata": {},
   "outputs": [],
   "source": [
    "def get_download_url(url):\n",
    "    try:\n",
    "        r = requests.get(url, timeout=30) # 获取url网页信息，如时间超过30秒，引发异常\n",
    "        r.raise_for_status() # 若状态不是200，引发异常\n",
    "        r.encoding = r.apparent_encoding # 用更加靠谱的编码方式\n",
    "    except:\n",
    "        return None\n",
    "    \n",
    "    text = r.text\n",
    "    soup = bs(text, \"html.parser\")\n",
    "    #download_url = soup.find_all('a',id ='highres')[0].get('href') #中质量版\n",
    "    download_url = soup.find_all('img',id ='image')[0].get('src')\n",
    "    return download_url\n"
   ]
  },
  {
   "cell_type": "code",
   "execution_count": 238,
   "metadata": {},
   "outputs": [],
   "source": [
    "def 淘汰代码():\n",
    "    # 不淘汰的时候把这个函数头删去\n",
    "    root = 'D://pics//tag//'\n",
    "    name = 'pic'\n",
    "    for i,l in enumerate(link[:3]):\n",
    "        pic_name = name + str(i+1)\n",
    "\n",
    "        download_url = get_download_url(l)\n",
    "        if download_url==None:\n",
    "            print(\"第{}张图片的下载地址获取失败\".format(i+1))\n",
    "            continue\n",
    "        print(\"已获取第{}张图片的下载地址\".format(i+1))\n",
    "\n",
    "        info = download_picture(root,pic_name,download_url)\n",
    "        print(\"第{}张\".format(i+1)+info)\n"
   ]
  },
  {
   "cell_type": "code",
   "execution_count": 14,
   "metadata": {
    "scrolled": true
   },
   "outputs": [
    {
     "name": "stdout",
     "output_type": "stream",
     "text": [
      "获得第13页到第15页uncensored图片的ID和CODE\n",
      "https://yande.re/post?page=13&tags=uncensored\n",
      "正在获取第13页的图片信息\n",
      "https://yande.re/post?page=14&tags=uncensored\n",
      "正在获取第14页的图片信息\n",
      "https://yande.re/post?page=15&tags=uncensored\n",
      "正在获取第15页的图片信息\n",
      "获取完毕，共获取了3页图片信息，失败了0页\n",
      "共花费13.25s\n"
     ]
    }
   ],
   "source": [
    "import time\n",
    "t_start=time.time()\n",
    "\n",
    "tag=\"uncensored\"\n",
    "pic_code, pic_id = get_id_code(tag,page_range=(13,15))\n",
    "t_end=time.time()\n",
    "t_total = round(t_end- t_start,2)\n",
    "\n",
    "print(\"共花费{}s\".format(t_total))"
   ]
  },
  {
   "cell_type": "code",
   "execution_count": 15,
   "metadata": {},
   "outputs": [
    {
     "data": {
      "text/plain": [
       "120"
      ]
     },
     "execution_count": 15,
     "metadata": {},
     "output_type": "execute_result"
    }
   ],
   "source": [
    "len(pic_code)"
   ]
  },
  {
   "cell_type": "code",
   "execution_count": 16,
   "metadata": {},
   "outputs": [
    {
     "name": "stdout",
     "output_type": "stream",
     "text": [
      " 第120张图片保存成功!总时间:480.15s,这张图片花费时间:15.53s。成功34张，失败86张\n",
      "下载完毕，共保存了34张图片，失败了86张\n"
     ]
    }
   ],
   "source": [
    "main_url = \"https://files.yande.re/sample/\"\n",
    "root = 'D://pics//' + tag + '//'\n",
    "\n",
    "t_start = time.time()\n",
    "fail = 0 # 记录保存失败的次数\n",
    "success = 0\n",
    "for i,(code,pid) in enumerate(zip(pic_code,pic_id)):\n",
    "    t_mid = time.time()\n",
    "    \n",
    "    pic_name = pid + \".jpg\" # 给图片命名\n",
    "    download_url = main_url + code + '/' + pic_name # 图片下载链接\n",
    "    info = download_picture(root,pic_name,download_url) # 下载图片\n",
    "    \n",
    "    t_end=time.time()\n",
    "    t_total = t_end - t_start # 花费的总时间\n",
    "    t_iter = t_end - t_mid # 这次迭代花费的时间\n",
    "    \n",
    "    msg1 = \"第{}张\".format(i+1)+info+\"!\"\n",
    "    msg2 = \"总时间:{:5.2f}s,这张图片花费时间:{:2.2f}s。\".format(t_total,t_iter)\n",
    "    if info == '图片保存成功':\n",
    "        success += 1\n",
    "    else:\n",
    "        fail += 1\n",
    "    msg3 = \"成功{}张，失败{}张\".format(success,fail)\n",
    "    print(\"\\r\",msg1+msg2+msg3,end=\"\",flush=True)\n",
    "    \n",
    "    \n",
    "print(\"\\n下载完毕，共保存了{}张图片，失败了{}张\".format(success,fail))\n"
   ]
  },
  {
   "cell_type": "markdown",
   "metadata": {},
   "source": [
    "统计已保存图片数量\n",
    "\n",
    "日期等\n"
   ]
  },
  {
   "cell_type": "code",
   "execution_count": 339,
   "metadata": {},
   "outputs": [
    {
     "name": "stdout",
     "output_type": "stream",
     "text": [
      "倒计时程序\n",
      " 5秒nihao\n",
      " 4秒nihao\n",
      " 3秒nihao\n",
      " 2秒nihao\n",
      " 1秒nihao\n",
      " 0秒nihao\n"
     ]
    }
   ],
   "source": [
    "import time\n",
    "\n",
    "print(\"倒计时程序\")\n",
    "\n",
    "for x in range(5,-1,-1):\n",
    "\n",
    "    mystr = str(x) + \"秒\"\n",
    "    print(\"\\r\",mystr,end=\"\",flush=True)\n",
    "    print(\"nihao\")\n",
    "    time.sleep(1)\n",
    "\n",
    "    "
   ]
  },
  {
   "cell_type": "code",
   "execution_count": 329,
   "metadata": {},
   "outputs": [
    {
     "data": {
      "text/plain": [
       "16"
      ]
     },
     "execution_count": 329,
     "metadata": {},
     "output_type": "execute_result"
    }
   ],
   "source": [
    "print(\"\\r\",object,end=\"\",flush=True)"
   ]
  },
  {
   "cell_type": "code",
   "execution_count": 11,
   "metadata": {},
   "outputs": [],
   "source": [
    "import os ,os.path ,time\n",
    "\n",
    "def rename(file,keyword):\n",
    "    ''' file: 文件路径    keyWord: 需要修改的文件中所包含的关键字 '''\n",
    "    start =time.clock()\n",
    "    os.chdir(file) # \n",
    "    items = os.listdir(file)\n",
    "    print(os.getcwd())\n",
    "    for name in items :\n",
    "        print(name)\n",
    "        # 遍历所有文件\n",
    "        if not os.path.isdir(name):\n",
    "            if keyword not in name :\n",
    "                new_name = name+'.jpg'\n",
    "                os.renames(name,new_name)\n",
    "        else:\n",
    "            rename(file + '\\\\' + name, keyword)\n",
    "            os.chdir('...')      \n",
    "    print('-----------------------分界线------------------------')\n",
    "    items = os.listdir(file)\n",
    "    for name in items:\n",
    "        print(name)\n",
    "        \n",
    "#rename('D://pics//' + tag + '//', '.jpg')"
   ]
  },
  {
   "cell_type": "code",
   "execution_count": null,
   "metadata": {},
   "outputs": [],
   "source": []
  }
 ],
 "metadata": {
  "kernelspec": {
   "display_name": "Python 3",
   "language": "python",
   "name": "python3"
  },
  "language_info": {
   "codemirror_mode": {
    "name": "ipython",
    "version": 3
   },
   "file_extension": ".py",
   "mimetype": "text/x-python",
   "name": "python",
   "nbconvert_exporter": "python",
   "pygments_lexer": "ipython3",
   "version": "3.6.5"
  }
 },
 "nbformat": 4,
 "nbformat_minor": 2
}
