{
 "cells": [
  {
   "cell_type": "markdown",
   "metadata": {},
   "source": [
    "# 栈\n",
    "- 后缀表达式：`62/3-42*+`求值\n",
    "\n",
    "- 思考一下顺序存储的栈是怎么定义的。pop push 空 满\n",
    "\n",
    "- 顺序存储结构可以存储双堆栈，想想是怎么实现的。pop push 空 满\n",
    "\n",
    "- `2+9/3-5`如何转后缀表达式：(运算符号入栈，遇到优先级相等或低的出栈)293/+5-\n",
    "\n",
    "- `a*(b+c)/d`如何转后缀表达式：(左括号优先级无限高，右括号无限低，相遇则消失)abc+*d/"
   ]
  },
  {
   "cell_type": "code",
   "execution_count": 27,
   "metadata": {},
   "outputs": [],
   "source": [
    "class Stack(object):\n",
    "    def __init__(self):\n",
    "        self.val = None\n",
    "        self.next = None\n",
    "        \n",
    "    def isempty(self):\n",
    "        return False if self.next is not None else True\n",
    "    \n",
    "    def pop(self):\n",
    "        if self.isempty():\n",
    "            raise ValueError('栈空')\n",
    "            \n",
    "        node = self.next\n",
    "        val = node.val\n",
    "        self.next = node.next\n",
    "        del node\n",
    "        return val\n",
    "    \n",
    "    def push(self, val):\n",
    "        node = Stack()\n",
    "        node.val = val\n",
    "        node.next = self.next\n",
    "        self.next = node\n",
    "        \n",
    "    # 专门用来打印栈内元素\n",
    "    def __iter__(self):\n",
    "        node = self.next\n",
    "        while node:\n",
    "            yield node.val\n",
    "            node = node.next"
   ]
  },
  {
   "cell_type": "code",
   "execution_count": 47,
   "metadata": {},
   "outputs": [
    {
     "name": "stdout",
     "output_type": "stream",
     "text": [
      "[14, 58]\n"
     ]
    }
   ],
   "source": [
    "s = Stack()\n",
    "s.push(58)  # \n",
    "s.push(14)\n",
    "print(list(s))"
   ]
  },
  {
   "cell_type": "code",
   "execution_count": 45,
   "metadata": {},
   "outputs": [
    {
     "data": {
      "text/plain": [
       "[5, 14, 58]"
      ]
     },
     "execution_count": 45,
     "metadata": {},
     "output_type": "execute_result"
    }
   ],
   "source": [
    "s.push(5)\n",
    "list(s)"
   ]
  },
  {
   "cell_type": "code",
   "execution_count": 46,
   "metadata": {},
   "outputs": [
    {
     "data": {
      "text/plain": [
       "[14, 58]"
      ]
     },
     "execution_count": 46,
     "metadata": {},
     "output_type": "execute_result"
    }
   ],
   "source": [
    "s.pop()\n",
    "list(s)"
   ]
  },
  {
   "cell_type": "markdown",
   "metadata": {},
   "source": [
    "# 队列\n",
    "- 顺环队列怎么判断队空对满，idx // ？\n",
    "\n",
    "- 链式存储，好好思考front处在链表的头还是尾"
   ]
  },
  {
   "cell_type": "code",
   "execution_count": 217,
   "metadata": {},
   "outputs": [],
   "source": [
    "class Node(object):\n",
    "    def __init__(self):\n",
    "        self.val = None\n",
    "        self.next = None\n",
    "class Queue(object):\n",
    "    def __init__(self):\n",
    "        self.front = None\n",
    "        self.rear = None\n",
    "        self.len = 0\n",
    "        \n",
    "    def add(self, val):\n",
    "        node = Node()\n",
    "        node.val = val\n",
    "        \n",
    "        if self.len == 0:\n",
    "            self.front = node\n",
    "            self.rear = node\n",
    "        else:\n",
    "            self.rear.next = node\n",
    "            self.rear = node\n",
    "        self.len += 1\n",
    "    \n",
    "    def delete(self):\n",
    "        node = self.front\n",
    "        val = node.val\n",
    "\n",
    "        if self.front == self.rear:\n",
    "            print('删除最后一个元素')\n",
    "            self.front = None\n",
    "            self.rear = None\n",
    "        else:\n",
    "            self.front = node.next\n",
    "        del node\n",
    "        self.len -= 1\n",
    "        return val\n",
    "        \n",
    "        \n",
    "        return val\n",
    "    def __iter__(self):\n",
    "        \n",
    "        node = self.front\n",
    "        while node != q.rear:\n",
    "            yield node.val\n",
    "            node = node.next\n",
    "        if node is not None:\n",
    "            yield node.val"
   ]
  },
  {
   "cell_type": "code",
   "execution_count": 218,
   "metadata": {},
   "outputs": [],
   "source": [
    "q = Queue()"
   ]
  },
  {
   "cell_type": "code",
   "execution_count": 219,
   "metadata": {},
   "outputs": [
    {
     "name": "stdout",
     "output_type": "stream",
     "text": [
      "[0] 1\n",
      "[0, 1] 2\n",
      "[0, 1, 2] 3\n",
      "[0, 1, 2, 3] 4\n"
     ]
    }
   ],
   "source": [
    "for i in range(4):\n",
    "    q.add(i)\n",
    "    print(list(q), q.len)"
   ]
  },
  {
   "cell_type": "code",
   "execution_count": 225,
   "metadata": {
    "scrolled": true
   },
   "outputs": [
    {
     "name": "stdout",
     "output_type": "stream",
     "text": [
      "删除最后一个元素\n"
     ]
    },
    {
     "data": {
      "text/plain": [
       "([], 0)"
      ]
     },
     "execution_count": 225,
     "metadata": {},
     "output_type": "execute_result"
    }
   ],
   "source": [
    "q.delete()\n",
    "list(q), q.len"
   ]
  },
  {
   "cell_type": "code",
   "execution_count": 223,
   "metadata": {
    "scrolled": true
   },
   "outputs": [
    {
     "data": {
      "text/plain": [
       "[3, 4]"
      ]
     },
     "execution_count": 223,
     "metadata": {},
     "output_type": "execute_result"
    }
   ],
   "source": [
    "q.add(4)\n",
    "list(q)"
   ]
  },
  {
   "cell_type": "code",
   "execution_count": null,
   "metadata": {},
   "outputs": [],
   "source": []
  }
 ],
 "metadata": {
  "kernelspec": {
   "display_name": "Python 3",
   "language": "python",
   "name": "python3"
  },
  "language_info": {
   "codemirror_mode": {
    "name": "ipython",
    "version": 3
   },
   "file_extension": ".py",
   "mimetype": "text/x-python",
   "name": "python",
   "nbconvert_exporter": "python",
   "pygments_lexer": "ipython3",
   "version": "3.7.1"
  },
  "toc": {
   "base_numbering": 1,
   "nav_menu": {},
   "number_sections": true,
   "sideBar": true,
   "skip_h1_title": false,
   "title_cell": "Table of Contents",
   "title_sidebar": "Contents",
   "toc_cell": false,
   "toc_position": {},
   "toc_section_display": true,
   "toc_window_display": true
  },
  "varInspector": {
   "cols": {
    "lenName": 16,
    "lenType": 16,
    "lenVar": 40
   },
   "kernels_config": {
    "python": {
     "delete_cmd_postfix": "",
     "delete_cmd_prefix": "del ",
     "library": "var_list.py",
     "varRefreshCmd": "print(var_dic_list())"
    },
    "r": {
     "delete_cmd_postfix": ") ",
     "delete_cmd_prefix": "rm(",
     "library": "var_list.r",
     "varRefreshCmd": "cat(var_dic_list()) "
    }
   },
   "types_to_exclude": [
    "module",
    "function",
    "builtin_function_or_method",
    "instance",
    "_Feature"
   ],
   "window_display": false
  }
 },
 "nbformat": 4,
 "nbformat_minor": 2
}
