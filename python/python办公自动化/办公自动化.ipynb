{
 "cells": [
  {
   "cell_type": "markdown",
   "metadata": {},
   "source": [
    "# openpyxl"
   ]
  },
  {
   "cell_type": "markdown",
   "metadata": {},
   "source": [
    "https://openpyxl.readthedocs.io/en/stable/"
   ]
  },
  {
   "cell_type": "code",
   "execution_count": 33,
   "metadata": {
    "ExecuteTime": {
     "end_time": "2021-11-09T05:38:15.649686Z",
     "start_time": "2021-11-09T05:38:15.472159Z"
    }
   },
   "outputs": [],
   "source": [
    "# 读取原数据\n",
    "from openpyxl import Workbook, load_workbook\n",
    "from openpyxl.utils import get_column_letter\n",
    "from openpyxl.styles import Alignment, Font\n",
    "import xlrd\n",
    "ori_excel = xlrd.open_workbook('1.xlsx')\n",
    "sheet = ori_excel.sheet_by_index(0)\n",
    "data = list()\n",
    "# start_row = \n",
    "for i in range(7, sheet.nrows):\n",
    "    values = sheet.row_values(i)\n",
    "    d = dict()\n",
    "    d['位号'] =values[2] \n",
    "    d['用途'] =values[3]\n",
    "    d['数量'] =int(values[4])\n",
    "    d['管号'] =values[6]\n",
    "    d['管道尺寸'] =values[9]\n",
    "    d['管道材质'] =values[10]\n",
    "    d['PID'] =int(values[5])\n",
    "    d['流体'] =values[12]\n",
    "    d['温度正常'] =int(values[15])\n",
    "    d['温度最高'] =int(values[14])\n",
    "    d['压力正常'] =int(values[18])\n",
    "    d['压力最高'] =int(values[17])\n",
    "    d['密度'] = int(values[19])\n",
    "    data.append(d)"
   ]
  },
  {
   "cell_type": "code",
   "execution_count": 36,
   "metadata": {
    "ExecuteTime": {
     "end_time": "2021-11-09T05:48:44.495273Z",
     "start_time": "2021-11-09T05:48:44.092322Z"
    }
   },
   "outputs": [],
   "source": [
    "wb = load_workbook(filename='2.xlsx')\n",
    "ws = wb[wb.sheetnames[0]]"
   ]
  },
  {
   "cell_type": "code",
   "execution_count": 230,
   "metadata": {
    "ExecuteTime": {
     "end_time": "2021-11-09T08:08:44.539494Z",
     "start_time": "2021-11-09T08:08:44.525531Z"
    }
   },
   "outputs": [],
   "source": [
    "def set_value(value, ws, position, merge_range):\n",
    "    ws[position].value = value\n",
    "    ws.merge_cells(merge_range)\n",
    "    ws[position].alignment = Alignment(horizontal='center', vertical='center')\n",
    "\n",
    "# def fill_values(d, ws, save_path):\n",
    "#     # 位号 Tag Number\n",
    "#     set_value(d['位号'], ws, position='X8', merge_range='X8:AG8')\n",
    "#     set_value(d['数量'], ws, position='AH8', merge_range='AH8:AQ8')\n",
    "#     set_value(d['用途'], ws, position='X9', merge_range='X9:AG9')\n",
    "#     set_value(d['管号'], ws, position='X10', merge_range='X10:AG10')\n",
    "#     set_value(d['管道尺寸'], ws, position='X11', merge_range='X11:AG11')\n",
    "#     set_value(d['管道材质'], ws, position='X13', merge_range='X13:AG13')\n",
    "#     set_value(d['PID'], ws, position='X14', merge_range='X14:AG14')\n",
    "#     set_value(d['流体'], ws, position='X16', merge_range='X16:AG16')\n",
    "\n",
    "#     set_value(d['温度正常'], ws, position='AC18', merge_range='AC18:AG18')\n",
    "#     set_value(d['温度最高'], ws, position='AH18', merge_range='AH18:AL18')\n",
    "#     set_value(d['压力正常'], ws, position='AC19', merge_range='AC19:AG19')\n",
    "#     set_value(d['压力最高'], ws, position='AH19', merge_range='AH19:AL19')\n",
    "#     set_value(d['密度'], ws, position='AC21', merge_range='AC21:AG21')\n",
    "\n",
    "#     # 调整字体\n",
    "#     for row in ws.rows:\n",
    "#         for cell in row:\n",
    "#             if not cell.value:\n",
    "#                 continue\n",
    "#             params = {\n",
    "#                 'family': cell.font.family,\n",
    "#                 'b': cell.font.b,\n",
    "#                 'sz': cell.font.sz,\n",
    "#                 'charset': cell.font.charset,\n",
    "#             }\n",
    "#             cell.font = Font(name=u'宋体')\n",
    "#             cell.font = Font(name='Times New Roman', **params)\n",
    "\n",
    "    # 保存文件\n",
    "#     wb.save(save_path)\n",
    "from tqdm.auto import tqdm\n"
   ]
  },
  {
   "cell_type": "markdown",
   "metadata": {},
   "source": [
    "# 拷贝区域"
   ]
  },
  {
   "cell_type": "code",
   "execution_count": 209,
   "metadata": {
    "ExecuteTime": {
     "end_time": "2021-11-09T07:48:00.251453Z",
     "start_time": "2021-11-09T07:48:00.237487Z"
    }
   },
   "outputs": [],
   "source": [
    "import copy\n",
    "from tqdm.auto import tqdm\n",
    "\n",
    "\n",
    "def copy_cell(src_cell, dst_cell):\n",
    "    # print(src_cell.value)\n",
    "    dst_cell.value = src_cell.value\n",
    "    dst_cell.border = copy.copy(src_cell.border)\n",
    "    dst_cell.font = copy.copy(src_cell.font)\n",
    "    dst_cell._style = copy.copy(src_cell._style)\n",
    "    dst_cell.fill = copy.copy(src_cell.fill)\n",
    "    dst_cell.number_format = copy.copy(src_cell.number_format)\n",
    "    dst_cell.protection = copy.copy(src_cell.protection)\n",
    "    dst_cell.alignment  = copy.copy(src_cell.alignment)\n",
    "    \n",
    "\n",
    "def copy_sheet_range(ws, sheet_area, num):\n",
    "    merge_ranges = []\n",
    "    for cell_range in ws.merged_cells.ranges:\n",
    "        merge_ranges.append(cell_range.bounds)\n",
    "    \n",
    "    length = len(sheet_area)\n",
    "    for i in range(num):\n",
    "        shift = (length + 1) * (i + 1)\n",
    "        # print(shift)\n",
    "        for j, rows in tqdm(enumerate(sheet_area), total=length):\n",
    "            ws.row_dimensions[j+shift].height = ws.row_dimensions[j].height\n",
    "            for k, cell in enumerate(rows):\n",
    "                dst_cell = ws[cell.row + shift][cell.column-1]\n",
    "                copy_cell(cell, dst_cell)\n",
    "\n",
    "        for start_column, start_row, end_column, end_row in merge_ranges:\n",
    "            ws.merge_cells(start_row=start_row+shift, start_column=start_column, end_row=end_row+shift, end_column=end_column)\n",
    "        \n",
    "        \n",
    "def set_cell_font(ws):\n",
    "        # 调整字体\n",
    "    for row in tqdm(ws.rows, total=ws.max_row):\n",
    "        for cell in row:\n",
    "            if not cell.value:\n",
    "                continue\n",
    "            params = {\n",
    "                'family': cell.font.family,\n",
    "                'b': cell.font.b,\n",
    "                'sz': 10,\n",
    "                'charset': cell.font.charset,\n",
    "            }\n",
    "            cell.font = Font(name=u'宋体')\n",
    "            if type(cell.value) is str and '订货' not in cell.value:\n",
    "                cell.font = Font(name='Times New Roman', **params)"
   ]
  },
  {
   "cell_type": "code",
   "execution_count": 76,
   "metadata": {
    "ExecuteTime": {
     "end_time": "2021-11-09T06:04:13.894248Z",
     "start_time": "2021-11-09T06:04:13.544130Z"
    }
   },
   "outputs": [],
   "source": [
    "wb = load_workbook(filename='2.xlsx')\n",
    "ws = wb[wb.sheetnames[0]]\n",
    "set_cell_font(ws)\n",
    "copy_sheet_range(ws, sheet_area=ws['B2:AQ64'], num=2)\n",
    "wb.save('2325.xlsx')"
   ]
  },
  {
   "cell_type": "markdown",
   "metadata": {
    "ExecuteTime": {
     "end_time": "2021-11-09T05:52:04.141865Z",
     "start_time": "2021-11-09T05:52:03.721467Z"
    }
   },
   "source": [
    "# PDF识别\n"
   ]
  },
  {
   "cell_type": "code",
   "execution_count": null,
   "metadata": {},
   "outputs": [],
   "source": [
    "import pdfplumber\n",
    "import pandas as pd"
   ]
  },
  {
   "cell_type": "code",
   "execution_count": 234,
   "metadata": {
    "ExecuteTime": {
     "end_time": "2021-11-09T08:22:51.638285Z",
     "start_time": "2021-11-09T08:22:51.630302Z"
    }
   },
   "outputs": [
    {
     "data": {
      "text/plain": [
       "['-59', '77', '-23']"
      ]
     },
     "execution_count": 234,
     "metadata": {},
     "output_type": "execute_result"
    }
   ],
   "source": [
    "re.findall(r'-?\\d+', 'asdfasdf -59, 77, -23')"
   ]
  },
  {
   "cell_type": "code",
   "execution_count": 254,
   "metadata": {
    "ExecuteTime": {
     "end_time": "2021-11-09T08:52:33.752335Z",
     "start_time": "2021-11-09T08:52:33.701435Z"
    },
    "code_folding": []
   },
   "outputs": [],
   "source": [
    "import re\n",
    "\n",
    "def get_table_data(tables):\n",
    "    d = dict()\n",
    "\n",
    "    d['位号'] = tables[0][5][1][4:]\n",
    "    if len(tables) <= 1:\n",
    "        return d\n",
    "    \n",
    "    d['数量'] = tables[1][1][1].replace('Quantity ', '')\n",
    "    # d['pipe_class'] = tables[1][6][1].replace('Process Medium Spent', '').strip()\n",
    "    d['管道编号'] = tables[1][8][1].replace('Pipe Class', '').strip()\n",
    "    d['设备编号'] = tables[1][8][6].replace('Vessel Number', '').strip()\n",
    "\n",
    "    ans = re.search(r'(DN) \\d+',tables[1][10][1])\n",
    "    d['管道尺寸'] = ans.group(0).replace(' ', '') if ans else ''\n",
    "\n",
    "    ans = re.search(r'(PN) \\d+',tables[1][10][1])\n",
    "    d['管道等级'] = ans.group(0).replace(' ', '') if ans else ''\n",
    "\n",
    "    if 'liquid' in tables[1][6][6]:\n",
    "        state = '液'\n",
    "    elif 'gaseous' in tables[1][6][6]:\n",
    "        state = '气'\n",
    "    else:\n",
    "        state = '无'\n",
    "    d['状态'] = state\n",
    "\n",
    "    d['管道材质'] = tables[1][12][6].replace('Vessel Material', '').strip()\n",
    "    \n",
    "    r = re.compile(r'(-?\\d+,?\\d+)')\n",
    "    ans = r.search(tables[1][18][4])\n",
    "    d['温度最小'] = ans.group(1).replace(',', '.') if ans else ''\n",
    "    ans = r.search(tables[1][18][2])\n",
    "    d['温度正常'] = ans.group(1).replace(',', '.') if ans else ''\n",
    "    ans = r.search(tables[1][18][7])\n",
    "    d['温度最大'] = ans.group(1).replace(',', '.') if ans else ''\n",
    "\n",
    "    d['温度单位'] = tables[1][18][10].split(',')[0]\n",
    "\n",
    "    ans = r.search(tables[1][15][4])\n",
    "    d['压力最小'] = ans.group(1).replace(',', '.') if ans else ''\n",
    "    ans = r.search(tables[1][15][2])\n",
    "    d['压力正常'] = ans.group(1).replace(',', '.') if ans else ''\n",
    "    ans = r.search(tables[1][15][7])\n",
    "    d['压力最大'] = ans.group(1).replace(',', '.') if ans else ''\n",
    "    d['压力单位'] = tables[1][15][10].split(',')[0]\n",
    "\n",
    "    ans = r.search(tables[1][17][4])\n",
    "    d['差压最小'] = ans.group(1).replace(',', '.') if ans else ''\n",
    "    ans = r.search(tables[1][17][2])\n",
    "    d['差压正常'] = ans.group(1).replace(',', '.') if ans else ''\n",
    "    ans = r.search(tables[1][17][7])\n",
    "    d['差压最大'] = ans.group(1).replace(',', '.') if ans else ''\n",
    "    d['差压单位'] = tables[1][17][10].split(',')[0]\n",
    "\n",
    "    ans = r.search(tables[1][19][4])\n",
    "    d['密度最小'] = ans.group(1).replace(',', '.') if ans else ''\n",
    "    ans = r.search(tables[1][19][2])\n",
    "    d['密度正常'] = ans.group(1).replace(',', '.') if ans else ''\n",
    "    ans = r.search(tables[1][19][7])\n",
    "    d['密度最大'] = ans.group(1).replace(',', '.') if ans else ''\n",
    "    d['密度单位'] = tables[1][19][10].split(',')[0]\n",
    "    return d"
   ]
  },
  {
   "cell_type": "code",
   "execution_count": 247,
   "metadata": {
    "ExecuteTime": {
     "end_time": "2021-11-09T08:48:06.736252Z",
     "start_time": "2021-11-09T08:48:06.732263Z"
    }
   },
   "outputs": [],
   "source": [
    "r = re.compile(r'(-?\\d+,?\\d+)')"
   ]
  },
  {
   "cell_type": "code",
   "execution_count": null,
   "metadata": {},
   "outputs": [],
   "source": []
  },
  {
   "cell_type": "code",
   "execution_count": 248,
   "metadata": {
    "ExecuteTime": {
     "end_time": "2021-11-09T08:48:07.475164Z",
     "start_time": "2021-11-09T08:48:07.468149Z"
    }
   },
   "outputs": [
    {
     "data": {
      "text/plain": [
       "['-1,34', '0,310']"
      ]
     },
     "execution_count": 248,
     "metadata": {},
     "output_type": "execute_result"
    }
   ],
   "source": [
    "r.findall('asdfasdf -1,34 asdf 0,310 asdf')"
   ]
  },
  {
   "cell_type": "code",
   "execution_count": 250,
   "metadata": {
    "ExecuteTime": {
     "end_time": "2021-11-09T08:50:30.948151Z",
     "start_time": "2021-11-09T08:50:30.895291Z"
    },
    "code_folding": [
     0
    ]
   },
   "outputs": [],
   "source": [
    "def set_value(value, ws, position, merge_range):\n",
    "    ws[position].value = value\n",
    "    ws.merge_cells(merge_range)\n",
    "    ws[position].alignment = Alignment(horizontal='center', vertical='center')\n",
    "\n",
    "def fill_values(d, ws, shift=0):\n",
    "    # 位号 Tag Number\n",
    "    set_value(d['位号'], ws, position=f'X{8+shift}', merge_range=f'X{8+shift}:AG{8+shift}')\n",
    "    \n",
    "    if '数量' not in d:\n",
    "        return \n",
    "    \n",
    "    set_value(d['数量'], ws, position=f'AH{8+shift}', merge_range=f'AH{8+shift}:AQ{8+shift}')\n",
    "    \n",
    "    set_value(d['管道编号'], ws, position=f'X{10+shift}', merge_range=f'X{10+shift}:AG{10+shift}')\n",
    "    set_value(d['设备编号'], ws, position=f'AH{10+shift}', merge_range=f'AH{10+shift}:AQ{10+shift}')\n",
    "    \n",
    "    set_value(d['管道尺寸'], ws, position=f'X{11+shift}', merge_range=f'X{11+shift}:AG{11+shift}')\n",
    "    set_value(d['管道等级'], ws, position=f'AH{11+shift}', merge_range=f'AH{11+shift}:AQ{11+shift}')\n",
    "    \n",
    "    set_value(d['管道材质'], ws, position=f'X{13+shift}', merge_range=f'X{13+shift}:AG{13+shift}')\n",
    "    \n",
    "    set_value(d['状态'], ws, position=f'AH{16+shift}', merge_range=f'AH{16+shift}:AQ{16+shift}')\n",
    "    \n",
    "    index = 18 + shift\n",
    "    set_value(d['温度最小'], ws, position=f'X{index}', merge_range=f'X{index}:AB{index}')\n",
    "    set_value(d['温度正常'], ws, position=f'AC{index}', merge_range=f'AC{index}:AG{index}')\n",
    "    set_value(d['温度最大'], ws, position=f'AH{index}', merge_range=f'AH{index}:AL{index}')\n",
    "    set_value(d['温度单位'], ws, position=f'AM{index}', merge_range=f'AM{index}:AQ{index}')\n",
    "    index = 19 + shift\n",
    "    set_value(d['压力最小'], ws, position=f'X{index}', merge_range=f'X{index}:AB{index}')\n",
    "    set_value(d['压力正常'], ws, position=f'AC{index}', merge_range=f'AC{index}:AG{index}')\n",
    "    set_value(d['压力最大'], ws, position=f'AH{index}', merge_range=f'AH{index}:AL{index}')\n",
    "    set_value(d['压力单位'], ws, position=f'AM{index}', merge_range=f'AM{index}:AQ{index}')\n",
    "    index = 20 + shift\n",
    "    set_value(d['差压最小'], ws, position=f'X{index}', merge_range=f'X{index}:AB{index}')\n",
    "    set_value(d['差压正常'], ws, position=f'AC{index}', merge_range=f'AC{index}:AG{index}')\n",
    "    set_value(d['差压最大'], ws, position=f'AH{index}', merge_range=f'AH{index}:AL{index}')\n",
    "    set_value(d['差压单位'], ws, position=f'AM{index}', merge_range=f'AM{index}:AQ{index}')\n",
    "    index = 21 + shift\n",
    "    set_value(d['密度最小'], ws, position=f'X{index}', merge_range=f'X{index}:AB{index}')\n",
    "    set_value(d['密度正常'], ws, position=f'AC{index}', merge_range=f'AC{index}:AG{index}')\n",
    "    set_value(d['密度最大'], ws, position=f'AH{index}', merge_range=f'AH{index}:AL{index}')\n",
    "    set_value(d['密度单位'], ws, position=f'AM{index}', merge_range=f'AM{index}:AQ{index}')"
   ]
  },
  {
   "cell_type": "code",
   "execution_count": null,
   "metadata": {},
   "outputs": [],
   "source": [
    "# df = pd.DataFrame(table[1:], columns=table[0])\n",
    "pdf = pdfplumber.open(\"202386_M669_I-110_Transmitter (Standard)_Rev00.pdf\")\n",
    "p = pdf.pages[3]\n",
    "tables = p.extract_tables()\n",
    "print('总共%s个表' % len(tables))"
   ]
  },
  {
   "cell_type": "code",
   "execution_count": 251,
   "metadata": {
    "ExecuteTime": {
     "end_time": "2021-11-09T08:50:36.473878Z",
     "start_time": "2021-11-09T08:50:36.469889Z"
    }
   },
   "outputs": [],
   "source": [
    "# wb = load_workbook(filename='2.xlsx')\n",
    "# ws = wb[wb.sheetnames[0]]\n",
    "# set_cell_font(ws)\n",
    "# copy_sheet_range(ws, sheet_area=ws['B2:AQ64'], num=74)\n",
    "# wb.save('step1.xlsx')"
   ]
  },
  {
   "cell_type": "code",
   "execution_count": 252,
   "metadata": {
    "ExecuteTime": {
     "end_time": "2021-11-09T08:51:02.737593Z",
     "start_time": "2021-11-09T08:50:38.733305Z"
    }
   },
   "outputs": [
    {
     "data": {
      "application/vnd.jupyter.widget-view+json": {
       "model_id": "84df7c062acd4e4f9e59844a072afdbc",
       "version_major": 2,
       "version_minor": 0
      },
      "text/plain": [
       "HBox(children=(IntProgress(value=0, max=4736), HTML(value='')))"
      ]
     },
     "metadata": {},
     "output_type": "display_data"
    },
    {
     "name": "stdout",
     "output_type": "stream",
     "text": [
      "\n"
     ]
    }
   ],
   "source": [
    "wb = load_workbook(filename='step1.xlsx')\n",
    "ws = wb[wb.sheetnames[0]]\n",
    "set_cell_font(ws)"
   ]
  },
  {
   "cell_type": "code",
   "execution_count": 255,
   "metadata": {
    "ExecuteTime": {
     "end_time": "2021-11-09T08:53:34.528468Z",
     "start_time": "2021-11-09T08:52:39.600429Z"
    }
   },
   "outputs": [
    {
     "data": {
      "application/vnd.jupyter.widget-view+json": {
       "model_id": "655f0946c12f4b09863d6685b377c6fc",
       "version_major": 2,
       "version_minor": 0
      },
      "text/plain": [
       "HBox(children=(IntProgress(value=0, max=74), HTML(value='')))"
      ]
     },
     "metadata": {},
     "output_type": "display_data"
    },
    {
     "name": "stdout",
     "output_type": "stream",
     "text": [
      "\n"
     ]
    }
   ],
   "source": [
    "for i in tqdm(range(74)):\n",
    "    shift = i * 64\n",
    "    p = pdf.pages[3+i]\n",
    "    tables = p.extract_tables()\n",
    "    d = get_table_data(tables)\n",
    "    fill_values(d, ws, shift=shift)\n",
    "    # print(d)"
   ]
  },
  {
   "cell_type": "code",
   "execution_count": null,
   "metadata": {},
   "outputs": [],
   "source": []
  },
  {
   "cell_type": "code",
   "execution_count": 256,
   "metadata": {
    "ExecuteTime": {
     "end_time": "2021-11-09T08:54:54.246204Z",
     "start_time": "2021-11-09T08:54:50.014473Z"
    }
   },
   "outputs": [],
   "source": [
    "wb.save('step2.xlsx')"
   ]
  },
  {
   "cell_type": "code",
   "execution_count": null,
   "metadata": {},
   "outputs": [],
   "source": []
  }
 ],
 "metadata": {
  "kernelspec": {
   "display_name": "Python [conda env:root] *",
   "language": "python",
   "name": "conda-root-py"
  },
  "language_info": {
   "codemirror_mode": {
    "name": "ipython",
    "version": 3
   },
   "file_extension": ".py",
   "mimetype": "text/x-python",
   "name": "python",
   "nbconvert_exporter": "python",
   "pygments_lexer": "ipython3",
   "version": "3.7.4"
  },
  "toc": {
   "base_numbering": 1,
   "nav_menu": {},
   "number_sections": true,
   "sideBar": true,
   "skip_h1_title": false,
   "title_cell": "Table of Contents",
   "title_sidebar": "Contents",
   "toc_cell": false,
   "toc_position": {
    "height": "calc(100% - 180px)",
    "left": "10px",
    "top": "150px",
    "width": "281.6px"
   },
   "toc_section_display": true,
   "toc_window_display": true
  }
 },
 "nbformat": 4,
 "nbformat_minor": 2
}
